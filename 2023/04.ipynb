{
 "cells": [
  {
   "cell_type": "markdown",
   "id": "5cf5774a",
   "metadata": {},
   "source": [
    "## Load input"
   ]
  },
  {
   "cell_type": "markdown",
   "id": "729844ba",
   "metadata": {},
   "source": [
    "##### True Input"
   ]
  },
  {
   "cell_type": "code",
   "execution_count": 35,
   "id": "d4ceee13",
   "metadata": {},
   "outputs": [],
   "source": [
    "with open(\"input/04\", \"r\" ) as fp:\n",
    "    txt = fp.read()[:-1]\n",
    "\n",
    "lines = txt.split(\"\\n\")"
   ]
  },
  {
   "cell_type": "markdown",
   "id": "9b349d4e",
   "metadata": {},
   "source": [
    "##### Test"
   ]
  },
  {
   "cell_type": "code",
   "execution_count": 27,
   "id": "da5b5f1f",
   "metadata": {},
   "outputs": [],
   "source": [
    "txt_test = \"\"\"Card 1: 41 48 83 86 17 | 83 86  6 31 17  9 48 53\n",
    "Card 2: 13 32 20 16 61 | 61 30 68 82 17 32 24 19\n",
    "Card 3:  1 21 53 59 44 | 69 82 63 72 16 21 14  1\n",
    "Card 4: 41 92 73 84 69 | 59 84 76 51 58  5 54 83\n",
    "Card 5: 87 83 26 28 32 | 88 30 70 12 93 22 82 36\n",
    "Card 6: 31 18 13 56 72 | 74 77 10 23 35 67 36 11\"\"\"\n",
    "\n",
    "lines = txt_test.split(\"\\n\")"
   ]
  },
  {
   "cell_type": "markdown",
   "id": "b58baa32",
   "metadata": {},
   "source": [
    "## Part 1"
   ]
  },
  {
   "cell_type": "markdown",
   "id": "ccf30fc3",
   "metadata": {},
   "source": [
    "### Function"
   ]
  },
  {
   "cell_type": "code",
   "execution_count": 9,
   "id": "9d7bde51",
   "metadata": {},
   "outputs": [],
   "source": [
    "def process_card(line):\n",
    "    card, nums = line.split(\":\", 1)\n",
    "    card_ID = int(card.split()[-1])\n",
    "    \n",
    "    win, others = nums.split(\"|\", 1)\n",
    "    win = list(map(int, win.split()))\n",
    "    others = list(map(int, others.split()))\n",
    "    \n",
    "    return card_ID, win, others\n",
    "    \n",
    "    \n",
    "    \n",
    "\n",
    "def get_scores_1(win, others):\n",
    "    cnt = 0\n",
    "    for v in others:\n",
    "        if v in win:\n",
    "            cnt += 1\n",
    "    \n",
    "    return int(2**(cnt-1))"
   ]
  },
  {
   "cell_type": "markdown",
   "id": "1408bc90",
   "metadata": {},
   "source": [
    "### Loop"
   ]
  },
  {
   "cell_type": "code",
   "execution_count": 26,
   "id": "c50e3968",
   "metadata": {},
   "outputs": [
    {
     "name": "stdout",
     "output_type": "stream",
     "text": [
      "Part 1 - Total: 20829\n"
     ]
    }
   ],
   "source": [
    "scores = 0\n",
    "for line in lines:\n",
    "    ID, WIN, OTH = process_card(line)\n",
    "    s = get_scores_1(WIN, OTH)\n",
    "    scores += s\n",
    "\n",
    "print(\"Part 1 - Total: {}\".format(scores))"
   ]
  },
  {
   "cell_type": "markdown",
   "id": "05f7cfdc",
   "metadata": {},
   "source": [
    "## Part 2"
   ]
  },
  {
   "cell_type": "code",
   "execution_count": 28,
   "id": "d8979e20",
   "metadata": {},
   "outputs": [],
   "source": [
    "\n",
    "def get_scores_2(win, others):\n",
    "    cnt = 0\n",
    "    for v in others:\n",
    "        if v in win:\n",
    "            cnt += 1\n",
    "    \n",
    "    return cnt"
   ]
  },
  {
   "cell_type": "code",
   "execution_count": 38,
   "id": "bac06a04",
   "metadata": {},
   "outputs": [
    {
     "name": "stdout",
     "output_type": "stream",
     "text": [
      "Part 2 - Total: 12648035\n"
     ]
    }
   ],
   "source": [
    "scores = 0\n",
    "l = len(lines)\n",
    "copies = [1 for _ in range(l)]\n",
    "\n",
    "for idx, line in enumerate(lines):\n",
    "    ID, WIN, OTH = process_card(line)\n",
    "    \n",
    "    s = get_scores_2(WIN, OTH)\n",
    "    w = copies[idx]\n",
    "    for i in range(idx+1, min(l, idx+1+s)):\n",
    "        copies[i] += w\n",
    "        \n",
    "\n",
    "print(\"Part 2 - Total: {}\".format(sum(copies)))"
   ]
  },
  {
   "cell_type": "code",
   "execution_count": null,
   "id": "085576a2",
   "metadata": {},
   "outputs": [],
   "source": []
  }
 ],
 "metadata": {
  "kernelspec": {
   "display_name": "Python 3 (ipykernel)",
   "language": "python",
   "name": "python3"
  },
  "language_info": {
   "codemirror_mode": {
    "name": "ipython",
    "version": 3
   },
   "file_extension": ".py",
   "mimetype": "text/x-python",
   "name": "python",
   "nbconvert_exporter": "python",
   "pygments_lexer": "ipython3",
   "version": "3.10.12"
  },
  "toc": {
   "base_numbering": 1,
   "nav_menu": {},
   "number_sections": true,
   "sideBar": true,
   "skip_h1_title": false,
   "title_cell": "Table of Contents",
   "title_sidebar": "Contents",
   "toc_cell": false,
   "toc_position": {},
   "toc_section_display": true,
   "toc_window_display": false
  },
  "varInspector": {
   "cols": {
    "lenName": 16,
    "lenType": 16,
    "lenVar": 40
   },
   "kernels_config": {
    "python": {
     "delete_cmd_postfix": "",
     "delete_cmd_prefix": "del ",
     "library": "var_list.py",
     "varRefreshCmd": "print(var_dic_list())"
    },
    "r": {
     "delete_cmd_postfix": ") ",
     "delete_cmd_prefix": "rm(",
     "library": "var_list.r",
     "varRefreshCmd": "cat(var_dic_list()) "
    }
   },
   "types_to_exclude": [
    "module",
    "function",
    "builtin_function_or_method",
    "instance",
    "_Feature"
   ],
   "window_display": false
  }
 },
 "nbformat": 4,
 "nbformat_minor": 5
}
