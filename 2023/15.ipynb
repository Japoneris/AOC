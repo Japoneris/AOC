{
 "cells": [
  {
   "cell_type": "code",
   "execution_count": 14,
   "id": "7df74599",
   "metadata": {},
   "outputs": [],
   "source": [
    "with open(\"input/15\", \"r\") as fp:\n",
    "    txt = fp.read()[:-1]"
   ]
  },
  {
   "cell_type": "code",
   "execution_count": 9,
   "id": "7bdd205a",
   "metadata": {},
   "outputs": [],
   "source": [
    "def get_hash_score(stri):\n",
    "\n",
    "    t0 = 0\n",
    "    for i in [ord(c) for c in stri]:\n",
    "        t0 += i\n",
    "        t0 = (t0 * 17) % 256\n",
    "\n",
    "    return t0"
   ]
  },
  {
   "cell_type": "code",
   "execution_count": 18,
   "id": "f0b6582f",
   "metadata": {},
   "outputs": [],
   "source": [
    "txt_example = \"rn=1,cm-,qp=3,cm=2,qp-,pc=4,ot=9,ab=5,pc-,pc=6,ot=7\"\n"
   ]
  },
  {
   "cell_type": "code",
   "execution_count": 78,
   "id": "be19dbeb",
   "metadata": {},
   "outputs": [],
   "source": [
    "my_txt = txt\n",
    "\n",
    "lines = my_txt.split(\",\")"
   ]
  },
  {
   "cell_type": "markdown",
   "id": "762ec8e0",
   "metadata": {
    "heading_collapsed": true
   },
   "source": [
    "# Part 1"
   ]
  },
  {
   "cell_type": "code",
   "execution_count": 25,
   "id": "b8e33855",
   "metadata": {
    "hidden": true
   },
   "outputs": [],
   "source": [
    "tot = 0\n",
    "for line in lines:\n",
    "    tot += get_hash_score(line)"
   ]
  },
  {
   "cell_type": "code",
   "execution_count": 26,
   "id": "451d0e5a",
   "metadata": {
    "hidden": true
   },
   "outputs": [
    {
     "data": {
      "text/plain": [
       "512283"
      ]
     },
     "execution_count": 26,
     "metadata": {},
     "output_type": "execute_result"
    }
   ],
   "source": [
    "tot"
   ]
  },
  {
   "cell_type": "markdown",
   "id": "b5c2b522",
   "metadata": {},
   "source": [
    "# Part 2"
   ]
  },
  {
   "cell_type": "markdown",
   "id": "a856178e",
   "metadata": {},
   "source": [
    "If the operation character is a dash (-), go to the relevant box and remove the lens with the given label if it is present in the box. Then, move any remaining lenses as far forward in the box as they can go without changing their order, filling any space made by removing the indicated lens. (If no lens in that box has the given label, nothing happens.)\n",
    "\n",
    "If the operation character is an equals sign (=), it will be followed by a number indicating the focal length of the lens that needs to go into the relevant box; be sure to use the label maker to mark the lens with the label given in the beginning of the step so you can find it later. There are two possible situations:"
   ]
  },
  {
   "cell_type": "code",
   "execution_count": 81,
   "id": "e0c98d90",
   "metadata": {},
   "outputs": [],
   "source": [
    "boxes = [{} for _ in range(256)]\n",
    "\n",
    "\n",
    "for line in lines:\n",
    "    if \"-\" in line:\n",
    "        a = line[:-1]\n",
    "        v = get_hash_score(a)\n",
    "        \n",
    "        if a in boxes[v]:\n",
    "            del(boxes[v][a])\n",
    "        \n",
    "    elif  \"=\" in line:\n",
    "        \n",
    "        \n",
    "        a, b = line.split(\"=\")\n",
    "        v = get_hash_score(a)\n",
    "        boxes[v][a] = b\n",
    "\n"
   ]
  },
  {
   "cell_type": "code",
   "execution_count": 82,
   "id": "38fdaff9",
   "metadata": {},
   "outputs": [],
   "source": [
    "scores = 0\n",
    "for idx, bxc in enumerate(boxes):\n",
    "    for jdx, v in enumerate(list(bxc)):\n",
    "        b = bxc[v]\n",
    "        scores += (idx + 1) * (jdx + 1) * int(b)\n"
   ]
  },
  {
   "cell_type": "code",
   "execution_count": 83,
   "id": "b96fa9e6",
   "metadata": {},
   "outputs": [
    {
     "data": {
      "text/plain": [
       "215827"
      ]
     },
     "execution_count": 83,
     "metadata": {},
     "output_type": "execute_result"
    }
   ],
   "source": [
    "scores"
   ]
  }
 ],
 "metadata": {
  "kernelspec": {
   "display_name": "Python 3 (ipykernel)",
   "language": "python",
   "name": "python3"
  },
  "language_info": {
   "codemirror_mode": {
    "name": "ipython",
    "version": 3
   },
   "file_extension": ".py",
   "mimetype": "text/x-python",
   "name": "python",
   "nbconvert_exporter": "python",
   "pygments_lexer": "ipython3",
   "version": "3.10.12"
  },
  "toc": {
   "base_numbering": 1,
   "nav_menu": {},
   "number_sections": true,
   "sideBar": true,
   "skip_h1_title": false,
   "title_cell": "Table of Contents",
   "title_sidebar": "Contents",
   "toc_cell": false,
   "toc_position": {},
   "toc_section_display": true,
   "toc_window_display": false
  },
  "varInspector": {
   "cols": {
    "lenName": 16,
    "lenType": 16,
    "lenVar": 40
   },
   "kernels_config": {
    "python": {
     "delete_cmd_postfix": "",
     "delete_cmd_prefix": "del ",
     "library": "var_list.py",
     "varRefreshCmd": "print(var_dic_list())"
    },
    "r": {
     "delete_cmd_postfix": ") ",
     "delete_cmd_prefix": "rm(",
     "library": "var_list.r",
     "varRefreshCmd": "cat(var_dic_list()) "
    }
   },
   "types_to_exclude": [
    "module",
    "function",
    "builtin_function_or_method",
    "instance",
    "_Feature"
   ],
   "window_display": false
  }
 },
 "nbformat": 4,
 "nbformat_minor": 5
}
