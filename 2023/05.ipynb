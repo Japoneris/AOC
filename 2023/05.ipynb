{
 "cells": [
  {
   "cell_type": "markdown",
   "id": "4efc4c03",
   "metadata": {},
   "source": [
    "# Read files"
   ]
  },
  {
   "cell_type": "code",
   "execution_count": 1,
   "id": "aaa9d091",
   "metadata": {},
   "outputs": [],
   "source": [
    "with open(\"input/05\", \"r\") as fp:\n",
    "    data = fp.read()[:-1]"
   ]
  },
  {
   "cell_type": "code",
   "execution_count": 2,
   "id": "9759bdad",
   "metadata": {},
   "outputs": [],
   "source": [
    "test_txt = \"\"\"seeds: 79 14 55 13\n",
    "\n",
    "seed-to-soil map:\n",
    "50 98 2\n",
    "52 50 48\n",
    "\n",
    "soil-to-fertilizer map:\n",
    "0 15 37\n",
    "37 52 2\n",
    "39 0 15\n",
    "\n",
    "fertilizer-to-water map:\n",
    "49 53 8\n",
    "0 11 42\n",
    "42 0 7\n",
    "57 7 4\n",
    "\n",
    "water-to-light map:\n",
    "88 18 7\n",
    "18 25 70\n",
    "\n",
    "light-to-temperature map:\n",
    "45 77 23\n",
    "81 45 19\n",
    "68 64 13\n",
    "\n",
    "temperature-to-humidity map:\n",
    "0 69 1\n",
    "1 0 69\n",
    "\n",
    "humidity-to-location map:\n",
    "60 56 37\n",
    "56 93 4\"\"\""
   ]
  },
  {
   "cell_type": "code",
   "execution_count": 3,
   "id": "a1ecfec2",
   "metadata": {},
   "outputs": [],
   "source": [
    "buckets = test_txt.split('\\n\\n')"
   ]
  },
  {
   "cell_type": "code",
   "execution_count": 73,
   "id": "43172b36",
   "metadata": {},
   "outputs": [],
   "source": [
    "buckets = data.split('\\n\\n')"
   ]
  },
  {
   "cell_type": "markdown",
   "id": "d05d394b",
   "metadata": {},
   "source": [
    "---"
   ]
  },
  {
   "cell_type": "code",
   "execution_count": 4,
   "id": "248f81d2",
   "metadata": {},
   "outputs": [],
   "source": [
    "def process_buckets(line):\n",
    "    subs = line.split(\"\\n\")\n",
    "    print(subs[0])\n",
    "    \n",
    "    lst = []\n",
    "    for sub in subs[1:]:\n",
    "        L = list(map(int, sub.split(\" \")))\n",
    "        lst.append(L)\n",
    "        \n",
    "    return lst\n",
    "        "
   ]
  },
  {
   "cell_type": "markdown",
   "id": "98689c70",
   "metadata": {
    "heading_collapsed": true
   },
   "source": [
    "# Process for part 1"
   ]
  },
  {
   "cell_type": "code",
   "execution_count": 27,
   "id": "082c7397",
   "metadata": {
    "hidden": true
   },
   "outputs": [],
   "source": [
    "def convert_X_to_Y(v, L_maps):\n",
    "    v1 = v\n",
    "    for a, b, r in L_maps:\n",
    "        if (v >= b) & (v < b+r):\n",
    "            v1 = v - b + a\n",
    "            \n",
    "    return v1"
   ]
  },
  {
   "cell_type": "code",
   "execution_count": 30,
   "id": "8f6693ba",
   "metadata": {
    "hidden": true
   },
   "outputs": [
    {
     "data": {
      "text/plain": [
       "[79, 14, 55, 13]"
      ]
     },
     "execution_count": 30,
     "metadata": {},
     "output_type": "execute_result"
    }
   ],
   "source": [
    "seeds = list(map(int, buckets[0].split(\" \")[1:]))\n",
    "seeds"
   ]
  },
  {
   "cell_type": "code",
   "execution_count": 10,
   "id": "ad6245b8",
   "metadata": {
    "hidden": true
   },
   "outputs": [
    {
     "name": "stdout",
     "output_type": "stream",
     "text": [
      "seed-to-soil map:\n"
     ]
    },
    {
     "data": {
      "text/plain": [
       "[[50, 98, 2], [52, 50, 48]]"
      ]
     },
     "execution_count": 10,
     "metadata": {},
     "output_type": "execute_result"
    }
   ],
   "source": [
    "L_maps = process_buckets(buckets[1])\n",
    "L_maps"
   ]
  },
  {
   "cell_type": "code",
   "execution_count": 14,
   "id": "b6217423",
   "metadata": {
    "hidden": true
   },
   "outputs": [
    {
     "name": "stdout",
     "output_type": "stream",
     "text": [
      "81\n",
      "14\n",
      "57\n",
      "13\n"
     ]
    }
   ],
   "source": [
    "for seed in seeds:\n",
    "    \n",
    "\n",
    "    x1 = convert_X_to_Y(seed, L_maps)\n",
    "    print(x1)"
   ]
  },
  {
   "cell_type": "markdown",
   "id": "3a7449a3",
   "metadata": {
    "hidden": true
   },
   "source": [
    "### All maps"
   ]
  },
  {
   "cell_type": "code",
   "execution_count": 24,
   "id": "7d8e4c63",
   "metadata": {
    "hidden": true
   },
   "outputs": [
    {
     "name": "stdout",
     "output_type": "stream",
     "text": [
      "seed-to-soil map:\n",
      "soil-to-fertilizer map:\n",
      "fertilizer-to-water map:\n",
      "water-to-light map:\n",
      "light-to-temperature map:\n",
      "temperature-to-humidity map:\n",
      "humidity-to-location map:\n"
     ]
    }
   ],
   "source": [
    "LL_maps = []\n",
    "for buck in buckets[1:]:\n",
    "    LL_maps.append(process_buckets(buck))"
   ]
  },
  {
   "cell_type": "code",
   "execution_count": 25,
   "id": "68a794ad",
   "metadata": {
    "hidden": true
   },
   "outputs": [
    {
     "name": "stdout",
     "output_type": "stream",
     "text": [
      "[2693474491, 12212989, 2916488878, 2285625439, 2434574552, 8776260, 1224405006, 368941186, 2152043730, 124877531, 874771481, 36057332, 3422399727, 159289722, 1152623119, 106230212, 2249621993, 159131132, 621215889, 4213184]\n",
      "[4071845592, 1767780175, 2763179843, 2680082804, 3049303741, 1764343446, 1015620994, 1615067414, 3805339953, 760704424, 1447643120, 1791624518, 3577464347, 389675167, 943839107, 1928223772, 2644079358, 389516577, 259700961, 1759780370]\n",
      "[3213864440, 2943544494, 322827787, 2921276310, 608951685, 1595294430, 1879981248, 3603629601, 3450917956, 1964046124, 2600843009, 2967388837, 1137112291, 3997610143, 2545174038, 2102680285, 2885272864, 3997451553, 3867635937, 1590731354]\n",
      "[2239634747, 3092720947, 1194408900, 3070452763, 1331750351, 456470919, 2563932206, 219461780, 66750135, 2036433759, 2672782562, 3116565290, 1749507200, 760269115, 2617113591, 1679278480, 3563832749, 760110525, 630294909, 451907843]\n",
      "[1419679783, 672099772, 4111615129, 649831588, 4248956580, 285121916, 2967515324, 430694750, 2103175389, 1216478795, 2409619383, 695944115, 2019658898, 3560227383, 2353950412, 1949430178, 768185376, 3560068793, 3430253177, 280558840]\n",
      "[2346620067, 1320600841, 3200581069, 1298332657, 4248956580, 3879218818, 3342471403, 4024791652, 2529503853, 1063012343, 216771220, 1713320479, 2445987362, 3470091225, 161102249, 3634602859, 614718924, 3469932635, 450342284, 3874655742]\n",
      "[719150722, 3549733716, 1993306428, 2392498413, 3347258382, 2977520620, 3424617055, 3123093454, 1581942881, 2467468216, 233828685, 3942453354, 1498426390, 900895802, 178159714, 1065407436, 614718924, 900737212, 450342284, 2972957544]\n"
     ]
    }
   ],
   "source": [
    "results = seeds.copy()\n",
    "for L_maps in LL_maps:\n",
    "    results = list(map(lambda x: convert_X_to_Y(x, L_maps), results))\n",
    "    print(results)"
   ]
  },
  {
   "cell_type": "code",
   "execution_count": 26,
   "id": "75cde742",
   "metadata": {
    "hidden": true
   },
   "outputs": [
    {
     "name": "stdout",
     "output_type": "stream",
     "text": [
      "Part 1: 178159714\n"
     ]
    }
   ],
   "source": [
    "print(\"Part 1: {}\".format(min(results)))"
   ]
  },
  {
   "cell_type": "markdown",
   "id": "32bf3a1e",
   "metadata": {},
   "source": [
    "# Part 2\n",
    "\n",
    "Find the lowest seed number.\n",
    "Need to work with ranges.\n",
    "Cut ranges if needed"
   ]
  },
  {
   "cell_type": "markdown",
   "id": "7bac5132",
   "metadata": {},
   "source": [
    "## Process buckets"
   ]
  },
  {
   "cell_type": "code",
   "execution_count": 74,
   "id": "ed821c50",
   "metadata": {},
   "outputs": [
    {
     "name": "stdout",
     "output_type": "stream",
     "text": [
      "seed-to-soil map:\n",
      "soil-to-fertilizer map:\n",
      "fertilizer-to-water map:\n",
      "water-to-light map:\n",
      "light-to-temperature map:\n",
      "temperature-to-humidity map:\n",
      "humidity-to-location map:\n"
     ]
    }
   ],
   "source": [
    "LL_maps = []\n",
    "for buck in buckets[1:]:\n",
    "    LL_maps.append(process_buckets(buck))"
   ]
  },
  {
   "cell_type": "markdown",
   "id": "72ee8d4e",
   "metadata": {},
   "source": [
    "## Process seeds"
   ]
  },
  {
   "cell_type": "code",
   "execution_count": 75,
   "id": "700c4720",
   "metadata": {},
   "outputs": [],
   "source": [
    "seeds = list(map(int, buckets[0].split(\" \")[1:]))\n",
    "l = len(seeds) / 2\n",
    "lst_rg = []\n",
    "for i, j in zip(seeds[::2], seeds[1::2]):\n",
    "    lst_rg.append([i, i+j])\n"
   ]
  },
  {
   "cell_type": "code",
   "execution_count": 79,
   "id": "3fec13b9",
   "metadata": {
    "collapsed": true
   },
   "outputs": [
    {
     "data": {
      "text/plain": [
       "[[1347397244, 1359610233],\n",
       " [2916488878, 3951005553],\n",
       " [2821376423, 2830152683],\n",
       " [2240804122, 2609745308],\n",
       " [824872000, 949749531],\n",
       " [1597965637, 1634022969],\n",
       " [4091290431, 4250580153],\n",
       " [1875817275, 1982047487],\n",
       " [998513229, 1157644361],\n",
       " [2671581775, 2675794959]]"
      ]
     },
     "execution_count": 79,
     "metadata": {},
     "output_type": "execute_result"
    }
   ],
   "source": [
    "lst_rg # Last value excluded"
   ]
  },
  {
   "cell_type": "markdown",
   "id": "31b1f116",
   "metadata": {},
   "source": [
    "## Cut into ranges"
   ]
  },
  {
   "cell_type": "code",
   "execution_count": 12,
   "id": "d2a8653d",
   "metadata": {},
   "outputs": [],
   "source": [
    "def convert_X_to_Y(v, L_maps):\n",
    "    v1 = v\n",
    "    for a, b, r in L_maps:\n",
    "        \"\"\"\n",
    "        b----------b+r\n",
    "        |    v      |\n",
    "        => convert\n",
    "        \n",
    "        \"\"\"\n",
    "        if (v >= b) & (v < b+r):\n",
    "            v1 = v - b + a\n",
    "            \n",
    "    return v1"
   ]
  },
  {
   "cell_type": "code",
   "execution_count": 67,
   "id": "c1571e07",
   "metadata": {},
   "outputs": [],
   "source": [
    "def convert_RX_RY(rg, L_maps):\n",
    "    \"\"\"rg: [a, b[\n",
    "    \"\"\"\n",
    "    lst_rg = [rg]\n",
    "    lst_final = []\n",
    "    \"\"\"\n",
    "            b------b+r\n",
    "    xxxx\n",
    "                           xxxx\n",
    "        xxxyyyy\n",
    "                 yyyyxxxx\n",
    "             yyyyyy\n",
    "        xxxyyyyyyyyyyxxxxxxx\n",
    "    \n",
    "    \"\"\"\n",
    "    \n",
    "    while lst_rg != []:\n",
    "        ai, bi = lst_rg.pop()\n",
    "        \n",
    "        FLAG = True\n",
    "        for a, b, r in L_maps:\n",
    "            fx = lambda x: x - b + a \n",
    "        \n",
    "            if (bi <= b) | (ai >= b+r): # Completely outside\n",
    "                continue\n",
    "                \n",
    "            elif (ai < b) & (b + r < bi):\n",
    "                lst_final.append([fx(b), fx(b+r)])\n",
    "                lst_rg.append([ai, b])\n",
    "                lst_rg.append([b+r, bi])\n",
    "                FLAG = False\n",
    "                break\n",
    "            \n",
    "            elif (b <= ai) & (bi <= b + r): # Fully included\n",
    "                lst_final.append([fx(ai), fx(bi)])\n",
    "                # Stop the loop as both are contained / processed\n",
    "                FLAG = False\n",
    "                break\n",
    "                \n",
    "            elif (b <= ai) & (b + r < bi): # Partial overlap with (b + r < bi)\n",
    "                lst_final.append([fx(ai), fx(b+r)])\n",
    "                lst_rg.append([b+r, bi])\n",
    "                FLAG = False\n",
    "                break\n",
    "            \n",
    "            elif (bi <= b + r): # Partial overlap (ai < b)\n",
    "                \n",
    "                lst_final.append([fx(b), fx(bi)])\n",
    "                lst_rg.append([ai, b])\n",
    "                FLAG = False\n",
    "                break\n",
    "                \n",
    "            else:\n",
    "                print(\"Error, case not covered\")\n",
    "        \n",
    "        if FLAG:\n",
    "            lst_final.append([ai, bi])\n",
    "        \n",
    "        \n",
    "            \n",
    "    return lst_final"
   ]
  },
  {
   "cell_type": "code",
   "execution_count": 80,
   "id": "7af402da",
   "metadata": {},
   "outputs": [
    {
     "name": "stdout",
     "output_type": "stream",
     "text": [
      "[[1347397244, 1359610233], [2916488878, 3951005553], [2821376423, 2830152683], [2240804122, 2609745308], [824872000, 949749531], [1597965637, 1634022969], [4091290431, 4250580153], [1875817275, 1982047487], [998513229, 1157644361], [2671581775, 2675794959]]\n",
      "========================================\n",
      "0 10\n",
      "1 23\n",
      "2 43\n",
      "3 56\n",
      "4 82\n",
      "5 99\n",
      "6 118\n"
     ]
    }
   ],
   "source": [
    "results = lst_rg.copy()\n",
    "print(results)\n",
    "print(\"=\"*40)\n",
    "\n",
    "for idx, L_maps in enumerate(LL_maps):\n",
    "    print(idx, len(results))\n",
    "    R = []\n",
    "    for res in results:\n",
    "        R.extend(convert_RX_RY(res, L_maps))\n",
    "        \n",
    "    results = R\n",
    "    \n",
    "    #print(idx, results)"
   ]
  },
  {
   "cell_type": "code",
   "execution_count": 81,
   "id": "0867f6e0",
   "metadata": {},
   "outputs": [
    {
     "name": "stdout",
     "output_type": "stream",
     "text": [
      "Part 2:  100165128\n"
     ]
    }
   ],
   "source": [
    "print(\"Part 2: \", min(list(map(lambda x: x[0], results))))"
   ]
  },
  {
   "cell_type": "code",
   "execution_count": null,
   "id": "c63a61b0",
   "metadata": {},
   "outputs": [],
   "source": []
  },
  {
   "cell_type": "code",
   "execution_count": null,
   "id": "1cf226ec",
   "metadata": {},
   "outputs": [],
   "source": []
  },
  {
   "cell_type": "code",
   "execution_count": null,
   "id": "05ebacf1",
   "metadata": {},
   "outputs": [],
   "source": []
  },
  {
   "cell_type": "code",
   "execution_count": null,
   "id": "233b6dd3",
   "metadata": {},
   "outputs": [],
   "source": []
  }
 ],
 "metadata": {
  "kernelspec": {
   "display_name": "Python 3 (ipykernel)",
   "language": "python",
   "name": "python3"
  },
  "language_info": {
   "codemirror_mode": {
    "name": "ipython",
    "version": 3
   },
   "file_extension": ".py",
   "mimetype": "text/x-python",
   "name": "python",
   "nbconvert_exporter": "python",
   "pygments_lexer": "ipython3",
   "version": "3.10.12"
  },
  "toc": {
   "base_numbering": 1,
   "nav_menu": {},
   "number_sections": true,
   "sideBar": true,
   "skip_h1_title": false,
   "title_cell": "Table of Contents",
   "title_sidebar": "Contents",
   "toc_cell": false,
   "toc_position": {},
   "toc_section_display": true,
   "toc_window_display": false
  },
  "varInspector": {
   "cols": {
    "lenName": 16,
    "lenType": 16,
    "lenVar": 40
   },
   "kernels_config": {
    "python": {
     "delete_cmd_postfix": "",
     "delete_cmd_prefix": "del ",
     "library": "var_list.py",
     "varRefreshCmd": "print(var_dic_list())"
    },
    "r": {
     "delete_cmd_postfix": ") ",
     "delete_cmd_prefix": "rm(",
     "library": "var_list.r",
     "varRefreshCmd": "cat(var_dic_list()) "
    }
   },
   "types_to_exclude": [
    "module",
    "function",
    "builtin_function_or_method",
    "instance",
    "_Feature"
   ],
   "window_display": false
  }
 },
 "nbformat": 4,
 "nbformat_minor": 5
}
