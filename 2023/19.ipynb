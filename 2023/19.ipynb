{
 "cells": [
  {
   "cell_type": "code",
   "execution_count": 2,
   "id": "0ef12532",
   "metadata": {},
   "outputs": [],
   "source": [
    "with open(\"input/19\", \"r\") as fp:\n",
    "    txt = fp.read()[:-1]\n",
    "    \n",
    "    "
   ]
  },
  {
   "cell_type": "code",
   "execution_count": 1,
   "id": "bb0a810e",
   "metadata": {},
   "outputs": [],
   "source": [
    "txt_test = \"\"\"px{a<2006:qkq,m>2090:A,rfg}\n",
    "pv{a>1716:R,A}\n",
    "lnx{m>1548:A,A}\n",
    "rfg{s<537:gd,x>2440:R,A}\n",
    "qs{s>3448:A,lnx}\n",
    "qkq{x<1416:A,crn}\n",
    "crn{x>2662:A,R}\n",
    "in{s<1351:px,qqz}\n",
    "qqz{s>2770:qs,m<1801:hdj,R}\n",
    "gd{a>3333:R,R}\n",
    "hdj{m>838:A,pv}\n",
    "\n",
    "{x=787,m=2655,a=1222,s=2876}\n",
    "{x=1679,m=44,a=2067,s=496}\n",
    "{x=2036,m=264,a=79,s=2244}\n",
    "{x=2461,m=1339,a=466,s=291}\n",
    "{x=2127,m=1623,a=2188,s=1013}\"\"\""
   ]
  },
  {
   "cell_type": "markdown",
   "id": "1c8e330c",
   "metadata": {},
   "source": [
    "----"
   ]
  },
  {
   "cell_type": "markdown",
   "id": "6ca26a92",
   "metadata": {},
   "source": [
    "# Part 1"
   ]
  },
  {
   "cell_type": "code",
   "execution_count": 71,
   "id": "8871317d",
   "metadata": {},
   "outputs": [],
   "source": [
    "def process_input_simple(ttt):\n",
    "    B0, B1 = ttt.split(\"\\n\\n\")\n",
    "    \n",
    "    L0 = B0.split(\"\\n\") # Rules\n",
    "    L1 = B1.split(\"\\n\") # Workflow\n",
    "    \n",
    "    lst_W = []\n",
    "    for line in L1:\n",
    "        line = line[1:-1] # Remove parenthesis\n",
    "        fields = line.split(\",\")\n",
    "        dico = {}\n",
    "        for x, v in zip('xmas', fields):\n",
    "            dico[x] = int(v[2:])\n",
    "        \n",
    "        lst_W.append(dico)\n",
    "        \n",
    "    dic_R = {}\n",
    "    for line in L0:\n",
    "        name, a = line[:-1].split(\"{\")\n",
    "        dic_R[name] = a.split(\",\")\n",
    "        \n",
    "    return lst_W, dic_R\n",
    "        "
   ]
  },
  {
   "cell_type": "code",
   "execution_count": 69,
   "id": "ce0a9310",
   "metadata": {},
   "outputs": [],
   "source": [
    "def eval_inputsimple(inp, fff):\n",
    "    \n",
    "    default = fff[-1]\n",
    "    for rule in fff[:-1]:\n",
    "        ops, outcome = rule.split(\":\")\n",
    "        letter = ops[0]\n",
    "        sign = ops[1]\n",
    "        if sign == \">\":\n",
    "            if inp[letter] > int(ops[2:]):\n",
    "                return outcome\n",
    "            \n",
    "        elif sign == \"<\":\n",
    "            if inp[letter] < int(ops[2:]):\n",
    "                return outcome\n",
    "            \n",
    "    return default\n",
    "        "
   ]
  },
  {
   "cell_type": "code",
   "execution_count": 78,
   "id": "b07d599b",
   "metadata": {},
   "outputs": [],
   "source": [
    "INP, FX = process_input_simple(txt_test)\n",
    "INP, FX = process_input_simple(txt)"
   ]
  },
  {
   "cell_type": "code",
   "execution_count": 79,
   "id": "50fc0ce7",
   "metadata": {},
   "outputs": [],
   "source": [
    "lst_accepted = []\n",
    "for inp in INP:\n",
    "    start = \"in\"\n",
    "    while start not in [\"A\", \"R\"]:\n",
    "        start = eval_inputsimple(inp, FX[start])\n",
    "        #print(start)\n",
    "        \n",
    "    #print(\"-\"*40)\n",
    "    if start == \"A\":\n",
    "        lst_accepted.append(inp)\n",
    "    "
   ]
  },
  {
   "cell_type": "code",
   "execution_count": 80,
   "id": "5dabbb5e",
   "metadata": {},
   "outputs": [
    {
     "name": "stdout",
     "output_type": "stream",
     "text": [
      "Part 1: 397643\n"
     ]
    }
   ],
   "source": [
    "tot = 0\n",
    "for val in lst_accepted:\n",
    "    tot += sum(val.values())\n",
    "    \n",
    "print(\"Part 1: {}\".format(tot))"
   ]
  },
  {
   "cell_type": "markdown",
   "id": "9b89febb",
   "metadata": {},
   "source": [
    "# Part 2: use rules..."
   ]
  },
  {
   "cell_type": "code",
   "execution_count": 125,
   "id": "1ebbc08b",
   "metadata": {},
   "outputs": [],
   "source": [
    "def apply_rules(dic_rg, rules):\n",
    "    \n",
    "    lst_out = []\n",
    "    \n",
    "    # Name{}\n",
    "    # qkq{x<1416:A,crn}\n",
    "    \n",
    "    for rule in rules[:-1]:\n",
    "        ops, outcome = rule.split(\":\")\n",
    "        letter = ops[0]\n",
    "        sign = ops[1]\n",
    "        v = int(ops[2:])\n",
    "        \n",
    "        \n",
    "        if sign == \">\":\n",
    "            dic1 = dic_rg.copy()\n",
    "            dic1[letter + \"0\"] = max(dic1[letter + \"0\"], v+1)\n",
    "            if dic1[letter + \"0\"] <= dic1[letter + \"1\"]:\n",
    "                lst_out.append((dic1, outcome))\n",
    "            \n",
    "            # Do not check if valid here\n",
    "            dic_rg[letter + \"1\"] = min(dic1[letter + \"1\"], v)\n",
    "            \n",
    "            \n",
    "        elif sign == \"<\":\n",
    "            dic1 = dic_rg.copy()\n",
    "            dic1[letter + \"1\"] = min(dic1[letter + \"1\"], v - 1)\n",
    "            if dic1[letter + \"0\"] <= dic1[letter + \"1\"]:\n",
    "                lst_out.append((dic1, outcome))\n",
    "            \n",
    "            # update lower bound\n",
    "            dic_rg[letter + \"0\"] = max(dic1[letter + \"0\"], v)\n",
    "        else:\n",
    "            print(\"ERROR\")\n",
    "            \n",
    "    return lst_out + [(dic_rg, rules[-1])] # Last: default value\n"
   ]
  },
  {
   "cell_type": "code",
   "execution_count": 127,
   "id": "f3c64d6f",
   "metadata": {},
   "outputs": [],
   "source": [
    "INP, FX = process_input_simple(txt)\n"
   ]
  },
  {
   "cell_type": "code",
   "execution_count": 128,
   "id": "106c0db7",
   "metadata": {},
   "outputs": [],
   "source": [
    "dic0 = {\n",
    "    \"x0\": 1, \"x1\":4000,\n",
    "    \"m0\": 1, \"m1\":4000,\n",
    "    \"a0\": 1, \"a1\":4000,\n",
    "    \"s0\": 1, \"s1\":4000,\n",
    "       }\n",
    "\n",
    "lst_fragment = [(dic0, \"in\")]\n",
    "lst_accepted = []\n",
    "lst_rejected = []\n",
    "\n",
    "while len(lst_fragment) != 0:\n",
    "    # Take element in the list\n",
    "    dic, loc = lst_fragment.pop()\n",
    "    \n",
    "    lst_new = apply_rules(dic, FX[loc])\n",
    "    #print(\"-\"*40)\n",
    "    for dico, ll in lst_new:\n",
    "        #print(ll)\n",
    "        if ll == \"A\":\n",
    "            lst_accepted.append(dico)\n",
    "        \n",
    "        elif ll == \"R\":\n",
    "            lst_rejected.append(dico)\n",
    "            continue\n",
    "        \n",
    "        else:\n",
    "            lst_fragment.append((dico, ll))\n",
    "            \n",
    "            "
   ]
  },
  {
   "cell_type": "markdown",
   "id": "8c280205",
   "metadata": {},
   "source": [
    "#### Count conditions"
   ]
  },
  {
   "cell_type": "code",
   "execution_count": 129,
   "id": "2932570d",
   "metadata": {},
   "outputs": [
    {
     "name": "stdout",
     "output_type": "stream",
     "text": [
      "Part 2: 167409079868000\n"
     ]
    }
   ],
   "source": [
    "TOT = 0\n",
    "for output in lst_accepted:\n",
    "    tot = []\n",
    "    for i in \"xmas\":\n",
    "        tot.append(max(0, 1+output[i +\"1\"] -output[i +\"0\"]))\n",
    "    v = 1\n",
    "    for t in tot:\n",
    "        v = v*t\n",
    "    TOT += v\n",
    "    \n",
    "print(\"Part 2: {}\".format(TOT))"
   ]
  },
  {
   "cell_type": "markdown",
   "id": "b6525d83",
   "metadata": {},
   "source": [
    "##### Verify conditions using opposite outcome"
   ]
  },
  {
   "cell_type": "code",
   "execution_count": 121,
   "id": "f3a8c911",
   "metadata": {},
   "outputs": [
    {
     "name": "stdout",
     "output_type": "stream",
     "text": [
      "Part 2: 123607018302919\n"
     ]
    }
   ],
   "source": [
    "TOT = 0\n",
    "for output in lst_rejected:\n",
    "    tot = []\n",
    "    for i in \"xmas\":\n",
    "        tot.append(max(0, 1+output[i +\"1\"] - output[i +\"0\"]))\n",
    "    v = 1\n",
    "    for t in tot:\n",
    "        v = v*t\n",
    "    TOT += v\n",
    "    \n",
    "print(\"Part 2: {}\".format(TOT))"
   ]
  },
  {
   "cell_type": "code",
   "execution_count": 122,
   "id": "1e2cecaa",
   "metadata": {},
   "outputs": [
    {
     "data": {
      "text/plain": [
       "256000000000000"
      ]
     },
     "execution_count": 122,
     "metadata": {},
     "output_type": "execute_result"
    }
   ],
   "source": [
    "123607018302919 + 132392981697081"
   ]
  },
  {
   "cell_type": "code",
   "execution_count": 130,
   "id": "90a82bec",
   "metadata": {},
   "outputs": [
    {
     "data": {
      "text/plain": [
       "256000000000000"
      ]
     },
     "execution_count": 130,
     "metadata": {},
     "output_type": "execute_result"
    }
   ],
   "source": [
    "4000**4 # MAX"
   ]
  },
  {
   "cell_type": "code",
   "execution_count": null,
   "id": "c967248c",
   "metadata": {},
   "outputs": [],
   "source": []
  },
  {
   "cell_type": "code",
   "execution_count": null,
   "id": "d6cb57b4",
   "metadata": {},
   "outputs": [],
   "source": []
  },
  {
   "cell_type": "code",
   "execution_count": null,
   "id": "baac8c9c",
   "metadata": {},
   "outputs": [],
   "source": []
  }
 ],
 "metadata": {
  "kernelspec": {
   "display_name": "Python 3 (ipykernel)",
   "language": "python",
   "name": "python3"
  },
  "language_info": {
   "codemirror_mode": {
    "name": "ipython",
    "version": 3
   },
   "file_extension": ".py",
   "mimetype": "text/x-python",
   "name": "python",
   "nbconvert_exporter": "python",
   "pygments_lexer": "ipython3",
   "version": "3.10.12"
  },
  "toc": {
   "base_numbering": 1,
   "nav_menu": {},
   "number_sections": true,
   "sideBar": true,
   "skip_h1_title": false,
   "title_cell": "Table of Contents",
   "title_sidebar": "Contents",
   "toc_cell": false,
   "toc_position": {},
   "toc_section_display": true,
   "toc_window_display": false
  },
  "varInspector": {
   "cols": {
    "lenName": 16,
    "lenType": 16,
    "lenVar": 40
   },
   "kernels_config": {
    "python": {
     "delete_cmd_postfix": "",
     "delete_cmd_prefix": "del ",
     "library": "var_list.py",
     "varRefreshCmd": "print(var_dic_list())"
    },
    "r": {
     "delete_cmd_postfix": ") ",
     "delete_cmd_prefix": "rm(",
     "library": "var_list.r",
     "varRefreshCmd": "cat(var_dic_list()) "
    }
   },
   "types_to_exclude": [
    "module",
    "function",
    "builtin_function_or_method",
    "instance",
    "_Feature"
   ],
   "window_display": false
  }
 },
 "nbformat": 4,
 "nbformat_minor": 5
}
