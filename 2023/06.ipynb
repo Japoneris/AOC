{
 "cells": [
  {
   "cell_type": "code",
   "execution_count": null,
   "id": "4bc9b869",
   "metadata": {},
   "outputs": [],
   "source": [
    "test = \"\"\"Time:      7  15   30\n",
    "Distance:  9  40  200\"\"\""
   ]
  },
  {
   "cell_type": "code",
   "execution_count": 1,
   "id": "c800492c",
   "metadata": {},
   "outputs": [],
   "source": [
    "txt = \"\"\"Time:        59     68     82     74\n",
    "Distance:   543   1020   1664   1022\n",
    "\"\"\""
   ]
  },
  {
   "cell_type": "code",
   "execution_count": 8,
   "id": "cf59541c",
   "metadata": {},
   "outputs": [],
   "source": [
    "course = [(7, 9), (15, 40), (30, 200)]\n",
    "course = [(59, 543), (68, 1020), (82, 1664), (74, 1022)]\n"
   ]
  },
  {
   "cell_type": "markdown",
   "id": "db2c50fd",
   "metadata": {},
   "source": [
    "# Part 1"
   ]
  },
  {
   "cell_type": "code",
   "execution_count": 9,
   "id": "ce9f3e78",
   "metadata": {},
   "outputs": [],
   "source": [
    "lst_cnt = []\n",
    "for t, d in course:\n",
    "    cnt = 0\n",
    "    for i in range(t):\n",
    "        if (t - i) * i > d:\n",
    "            cnt += 1\n",
    "            \n",
    "    lst_cnt.append(cnt)"
   ]
  },
  {
   "cell_type": "code",
   "execution_count": 10,
   "id": "2b548387",
   "metadata": {},
   "outputs": [],
   "source": [
    "TOT = 1\n",
    "for c in lst_cnt:\n",
    "    TOT = TOT * c"
   ]
  },
  {
   "cell_type": "code",
   "execution_count": 11,
   "id": "b6080d4d",
   "metadata": {},
   "outputs": [
    {
     "name": "stdout",
     "output_type": "stream",
     "text": [
      "Part 1: 275724\n"
     ]
    }
   ],
   "source": [
    "print(\"Part 1: {}\".format(TOT))"
   ]
  },
  {
   "cell_type": "markdown",
   "id": "c33b0ebe",
   "metadata": {},
   "source": [
    "# Part 2"
   ]
  },
  {
   "cell_type": "code",
   "execution_count": 25,
   "id": "e7eb1f5f",
   "metadata": {},
   "outputs": [
    {
     "data": {
      "text/plain": [
       "(11200894.3465948, 48487379.653405204)"
      ]
     },
     "execution_count": 25,
     "metadata": {},
     "output_type": "execute_result"
    }
   ],
   "source": [
    "t_2, d_2 = 71530, 940200\n",
    "t_2, d_2=  59688274, 543102016641022\n",
    "    \n",
    "delta = t_2**2 - 4 * d_2\n",
    "\n",
    "x1 = t_2/2 - np.sqrt(delta) / 2 \n",
    "x2 = t_2/2 + np.sqrt(delta) / 2\n",
    "x1, x2"
   ]
  },
  {
   "cell_type": "code",
   "execution_count": 26,
   "id": "f8cacfa3",
   "metadata": {},
   "outputs": [
    {
     "name": "stdout",
     "output_type": "stream",
     "text": [
      "Part 2 37286485\n"
     ]
    }
   ],
   "source": [
    "x11 = int(x1)+1\n",
    "x22 = int(x2)\n",
    "\n",
    "print(\"Part 2\", x22 - x11 + 1)"
   ]
  }
 ],
 "metadata": {
  "kernelspec": {
   "display_name": "Python 3 (ipykernel)",
   "language": "python",
   "name": "python3"
  },
  "language_info": {
   "codemirror_mode": {
    "name": "ipython",
    "version": 3
   },
   "file_extension": ".py",
   "mimetype": "text/x-python",
   "name": "python",
   "nbconvert_exporter": "python",
   "pygments_lexer": "ipython3",
   "version": "3.10.12"
  },
  "toc": {
   "base_numbering": 1,
   "nav_menu": {},
   "number_sections": true,
   "sideBar": true,
   "skip_h1_title": false,
   "title_cell": "Table of Contents",
   "title_sidebar": "Contents",
   "toc_cell": false,
   "toc_position": {},
   "toc_section_display": true,
   "toc_window_display": false
  },
  "varInspector": {
   "cols": {
    "lenName": 16,
    "lenType": 16,
    "lenVar": 40
   },
   "kernels_config": {
    "python": {
     "delete_cmd_postfix": "",
     "delete_cmd_prefix": "del ",
     "library": "var_list.py",
     "varRefreshCmd": "print(var_dic_list())"
    },
    "r": {
     "delete_cmd_postfix": ") ",
     "delete_cmd_prefix": "rm(",
     "library": "var_list.r",
     "varRefreshCmd": "cat(var_dic_list()) "
    }
   },
   "types_to_exclude": [
    "module",
    "function",
    "builtin_function_or_method",
    "instance",
    "_Feature"
   ],
   "window_display": false
  }
 },
 "nbformat": 4,
 "nbformat_minor": 5
}
