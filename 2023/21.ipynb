{
 "cells": [
  {
   "cell_type": "code",
   "execution_count": 146,
   "id": "c546bd3b",
   "metadata": {},
   "outputs": [],
   "source": [
    "import numpy as np"
   ]
  },
  {
   "cell_type": "code",
   "execution_count": 1,
   "id": "d1756bc6",
   "metadata": {},
   "outputs": [],
   "source": [
    "txt_test = \"\"\"...........\n",
    ".....###.#.\n",
    ".###.##..#.\n",
    "..#.#...#..\n",
    "....#.#....\n",
    ".##..S####.\n",
    ".##..#...#.\n",
    ".......##..\n",
    ".##.#.####.\n",
    ".##..##.##.\n",
    "...........\"\"\""
   ]
  },
  {
   "cell_type": "code",
   "execution_count": 2,
   "id": "b9dfbea5",
   "metadata": {},
   "outputs": [],
   "source": [
    "with open(\"input/21\", \"r\") as fp:\n",
    "    txt = fp.read()[:-1]"
   ]
  },
  {
   "cell_type": "code",
   "execution_count": 147,
   "id": "f87c3a58",
   "metadata": {},
   "outputs": [],
   "source": [
    "def process_input(ttt):\n",
    "    lines = ttt.split('\\n')\n",
    "    l0 = len(lines)\n",
    "    l1 = len(lines[0])\n",
    "    M = np.zeros((l0, l1))\n",
    "    \n",
    "    start = None\n",
    "    for idx, row in enumerate(lines):\n",
    "        for jdx, v in enumerate(row):\n",
    "            if v == \"#\":\n",
    "                M[idx, jdx] = 1\n",
    "            elif v == \"S\":\n",
    "                start = (idx, jdx)\n",
    "                \n",
    "    return M, start"
   ]
  },
  {
   "cell_type": "markdown",
   "id": "5812e392",
   "metadata": {
    "heading_collapsed": true
   },
   "source": [
    "# Part 1"
   ]
  },
  {
   "cell_type": "code",
   "execution_count": 728,
   "id": "a0448937",
   "metadata": {
    "hidden": true
   },
   "outputs": [],
   "source": [
    "def update_move(M0, lst):\n",
    "    \n",
    "    pos1 = np.concatenate([\n",
    "        lst + np.array([0, 1]), \n",
    "        lst + np.array([0, -1]), \n",
    "        lst + np.array([-1, 0]),\n",
    "        lst + np.array([1, 0])\n",
    "                   ])\n",
    "    # Remove invalid positions\n",
    "    pos1 = pos1[(pos1[:, 0] >= 0) & (pos1[:, 1] >= 0) & (pos1[:, 0] < len(M0)) & (pos1[:, 1] < len(M0[0]))]\n",
    "    pos1 = pos1[M0[pos1[:, 0], pos1[:, 1]] == 0]\n",
    "    \n",
    "    M1 = M0.copy()\n",
    "    M1[pos1[:,0], pos1[:, 1]] = 2\n",
    "    \n",
    "                \n",
    "    return np.array(np.where(M1 == 2)).T"
   ]
  },
  {
   "cell_type": "code",
   "execution_count": null,
   "id": "9dc90211",
   "metadata": {
    "hidden": true
   },
   "outputs": [],
   "source": []
  },
  {
   "cell_type": "code",
   "execution_count": null,
   "id": "107af85e",
   "metadata": {
    "hidden": true
   },
   "outputs": [],
   "source": []
  },
  {
   "cell_type": "code",
   "execution_count": null,
   "id": "12f7c356",
   "metadata": {
    "hidden": true
   },
   "outputs": [],
   "source": []
  },
  {
   "cell_type": "code",
   "execution_count": 19,
   "id": "3f23cb6a",
   "metadata": {
    "hidden": true
   },
   "outputs": [
    {
     "data": {
      "text/plain": [
       "((131, 131), (65, 65))"
      ]
     },
     "execution_count": 19,
     "metadata": {},
     "output_type": "execute_result"
    }
   ],
   "source": [
    "M0, start = process_input(txt)\n",
    "\n",
    "M0.shape, start"
   ]
  },
  {
   "cell_type": "code",
   "execution_count": 24,
   "id": "ebf7878c",
   "metadata": {
    "hidden": true
   },
   "outputs": [
    {
     "name": "stdout",
     "output_type": "stream",
     "text": [
      "Step 64: \t 3820\n"
     ]
    }
   ],
   "source": [
    "positions = np.array([start])\n",
    "\n",
    "for idx in range(1, 65):\n",
    "    positions = update_move(M0, positions)\n",
    "    tot = len(positions)\n",
    "\n",
    "print(\"Step {}: \\t {}\".format(idx, tot))"
   ]
  },
  {
   "cell_type": "markdown",
   "id": "36396a48",
   "metadata": {},
   "source": [
    "# Part 2: Infinite map"
   ]
  },
  {
   "cell_type": "markdown",
   "id": "ce63edd9",
   "metadata": {},
   "source": [
    "## FX"
   ]
  },
  {
   "cell_type": "code",
   "execution_count": null,
   "id": "1b847ff1",
   "metadata": {},
   "outputs": [],
   "source": [
    "S = 26501365"
   ]
  },
  {
   "cell_type": "code",
   "execution_count": 748,
   "id": "c4be2fba",
   "metadata": {},
   "outputs": [],
   "source": [
    "def replicate(M0, k0, k1):\n",
    "    \"\"\"\n",
    "    Replicate the matrix M0 \n",
    "    - k0 times vertically\n",
    "    - k1 times horizontally\n",
    "    \"\"\"\n",
    "    M1 = np.concatenate([M0 for _ in range(k0)]).T\n",
    "    return np.concatenate([M1 for _ in range(k1)]).T\n",
    "    \n",
    "    \n",
    "\n",
    "def get_info(X, i=2):\n",
    "    # i: where it starts repeating\n",
    "    \n",
    "    period = sum(X[:, i+1] == 0) - sum(X[:, i] == 0)\n",
    "    v_start = sum(X[:, i] == 0) - i *period\n",
    "    # A cycle starts at t = period * i + v_start\n",
    "    \n",
    "    left = period * i + v_start\n",
    "    for j in range(len(X)):\n",
    "        if (X[left + j, i] == X[left + j+2, i]) & (X[left + j+1, i] == X[left + j+3, i]):\n",
    "            break\n",
    "    \n",
    "    return (period, v_start, X[left: left+j, i], X[left+j: left+j+4, i])\n",
    "        \n",
    "    "
   ]
  },
  {
   "cell_type": "code",
   "execution_count": 359,
   "id": "3f01bc41",
   "metadata": {},
   "outputs": [],
   "source": [
    "def count_last_tiles(F, d):\n",
    "    period = F[0]\n",
    "    lag = F[1] # Value\n",
    "    stability = F[2] # array\n",
    "    loop = F[3]\n",
    "    \n",
    "    k_full = (d - lag - len(stability)) // period\n",
    "    k_partial = max(0, ((d - lag)) // period +1 - k_full)\n",
    "    \n",
    "    \n",
    "    even = k_full // 2\n",
    "    odd = (k_full+1) // 2\n",
    "    \n",
    "    # GOOOD \n",
    "    d0 = lag + period * k_full\n",
    "    tot = 0\n",
    "    for i in range(1, k_partial):\n",
    "        tot += stability[d - d0 - i * period]\n",
    "        \n",
    "    return ( odd, even, k_partial, odd * loop[(d - len(stability) - lag + 1 ) % 2],even * loop[(d - len(stability)  - lag)%2], tot)\n",
    "    "
   ]
  },
  {
   "cell_type": "code",
   "execution_count": 532,
   "id": "21d5810f",
   "metadata": {},
   "outputs": [],
   "source": [
    "def get_establishment(seq):\n",
    "    \n",
    "    for i, v in enumerate(seq):\n",
    "        if seq[i+2] == v:\n",
    "            if seq[i+1] == seq[i+3]:\n",
    "                return i, seq[i:i+4]\n",
    "            \n",
    "        "
   ]
  },
  {
   "cell_type": "code",
   "execution_count": 621,
   "id": "d4718c1c",
   "metadata": {},
   "outputs": [],
   "source": [
    "def extract_quadrant_info(X, locs, s=3):\n",
    "    \n",
    "    # Behavior of 0x0\n",
    "    seq0 = X[:, locs[0,0]]\n",
    "    t0, a0 = get_establishment(seq0)\n",
    "    \n",
    "    F_1 = get_info(X[:, locs[0]], s)\n",
    "    F_2 = get_info(X[:, locs[:, 0]], s)\n",
    "    \n",
    "    k = len(locs)\n",
    "    \n",
    "    d0 = np.arange(1, k)\n",
    "    lll = locs[d0, d0]    \n",
    "    F_d1 = get_info(X[:, lll], s)\n",
    "\n",
    "    lll = locs[d0-1, d0]\n",
    "    F_d2 = get_info(X[:, lll], s)\n",
    "\n",
    "    return t0, a0, F_1, F_2, F_d1, F_d2"
   ]
  },
  {
   "cell_type": "code",
   "execution_count": 671,
   "id": "8569c522",
   "metadata": {},
   "outputs": [],
   "source": [
    "def get_count_diags(idx, t0, a0, F_d1, F_d2):\n",
    "    \"\"\"\n",
    "    \n",
    "    Complicated formula to compute the diagonal values.\n",
    "    Note: not valid until 3 frequencies\n",
    "    \"\"\"\n",
    "    v0 = a0[(idx-t0) % 2]\n",
    "    v1 = a0[(1+idx-t0) % 2]\n",
    "\n",
    "    a, b, c, t1, t2, left = count_last_tiles(F_d1, idx)\n",
    "    diag = a + b + 1\n",
    "\n",
    "    # Diag 1\n",
    "    vals_out = (diag * 2 + 1) * left\n",
    "    vals_in = diag * diag * v0\n",
    "    P1 = vals_in + vals_out\n",
    "\n",
    "    a, b, c, t1, t2, left = count_last_tiles(F_d2, idx)\n",
    "    diag = a + b \n",
    "\n",
    "    vals_out = ((1+diag) * 2) * left\n",
    "    vals_in = diag * (diag+1) * v1\n",
    "    P2 = vals_in + vals_out\n",
    "\n",
    "    return P1 + P2"
   ]
  },
  {
   "cell_type": "code",
   "execution_count": 661,
   "id": "f5a87b3a",
   "metadata": {},
   "outputs": [],
   "source": [
    "def get_count_linear(idx, F):\n",
    "    a, b, c, t1, t2, left = count_last_tiles(F, idx)\n",
    "    return t1+t2+left\n",
    "    "
   ]
  },
  {
   "cell_type": "markdown",
   "id": "725ae99d",
   "metadata": {},
   "source": [
    "# Part 2 Clean"
   ]
  },
  {
   "cell_type": "code",
   "execution_count": 738,
   "id": "bf139769",
   "metadata": {},
   "outputs": [],
   "source": [
    "def update_move_v2(M0, lst):\n",
    "    \"\"\"Update the matrix M0\n",
    "    \"\"\"\n",
    "    M0[M0 == 2] = 3\n",
    "    \n",
    "    pos1 = np.concatenate([\n",
    "        lst + np.array([0, 1]), \n",
    "        lst + np.array([0, -1]), \n",
    "        lst + np.array([-1, 0]),\n",
    "        lst + np.array([1, 0])\n",
    "                   ])\n",
    "    # Remove invalid positions\n",
    "    pos1 = pos1[(pos1[:, 0] >= 0) & (pos1[:, 1] >= 0) & (pos1[:, 0] < len(M0)) & (pos1[:, 1] < len(M0[0]))]\n",
    "    pos1 = pos1[M0[pos1[:, 0], pos1[:, 1]] == 0]\n",
    "    \n",
    "    \n",
    "    M0[pos1[:,0], pos1[:, 1]] = 2\n",
    "    \n",
    "                \n",
    "    return np.array(np.where(M0 == 2)).T"
   ]
  },
  {
   "cell_type": "code",
   "execution_count": 745,
   "id": "c9139a6d",
   "metadata": {},
   "outputs": [
    {
     "data": {
      "text/plain": [
       "((131, 131), (65, 65))"
      ]
     },
     "execution_count": 745,
     "metadata": {},
     "output_type": "execute_result"
    }
   ],
   "source": [
    "M0, start = process_input(txt)\n",
    "\n",
    "l0, l1 = M0.shape\n",
    "M0.shape, start"
   ]
  },
  {
   "cell_type": "code",
   "execution_count": 746,
   "id": "42515ffb",
   "metadata": {},
   "outputs": [
    {
     "name": "stdout",
     "output_type": "stream",
     "text": [
      "1572\n",
      "----------------------------------------\n",
      "10, 20, 30, 40, 50, 60, 70, 80, 90, 100, 110, 120, 130, 140, 150, 160, 170, 180, 190, 200, 210, 220, 230, 240, 250, 260, 270, 280, 290, 300, 310, 320, 330, 340, 350, 360, 370, 380, 390, 400, 410, 420, 430, 440, 450, 460, 470, 480, 490, 500, 510, 520, 530, 540, 550, 560, 570, 580, 590, 600, 610, 620, 630, 640, 650, 660, 670, 680, 690, 700, 710, 720, 730, 740, 750, 760, 770, 780, 790, 800, 810, 820, 830, 840, 850, 860, 870, 880, 890, 900, 910, 920, 930, 940, 950, 960, 970, 980, 990, 1000, 1010, 1020, 1030, 1040, 1050, 1060, 1070, 1080, 1090, 1100, 1110, 1120, 1130, 1140, 1150, 1160, 1170, 1180, 1190, 1200, 1210, 1220, 1230, 1240, 1250, 1260, 1270, 1280, 1290, 1300, 1310, 1320, 1330, 1340, 1350, 1360, 1370, 1380, 1390, 1400, 1410, 1420, 1430, 1440, 1450, 1460, 1470, 1480, 1490, 1500, 1510, 1520, 1530, 1540, 1550, 1560, 1570, ----------------------------------------\n",
      "10, 20, 30, 40, 50, 60, 70, 80, 90, 100, 110, 120, 130, 140, 150, 160, 170, 180, 190, 200, 210, 220, 230, 240, 250, 260, 270, 280, 290, 300, 310, 320, 330, 340, 350, 360, 370, 380, 390, 400, 410, 420, 430, 440, 450, 460, 470, 480, 490, 500, 510, 520, 530, 540, 550, 560, 570, 580, 590, 600, 610, 620, 630, 640, 650, 660, 670, 680, 690, 700, 710, 720, 730, 740, 750, 760, 770, 780, 790, 800, 810, 820, 830, 840, 850, 860, 870, 880, 890, 900, 910, 920, 930, 940, 950, 960, 970, 980, 990, 1000, 1010, 1020, 1030, 1040, 1050, 1060, 1070, 1080, 1090, 1100, 1110, 1120, 1130, 1140, 1150, 1160, 1170, 1180, 1190, 1200, 1210, 1220, 1230, 1240, 1250, 1260, 1270, 1280, 1290, 1300, 1310, 1320, 1330, 1340, 1350, 1360, 1370, 1380, 1390, 1400, 1410, 1420, 1430, 1440, 1450, 1460, 1470, 1480, 1490, 1500, 1510, 1520, 1530, 1540, 1550, 1560, 1570, ----------------------------------------\n",
      "10, 20, 30, 40, 50, 60, 70, 80, 90, 100, 110, 120, 130, 140, 150, 160, 170, 180, 190, 200, 210, 220, 230, 240, 250, 260, 270, 280, 290, 300, 310, 320, 330, 340, 350, 360, 370, 380, 390, 400, 410, 420, 430, 440, 450, 460, 470, 480, 490, 500, 510, 520, 530, 540, 550, 560, 570, 580, 590, 600, 610, 620, 630, 640, 650, 660, 670, 680, 690, 700, 710, 720, 730, 740, 750, 760, 770, 780, 790, 800, 810, 820, 830, 840, 850, 860, 870, 880, 890, 900, 910, 920, 930, 940, 950, 960, 970, 980, 990, 1000, 1010, 1020, 1030, 1040, 1050, 1060, 1070, 1080, 1090, 1100, 1110, 1120, 1130, 1140, 1150, 1160, 1170, 1180, 1190, 1200, 1210, 1220, 1230, 1240, 1250, 1260, 1270, 1280, 1290, 1300, 1310, 1320, 1330, 1340, 1350, 1360, 1370, 1380, 1390, 1400, 1410, 1420, 1430, 1440, 1450, 1460, 1470, 1480, 1490, 1500, 1510, 1520, 1530, 1540, 1550, 1560, 1570, ----------------------------------------\n",
      "10, 20, 30, 40, 50, 60, 70, 80, 90, 100, 110, 120, 130, 140, 150, 160, 170, 180, 190, 200, 210, 220, 230, 240, 250, 260, 270, 280, 290, 300, 310, 320, 330, 340, 350, 360, 370, 380, 390, 400, 410, 420, 430, 440, 450, 460, 470, 480, 490, 500, 510, 520, 530, 540, 550, 560, 570, 580, 590, 600, 610, 620, 630, 640, 650, 660, 670, 680, 690, 700, 710, 720, 730, 740, 750, 760, 770, 780, 790, 800, 810, 820, 830, 840, 850, 860, 870, 880, 890, 900, 910, 920, 930, 940, 950, 960, 970, 980, 990, 1000, 1010, 1020, 1030, 1040, 1050, 1060, 1070, 1080, 1090, 1100, 1110, 1120, 1130, 1140, 1150, 1160, 1170, 1180, 1190, 1200, 1210, 1220, 1230, 1240, 1250, 1260, 1270, 1280, 1290, 1300, 1310, 1320, 1330, 1340, 1350, 1360, 1370, 1380, 1390, 1400, 1410, 1420, 1430, 1440, 1450, 1460, 1470, 1480, 1490, 1500, 1510, 1520, 1530, 1540, 1550, 1560, 1570, "
     ]
    }
   ],
   "source": [
    "k = 6 # minimum necessary\n",
    "Mx = replicate(M0, k, k)\n",
    "locs = np.arange(k*k).reshape((k, k))\n",
    "\n",
    "print(len(Mx) + len(Mx[0]))\n",
    "\n",
    "X_lst = []\n",
    "for M1 in [Mx, Mx[::-1], Mx[::-1,::-1], Mx[:,::-1]]:\n",
    "    \n",
    "    M1a = M1.copy()\n",
    "    M1b = M1.copy()\n",
    "    \n",
    "    print('-'*40)\n",
    "    positions = np.array([(start[0], start[1])])\n",
    "\n",
    "    lst = []\n",
    "    for idx in range(1, len(M1) + len(M1[0])):\n",
    "        if idx % 10 == 0:\n",
    "            print(idx, end=\", \")\n",
    "        positions = update_move_v2(M1a, positions)\n",
    "        \n",
    "        \n",
    "        tmp = []\n",
    "        for i0 in range(k):\n",
    "            for i1 in range(k):\n",
    "                tot = (M1a[i0*l0:(i0+1)*l0, i1*l1:(i1+1)*l1] >= 2).sum()\n",
    "                \n",
    "                \n",
    "                tmp.append(tot)\n",
    "\n",
    "        lst.append(tmp)\n",
    "        # Exchange matrices\n",
    "        M1a, M1b = M1b, M1a \n",
    "    \n",
    "        \n",
    "    X_lst.append(np.array(lst))\n"
   ]
  },
  {
   "cell_type": "markdown",
   "id": "086fb89a",
   "metadata": {},
   "source": [
    "### Compute results"
   ]
  },
  {
   "cell_type": "code",
   "execution_count": 747,
   "id": "579d69b1",
   "metadata": {},
   "outputs": [
    {
     "name": "stdout",
     "output_type": "stream",
     "text": [
      "1563069039 1563069055\n",
      "1563069039 1563069043\n",
      "1563069059 1563069043\n",
      "1563069059 1563069055\n",
      "Part 2:  632421652138917\n"
     ]
    }
   ],
   "source": [
    "idx = 5000-1\n",
    "idx = 26501365 - 1\n",
    "\n",
    "CNT = 0\n",
    "CNT1 = 0\n",
    "for X in X_lst:\n",
    "    t0, a0, F_1, F_2, F_d1, F_d2 = extract_quadrant_info(X, locs)\n",
    "    V1 = get_count_linear(idx, F_1)\n",
    "    V2 = get_count_linear(idx, F_2)\n",
    "    VD = get_count_diags(idx, t0, a0, F_d1, F_d2)\n",
    "    print(V1, V2)\n",
    "    \n",
    "    CNT += VD\n",
    "    CNT1 += V1 + V2\n",
    "\n",
    "v0 = a0[(idx-t0) % 2]\n",
    "\n",
    "print(\"Part 2: \", v0 + CNT + CNT1//2)"
   ]
  },
  {
   "cell_type": "code",
   "execution_count": null,
   "id": "c63c1289",
   "metadata": {},
   "outputs": [],
   "source": []
  },
  {
   "cell_type": "code",
   "execution_count": null,
   "id": "4a36b285",
   "metadata": {},
   "outputs": [],
   "source": []
  }
 ],
 "metadata": {
  "kernelspec": {
   "display_name": "Python 3 (ipykernel)",
   "language": "python",
   "name": "python3"
  },
  "language_info": {
   "codemirror_mode": {
    "name": "ipython",
    "version": 3
   },
   "file_extension": ".py",
   "mimetype": "text/x-python",
   "name": "python",
   "nbconvert_exporter": "python",
   "pygments_lexer": "ipython3",
   "version": "3.10.12"
  },
  "toc": {
   "base_numbering": 1,
   "nav_menu": {},
   "number_sections": true,
   "sideBar": true,
   "skip_h1_title": false,
   "title_cell": "Table of Contents",
   "title_sidebar": "Contents",
   "toc_cell": false,
   "toc_position": {},
   "toc_section_display": true,
   "toc_window_display": false
  },
  "varInspector": {
   "cols": {
    "lenName": 16,
    "lenType": 16,
    "lenVar": 40
   },
   "kernels_config": {
    "python": {
     "delete_cmd_postfix": "",
     "delete_cmd_prefix": "del ",
     "library": "var_list.py",
     "varRefreshCmd": "print(var_dic_list())"
    },
    "r": {
     "delete_cmd_postfix": ") ",
     "delete_cmd_prefix": "rm(",
     "library": "var_list.r",
     "varRefreshCmd": "cat(var_dic_list()) "
    }
   },
   "types_to_exclude": [
    "module",
    "function",
    "builtin_function_or_method",
    "instance",
    "_Feature"
   ],
   "window_display": false
  }
 },
 "nbformat": 4,
 "nbformat_minor": 5
}
