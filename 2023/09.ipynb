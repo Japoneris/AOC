{
 "cells": [
  {
   "cell_type": "code",
   "execution_count": 11,
   "id": "b9944d90",
   "metadata": {},
   "outputs": [],
   "source": [
    "import numpy as np"
   ]
  },
  {
   "cell_type": "code",
   "execution_count": 3,
   "id": "e0dbcae4",
   "metadata": {},
   "outputs": [],
   "source": [
    "with open(\"input/09\", \"r\") as fp:\n",
    "    txt = fp.read()[:-1]"
   ]
  },
  {
   "cell_type": "code",
   "execution_count": 5,
   "id": "40098b02",
   "metadata": {},
   "outputs": [],
   "source": [
    "my_txt = txt\n",
    "\n",
    "lines = my_txt.split(\"\\n\")"
   ]
  },
  {
   "cell_type": "code",
   "execution_count": 7,
   "id": "a9509552",
   "metadata": {},
   "outputs": [],
   "source": [
    "def process_line(line):\n",
    "    return list(map(int, line.split()))"
   ]
  },
  {
   "cell_type": "markdown",
   "id": "074266a5",
   "metadata": {},
   "source": [
    "# Part 1"
   ]
  },
  {
   "cell_type": "code",
   "execution_count": 27,
   "id": "d6b622eb",
   "metadata": {},
   "outputs": [],
   "source": [
    "def analysis(XX, verbose=True):\n",
    "    mem = [XX[-1]]\n",
    "    \n",
    "    while True:\n",
    "        XX = np.diff(XX)\n",
    "        mem.append(XX[-1])\n",
    "        if verbose:\n",
    "            print(XX)\n",
    "        \n",
    "        if len(set(XX)) == 1:\n",
    "            break\n",
    "    \n",
    "    return mem"
   ]
  },
  {
   "cell_type": "code",
   "execution_count": 28,
   "id": "2aa1c00d",
   "metadata": {},
   "outputs": [],
   "source": [
    "def reconstruct(mem):\n",
    "    v = 0\n",
    "    for vi in mem[::-1]:\n",
    "        v = vi + v\n",
    "    \n",
    "    return v"
   ]
  },
  {
   "cell_type": "code",
   "execution_count": 33,
   "id": "4a75e84d",
   "metadata": {},
   "outputs": [
    {
     "name": "stdout",
     "output_type": "stream",
     "text": [
      "Part 1: 1798691765\n"
     ]
    }
   ],
   "source": [
    "tot = 0\n",
    "for line in lines:\n",
    "    vals = process_line(line)\n",
    "    mem = analysis(vals, verbose=False)\n",
    "    res = reconstruct(mem)\n",
    "    tot += res\n",
    "    \n",
    "print(\"Part 1: {}\".format(tot))"
   ]
  },
  {
   "cell_type": "markdown",
   "id": "ea3d6aac",
   "metadata": {},
   "source": [
    "# Part 2"
   ]
  },
  {
   "cell_type": "code",
   "execution_count": 34,
   "id": "5f2b95fd",
   "metadata": {},
   "outputs": [],
   "source": [
    "def analysis_left(XX, verbose=True):\n",
    "    mem = [XX[0]]\n",
    "    \n",
    "    while True:\n",
    "        XX = np.diff(XX)\n",
    "        mem.append(XX[0])\n",
    "        if verbose:\n",
    "            print(XX)\n",
    "        \n",
    "        if len(set(XX)) == 1:\n",
    "            break\n",
    "    \n",
    "    return mem"
   ]
  },
  {
   "cell_type": "code",
   "execution_count": 35,
   "id": "bed389d6",
   "metadata": {},
   "outputs": [],
   "source": [
    "def reconstruct_left(mem):\n",
    "    v = 0\n",
    "    for vi in mem[::-1]:\n",
    "        v = vi - v\n",
    "    \n",
    "    return v"
   ]
  },
  {
   "cell_type": "code",
   "execution_count": 36,
   "id": "36e8869c",
   "metadata": {},
   "outputs": [
    {
     "name": "stdout",
     "output_type": "stream",
     "text": [
      "[ 3  3  5  9 15]\n",
      "[0 2 4 6]\n",
      "[2 2 2]\n"
     ]
    },
    {
     "data": {
      "text/plain": [
       "5"
      ]
     },
     "execution_count": 36,
     "metadata": {},
     "output_type": "execute_result"
    }
   ],
   "source": [
    "example = \"10  13  16  21  30  45\"\n",
    "vals = process_line(example)\n",
    "mem = analysis_left(vals)\n",
    "reconstruct_left(mem)"
   ]
  },
  {
   "cell_type": "code",
   "execution_count": 38,
   "id": "c792e641",
   "metadata": {},
   "outputs": [
    {
     "name": "stdout",
     "output_type": "stream",
     "text": [
      "Part 2: 1104\n"
     ]
    }
   ],
   "source": [
    "tot = 0\n",
    "for line in lines:\n",
    "    vals = process_line(line)\n",
    "    mem = analysis_left(vals, verbose=False)\n",
    "    res = reconstruct_left(mem)\n",
    "    tot += res\n",
    "    \n",
    "print(\"Part 2: {}\".format(tot))"
   ]
  }
 ],
 "metadata": {
  "kernelspec": {
   "display_name": "Python 3 (ipykernel)",
   "language": "python",
   "name": "python3"
  },
  "language_info": {
   "codemirror_mode": {
    "name": "ipython",
    "version": 3
   },
   "file_extension": ".py",
   "mimetype": "text/x-python",
   "name": "python",
   "nbconvert_exporter": "python",
   "pygments_lexer": "ipython3",
   "version": "3.10.12"
  },
  "toc": {
   "base_numbering": 1,
   "nav_menu": {},
   "number_sections": true,
   "sideBar": true,
   "skip_h1_title": false,
   "title_cell": "Table of Contents",
   "title_sidebar": "Contents",
   "toc_cell": false,
   "toc_position": {},
   "toc_section_display": true,
   "toc_window_display": false
  },
  "varInspector": {
   "cols": {
    "lenName": 16,
    "lenType": 16,
    "lenVar": 40
   },
   "kernels_config": {
    "python": {
     "delete_cmd_postfix": "",
     "delete_cmd_prefix": "del ",
     "library": "var_list.py",
     "varRefreshCmd": "print(var_dic_list())"
    },
    "r": {
     "delete_cmd_postfix": ") ",
     "delete_cmd_prefix": "rm(",
     "library": "var_list.r",
     "varRefreshCmd": "cat(var_dic_list()) "
    }
   },
   "types_to_exclude": [
    "module",
    "function",
    "builtin_function_or_method",
    "instance",
    "_Feature"
   ],
   "window_display": false
  }
 },
 "nbformat": 4,
 "nbformat_minor": 5
}
