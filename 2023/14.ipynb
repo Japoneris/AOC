{
 "cells": [
  {
   "cell_type": "code",
   "execution_count": 1,
   "id": "5ea1dc7e",
   "metadata": {},
   "outputs": [],
   "source": [
    "with open(\"input/14\", \"r\") as fp:\n",
    "    txt = fp.read()[:-1]"
   ]
  },
  {
   "cell_type": "markdown",
   "id": "370c747e",
   "metadata": {},
   "source": [
    "The rounded rocks (O) will roll when the platform is tilted, while the cube-shaped rocks (#) will stay in place. You note the positions of all of the empty spaces (.) m\n",
    "    "
   ]
  },
  {
   "cell_type": "code",
   "execution_count": 5,
   "id": "a495ae16",
   "metadata": {},
   "outputs": [],
   "source": [
    "txt_test = \"\"\"O....#....\n",
    "O.OO#....#\n",
    ".....##...\n",
    "OO.#O....O\n",
    ".O.....O#.\n",
    "O.#..O.#.#\n",
    "..O..#O..O\n",
    ".......O..\n",
    "#....###..\n",
    "#OO..#....\"\"\""
   ]
  },
  {
   "cell_type": "code",
   "execution_count": 4,
   "id": "9c9b76b2",
   "metadata": {},
   "outputs": [],
   "source": [
    "def process_puzzle(ttt):\n",
    "    dic = {\"#\": -1, \".\": 0, \"O\": 1}\n",
    "    A = ttt.split('\\n')\n",
    "    B = list(map(lambda row:\n",
    "                 list(map(lambda x: dic[x], row))\n",
    "                 , A))\n",
    "    \n",
    "    return np.array(B)"
   ]
  },
  {
   "cell_type": "code",
   "execution_count": 11,
   "id": "2dcf61ae",
   "metadata": {},
   "outputs": [],
   "source": [
    "def update_position(X, r, c):\n",
    "    while True:\n",
    "        if r == 0:\n",
    "            break\n",
    "        \n",
    "        if X[r-1, c] == 0:\n",
    "            X[r-1, c] = 1\n",
    "            X[r, c] = 0\n",
    "            r -= 1\n",
    "        else:\n",
    "            break\n",
    "            \n",
    "    return\n",
    "\n",
    "def score_load(puzzle):\n",
    "    l = len(puzzle)\n",
    "    tot = 0\n",
    "    for r in range(len(puzzle)):\n",
    "        for v in puzzle[r]:\n",
    "            if v == 1:\n",
    "                tot += l-r\n",
    "    return tot"
   ]
  },
  {
   "cell_type": "code",
   "execution_count": null,
   "id": "37fbb731",
   "metadata": {},
   "outputs": [],
   "source": []
  },
  {
   "cell_type": "code",
   "execution_count": 17,
   "id": "7144ce2b",
   "metadata": {},
   "outputs": [],
   "source": [
    "puzzle = process_puzzle(txt)"
   ]
  },
  {
   "cell_type": "code",
   "execution_count": 18,
   "id": "bf7b8f7f",
   "metadata": {},
   "outputs": [],
   "source": [
    "for r in range(len(puzzle)):\n",
    "    for c in range(len(puzzle)):\n",
    "        if puzzle[r, c] == 1:\n",
    "            # Update position\n",
    "            update_position(puzzle, r, c)\n",
    "        "
   ]
  },
  {
   "cell_type": "code",
   "execution_count": 19,
   "id": "bdb40d71",
   "metadata": {},
   "outputs": [
    {
     "data": {
      "text/plain": [
       "109466"
      ]
     },
     "execution_count": 19,
     "metadata": {},
     "output_type": "execute_result"
    }
   ],
   "source": [
    "score_load(puzzle)"
   ]
  },
  {
   "cell_type": "markdown",
   "id": "ad633b88",
   "metadata": {},
   "source": [
    "# Part 2\n",
    "\n",
    "- north (r-1), \n",
    "- then west (c-1), then \n",
    "- south (r+1), \n",
    "- then east (c+1)\n"
   ]
  },
  {
   "cell_type": "code",
   "execution_count": 21,
   "id": "ec188c94",
   "metadata": {},
   "outputs": [],
   "source": [
    "def update_puzzle_north(puzzle):\n",
    "    for r in range(len(puzzle)):\n",
    "        for c in range(len(puzzle)):\n",
    "            if puzzle[r, c] == 1:\n",
    "                # Update position\n",
    "                update_position(puzzle, r, c)\n"
   ]
  },
  {
   "cell_type": "code",
   "execution_count": 31,
   "id": "d2e8312d",
   "metadata": {},
   "outputs": [],
   "source": [
    "puzzle = process_puzzle(txt_test)"
   ]
  },
  {
   "cell_type": "markdown",
   "id": "264bbd8d",
   "metadata": {
    "heading_collapsed": true
   },
   "source": [
    "##### One cycle"
   ]
  },
  {
   "cell_type": "code",
   "execution_count": 36,
   "id": "6dd3f8d9",
   "metadata": {
    "hidden": true
   },
   "outputs": [],
   "source": [
    "#Northe\n",
    "\n",
    "update_puzzle_north(puzzle)\n",
    "\n",
    "# West\n",
    "puzzle = puzzle.T\n",
    "\n",
    "update_puzzle_north(puzzle)\n",
    "\n",
    "# South\n",
    "puzzle = puzzle.T[::-1]\n",
    "\n",
    "update_puzzle_north(puzzle)\n",
    "\n",
    "# East\n",
    "puzzle = puzzle[::-1].T\n",
    "update_puzzle_north(puzzle)\n",
    "puzzle = puzzle[::-1].T"
   ]
  },
  {
   "cell_type": "markdown",
   "id": "a92be0a3",
   "metadata": {},
   "source": [
    "##### N cycles"
   ]
  },
  {
   "cell_type": "code",
   "execution_count": 58,
   "id": "9fa75db1",
   "metadata": {},
   "outputs": [],
   "source": [
    "puzzle = process_puzzle(txt)"
   ]
  },
  {
   "cell_type": "code",
   "execution_count": 59,
   "id": "d3e3447a",
   "metadata": {},
   "outputs": [
    {
     "name": "stdout",
     "output_type": "stream",
     "text": [
      "0, 1, 2, 3, 4, 5, 6, 7, 8, 9, 10, 11, 12, 13, 14, 15, 16, 17, 18, 19, 20, 21, 22, 23, 24, 25, 26, 27, 28, 29, 30, 31, 32, 33, 34, 35, 36, 37, 38, 39, 40, 41, 42, 43, 44, 45, 46, 47, 48, 49, 50, 51, 52, 53, 54, 55, 56, 57, 58, 59, 60, 61, 62, 63, 64, 65, 66, 67, 68, 69, 70, 71, 72, 73, 74, 75, 76, 77, 78, 79, 80, 81, 82, 83, 84, 85, 86, 87, 88, 89, 90, 91, 92, 93, 94, 95, 96, 97, 98, 99, 100, 101, 102, 103, 104, 105, 106, 107, 108, 109, 110, 111, 112, 113, 114, 115, 116, 117, 118, 119, 120, 121, 122, 123, 124, 125, 126, 127, 128, 129, 130, 131, 132, 133, 134, 135, 136, 137, 138, 139, 140, 141, 142, 143, 144, 145, 146, 147, 148, 149, 150, 151, 152, 153, 154, 155, 156, 157, 158, 159, 160, 161, 162, 163, 164, 165, 166, 167, 168, 169, 170, 171, 172, 173, 174, 175, 176, 177, 178, 179, 180, 181, 182, 183, 184, 185, 186, 187, 188, 189, 190, 191, 192, 193, 194, 195, 196, 197, 198, 199, 200, 201, 202, 203, 204, 205, 206, 207, 208, 209, 210, 211, 212, 213, 214, 215, 216, 217, 218, 219, 220, 221, 222, 223, 224, 225, 226, 227, 228, 229, 230, 231, 232, 233, 234, 235, 236, 237, 238, 239, 240, 241, 242, 243, 244, 245, 246, 247, 248, 249, 250, 251, 252, 253, 254, 255, 256, 257, 258, 259, 260, 261, 262, 263, 264, 265, 266, 267, 268, 269, 270, 271, 272, 273, 274, 275, 276, 277, 278, 279, 280, 281, 282, 283, 284, 285, 286, 287, 288, 289, 290, 291, 292, 293, 294, 295, 296, 297, 298, 299, 300, 301, 302, 303, 304, 305, 306, 307, 308, 309, 310, 311, 312, 313, 314, 315, 316, 317, 318, 319, 320, 321, 322, 323, 324, 325, 326, 327, 328, 329, 330, 331, 332, 333, 334, 335, 336, 337, 338, 339, 340, 341, 342, 343, 344, 345, 346, 347, 348, 349, 350, 351, 352, 353, 354, 355, 356, 357, 358, 359, 360, 361, 362, 363, 364, 365, 366, 367, 368, 369, 370, 371, 372, 373, 374, 375, 376, 377, 378, 379, 380, 381, 382, 383, 384, 385, 386, 387, 388, 389, 390, 391, 392, 393, 394, 395, 396, 397, 398, 399, 400, 401, 402, 403, 404, 405, 406, 407, 408, 409, 410, 411, 412, 413, 414, 415, 416, 417, 418, 419, 420, 421, 422, 423, 424, 425, 426, 427, 428, 429, 430, 431, 432, 433, 434, 435, 436, 437, 438, 439, 440, 441, 442, 443, 444, 445, 446, 447, 448, 449, 450, 451, 452, 453, 454, 455, 456, 457, 458, 459, 460, 461, 462, 463, 464, 465, 466, "
     ]
    },
    {
     "ename": "KeyboardInterrupt",
     "evalue": "",
     "output_type": "error",
     "traceback": [
      "\u001b[0;31m---------------------------------------------------------------------------\u001b[0m",
      "\u001b[0;31mKeyboardInterrupt\u001b[0m                         Traceback (most recent call last)",
      "Cell \u001b[0;32mIn[59], line 18\u001b[0m\n\u001b[1;32m     16\u001b[0m \u001b[38;5;66;03m# East\u001b[39;00m\n\u001b[1;32m     17\u001b[0m puzzle \u001b[38;5;241m=\u001b[39m puzzle\u001b[38;5;241m.\u001b[39mT[::\u001b[38;5;241m-\u001b[39m\u001b[38;5;241m1\u001b[39m]\n\u001b[0;32m---> 18\u001b[0m \u001b[43mupdate_puzzle_north\u001b[49m\u001b[43m(\u001b[49m\u001b[43mpuzzle\u001b[49m\u001b[43m)\u001b[49m\n\u001b[1;32m     19\u001b[0m puzzle \u001b[38;5;241m=\u001b[39m puzzle[::\u001b[38;5;241m-\u001b[39m\u001b[38;5;241m1\u001b[39m]\u001b[38;5;241m.\u001b[39mT\n\u001b[1;32m     21\u001b[0m LST\u001b[38;5;241m.\u001b[39mappend(score_load(puzzle))\n",
      "Cell \u001b[0;32mIn[21], line 4\u001b[0m, in \u001b[0;36mupdate_puzzle_north\u001b[0;34m(puzzle)\u001b[0m\n\u001b[1;32m      2\u001b[0m \u001b[38;5;28;01mfor\u001b[39;00m r \u001b[38;5;129;01min\u001b[39;00m \u001b[38;5;28mrange\u001b[39m(\u001b[38;5;28mlen\u001b[39m(puzzle)):\n\u001b[1;32m      3\u001b[0m     \u001b[38;5;28;01mfor\u001b[39;00m c \u001b[38;5;129;01min\u001b[39;00m \u001b[38;5;28mrange\u001b[39m(\u001b[38;5;28mlen\u001b[39m(puzzle)):\n\u001b[0;32m----> 4\u001b[0m         \u001b[38;5;28;01mif\u001b[39;00m puzzle[r, c] \u001b[38;5;241m==\u001b[39m \u001b[38;5;241m1\u001b[39m:\n\u001b[1;32m      5\u001b[0m             \u001b[38;5;66;03m# Update position\u001b[39;00m\n\u001b[1;32m      6\u001b[0m             update_position(puzzle, r, c)\n",
      "\u001b[0;31mKeyboardInterrupt\u001b[0m: "
     ]
    }
   ],
   "source": [
    "LST = []\n",
    "for i in range(1000):\n",
    "    print(i, end=\", \")\n",
    "    update_puzzle_north(puzzle)\n",
    "\n",
    "    # West\n",
    "    puzzle = puzzle.T\n",
    "    update_puzzle_north(puzzle)\n",
    "    puzzle = puzzle.T\n",
    "\n",
    "    # South\n",
    "    puzzle = puzzle[::-1]\n",
    "    update_puzzle_north(puzzle)\n",
    "    puzzle = puzzle[::-1]\n",
    "\n",
    "    # East\n",
    "    puzzle = puzzle.T[::-1]\n",
    "    update_puzzle_north(puzzle)\n",
    "    puzzle = puzzle[::-1].T\n",
    "    \n",
    "    # Save score\n",
    "    LST.append(score_load(puzzle))"
   ]
  },
  {
   "cell_type": "markdown",
   "id": "487cccc1",
   "metadata": {},
   "source": [
    "You should see that `set(LST)` is small relatively to  LST"
   ]
  },
  {
   "cell_type": "code",
   "execution_count": 61,
   "id": "74ba0b36",
   "metadata": {},
   "outputs": [
    {
     "data": {
      "text/plain": [
       "(136, 466)"
      ]
     },
     "execution_count": 61,
     "metadata": {},
     "output_type": "execute_result"
    }
   ],
   "source": [
    "len(set(LST)),len(LST)"
   ]
  },
  {
   "cell_type": "code",
   "execution_count": 69,
   "id": "9e684954",
   "metadata": {},
   "outputs": [],
   "source": [
    "i0 = 140 # Search an I0 where period is stable\n",
    "v1 = np.where(np.array(LST) == LST[i0])\n",
    "np.diff(v1[0])"
   ]
  },
  {
   "cell_type": "code",
   "execution_count": 71,
   "id": "d9aa67ef",
   "metadata": {},
   "outputs": [],
   "source": [
    "p = 70 # replace p by the period frequency"
   ]
  },
  {
   "cell_type": "code",
   "execution_count": 76,
   "id": "8b8fe5b9",
   "metadata": {},
   "outputs": [
    {
     "data": {
      "text/plain": [
       "94585"
      ]
     },
     "execution_count": 76,
     "metadata": {},
     "output_type": "execute_result"
    }
   ],
   "source": [
    "r = 1000000000 % p\n",
    "\n",
    "LST[r-1 + p*3] # px3 to be sure cyclic"
   ]
  },
  {
   "cell_type": "code",
   "execution_count": 38,
   "id": "c521a859",
   "metadata": {},
   "outputs": [
    {
     "data": {
      "text/plain": [
       "87"
      ]
     },
     "execution_count": 38,
     "metadata": {},
     "output_type": "execute_result"
    }
   ],
   "source": []
  }
 ],
 "metadata": {
  "kernelspec": {
   "display_name": "Python 3 (ipykernel)",
   "language": "python",
   "name": "python3"
  },
  "language_info": {
   "codemirror_mode": {
    "name": "ipython",
    "version": 3
   },
   "file_extension": ".py",
   "mimetype": "text/x-python",
   "name": "python",
   "nbconvert_exporter": "python",
   "pygments_lexer": "ipython3",
   "version": "3.10.12"
  },
  "toc": {
   "base_numbering": 1,
   "nav_menu": {},
   "number_sections": true,
   "sideBar": true,
   "skip_h1_title": false,
   "title_cell": "Table of Contents",
   "title_sidebar": "Contents",
   "toc_cell": false,
   "toc_position": {},
   "toc_section_display": true,
   "toc_window_display": false
  },
  "varInspector": {
   "cols": {
    "lenName": 16,
    "lenType": 16,
    "lenVar": 40
   },
   "kernels_config": {
    "python": {
     "delete_cmd_postfix": "",
     "delete_cmd_prefix": "del ",
     "library": "var_list.py",
     "varRefreshCmd": "print(var_dic_list())"
    },
    "r": {
     "delete_cmd_postfix": ") ",
     "delete_cmd_prefix": "rm(",
     "library": "var_list.r",
     "varRefreshCmd": "cat(var_dic_list()) "
    }
   },
   "types_to_exclude": [
    "module",
    "function",
    "builtin_function_or_method",
    "instance",
    "_Feature"
   ],
   "window_display": false
  }
 },
 "nbformat": 4,
 "nbformat_minor": 5
}
