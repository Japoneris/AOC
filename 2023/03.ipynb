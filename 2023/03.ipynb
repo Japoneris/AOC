{
 "cells": [
  {
   "cell_type": "markdown",
   "id": "7c37e494",
   "metadata": {},
   "source": [
    "# Setup"
   ]
  },
  {
   "cell_type": "code",
   "execution_count": 42,
   "id": "89b87403",
   "metadata": {},
   "outputs": [],
   "source": [
    "import numpy as np\n",
    "import matplotlib.pylab as plt"
   ]
  },
  {
   "cell_type": "code",
   "execution_count": 2,
   "id": "f48feb3d",
   "metadata": {},
   "outputs": [],
   "source": [
    "with open(\"input/03\", \"r\") as fp:\n",
    "    data = fp.read()"
   ]
  },
  {
   "cell_type": "code",
   "execution_count": 5,
   "id": "e67398e4",
   "metadata": {},
   "outputs": [],
   "source": [
    "lines = data.split(\"\\n\")[:-1]"
   ]
  },
  {
   "cell_type": "code",
   "execution_count": 9,
   "id": "cb5cab37",
   "metadata": {},
   "outputs": [
    {
     "data": {
      "text/plain": [
       "{'#',\n",
       " '$',\n",
       " '%',\n",
       " '&',\n",
       " '*',\n",
       " '+',\n",
       " '-',\n",
       " '.',\n",
       " '/',\n",
       " '0',\n",
       " '1',\n",
       " '2',\n",
       " '3',\n",
       " '4',\n",
       " '5',\n",
       " '6',\n",
       " '7',\n",
       " '8',\n",
       " '9',\n",
       " '=',\n",
       " '@'}"
      ]
     },
     "execution_count": 9,
     "metadata": {},
     "output_type": "execute_result"
    }
   ],
   "source": [
    "lst_symbols = set(data.replace(\"\\n\", \"\"))\n",
    "lst_symbols"
   ]
  },
  {
   "cell_type": "markdown",
   "id": "f52206a0",
   "metadata": {},
   "source": [
    "##### Convert symbols to numbers"
   ]
  },
  {
   "cell_type": "code",
   "execution_count": 49,
   "id": "527407c2",
   "metadata": {},
   "outputs": [],
   "source": [
    "dic_idx = dict([(c, idx) for idx, c in enumerate(lst_symbols)])\n",
    "dic_inv = dict([(idx, c) for idx, c in enumerate(lst_symbols)])\n"
   ]
  },
  {
   "cell_type": "markdown",
   "id": "48226863",
   "metadata": {},
   "source": [
    "##### List valid symbols"
   ]
  },
  {
   "cell_type": "code",
   "execution_count": 15,
   "id": "5da59425",
   "metadata": {},
   "outputs": [],
   "source": [
    "lst_valid = \"#$%&*+-=@/\""
   ]
  },
  {
   "cell_type": "markdown",
   "id": "98e8aaaf",
   "metadata": {},
   "source": [
    "##### Verify everything OK"
   ]
  },
  {
   "cell_type": "code",
   "execution_count": 16,
   "id": "c6df7964",
   "metadata": {},
   "outputs": [
    {
     "data": {
      "text/plain": [
       "{'.', '0', '1', '2', '3', '4', '5', '6', '7', '8', '9'}"
      ]
     },
     "execution_count": 16,
     "metadata": {},
     "output_type": "execute_result"
    }
   ],
   "source": [
    "set(lst_symbols) - set(lst_valid)"
   ]
  },
  {
   "cell_type": "code",
   "execution_count": 31,
   "id": "c9e57efd",
   "metadata": {},
   "outputs": [
    {
     "data": {
      "text/plain": [
       "[19, 2, 5, 0, 11, 7, 20, 1, 6, 10]"
      ]
     },
     "execution_count": 31,
     "metadata": {},
     "output_type": "execute_result"
    }
   ],
   "source": [
    "lst_numbers = [dic_idx[str(i)] for i in range(10)]\n",
    "lst_numbers"
   ]
  },
  {
   "cell_type": "markdown",
   "id": "42b81720",
   "metadata": {},
   "source": [
    "##### Convert puzzle"
   ]
  },
  {
   "cell_type": "code",
   "execution_count": 94,
   "id": "4d37d416",
   "metadata": {},
   "outputs": [
    {
     "name": "stdout",
     "output_type": "stream",
     "text": [
      "(140, 140)\n"
     ]
    }
   ],
   "source": [
    "puzzle = []\n",
    "for line in lines:\n",
    "    puzzle.append([dic_idx[x] for x in line])\n",
    "    \n",
    "puzzle = np.array(puzzle)\n",
    "print(puzzle.shape)"
   ]
  },
  {
   "cell_type": "code",
   "execution_count": 77,
   "id": "3bdec1a3",
   "metadata": {},
   "outputs": [
    {
     "name": "stdout",
     "output_type": "stream",
     "text": [
      "10 10\n"
     ]
    }
   ],
   "source": [
    "lines_test = \"\"\"467..114..\n",
    "...*......\n",
    "..35..633.\n",
    "......#...\n",
    "617*......\n",
    ".....+.58.\n",
    "..592.....\n",
    "......755.\n",
    "...$.*....\n",
    ".664.598..\"\"\".split(\"\\n\")\n",
    "\n",
    "puzzle = []\n",
    "for line in lines_test:\n",
    "    puzzle.append([dic_idx[x] for x in line])\n",
    "    \n",
    "puzzle = np.array(puzzle)\n",
    "nx, ny = puzzle.shape\n",
    "print(nx, ny)\n",
    "n = nx"
   ]
  },
  {
   "cell_type": "markdown",
   "id": "8087935e",
   "metadata": {},
   "source": [
    "### Search"
   ]
  },
  {
   "cell_type": "code",
   "execution_count": 97,
   "id": "9e129472",
   "metadata": {},
   "outputs": [],
   "source": [
    "M = np.ones((3, 3))\n",
    "M[1, 1] = 0\n",
    "MA, MB = np.where(M)\n",
    "MA, MB = MA-1, MB-1\n",
    "\n",
    "n = len(puzzle)\n",
    "\n",
    "\n",
    "def search_nearby(x, y):\n",
    "    cands = []\n",
    "    for xi, yi in zip(x+MA, y+MB):\n",
    "        if (xi < 0) | (yi < 0) | (xi >= n) | (yi >= n):\n",
    "            # Out of bounds\n",
    "            continue\n",
    "        \n",
    "        if puzzle[xi, yi] in lst_numbers:\n",
    "            cands.append((xi, yi))\n",
    "    \n",
    "    return cands\n",
    "\n",
    "def convert_to_number(x, y):\n",
    "    yi = y\n",
    "    while yi != 0:\n",
    "        if puzzle[x, yi - 1] in lst_numbers:\n",
    "            yi -= 1\n",
    "        else:\n",
    "            break\n",
    "    \n",
    "    yj = y\n",
    "    while yj != n - 1:\n",
    "        if puzzle[x, yj + 1] in lst_numbers:\n",
    "            yj += 1\n",
    "        else:\n",
    "            break\n",
    "            \n",
    "    val = 0\n",
    "    for k in range(yi, yj+1):\n",
    "        val = val * 10 + int(dic_inv[puzzle[x, k]])\n",
    "        \n",
    "    return (x, yi, val)\n",
    "    \n",
    "            \n",
    "    "
   ]
  },
  {
   "cell_type": "markdown",
   "id": "f9e74595",
   "metadata": {},
   "source": [
    "##### Convert x, y to numbers"
   ]
  },
  {
   "cell_type": "code",
   "execution_count": 79,
   "id": "e74b7d0c",
   "metadata": {},
   "outputs": [],
   "source": [
    "lst_around = [] # (x, y)\n",
    "\n",
    "for s in lst_valid:\n",
    "    # Convert character to ID\n",
    "    si = dic_idx[s]\n",
    "    A, B = np.where(puzzle == si)\n",
    "    \n",
    "    for x, y in zip(A, B):\n",
    "        ccc = search_nearby(x, y)\n",
    "        lst_around.extend(ccc)\n"
   ]
  },
  {
   "cell_type": "code",
   "execution_count": 81,
   "id": "2953f0ee",
   "metadata": {},
   "outputs": [],
   "source": [
    "dic_vals = dict([(idx, {}) for idx in range(n)])\n",
    "for x, y in lst_around:\n",
    "    x, yi, val = convert_to_number(x, y)\n",
    "    dic_vals[x][yi] = val\n",
    "    \n",
    "    "
   ]
  },
  {
   "cell_type": "code",
   "execution_count": 82,
   "id": "dcaed2bd",
   "metadata": {},
   "outputs": [],
   "source": [
    "for k, vals in dic_vals.items():\n",
    "    dic_vals[k] = dict([(c, vals[c]) for c in sorted(vals)])"
   ]
  },
  {
   "cell_type": "markdown",
   "id": "78d08e1a",
   "metadata": {},
   "source": [
    "##### Get the sum"
   ]
  },
  {
   "cell_type": "code",
   "execution_count": 83,
   "id": "886f6c08",
   "metadata": {},
   "outputs": [],
   "source": [
    "S = 0\n",
    "for vals in dic_vals.values():\n",
    "    S += sum(vals.values())"
   ]
  },
  {
   "cell_type": "code",
   "execution_count": 73,
   "id": "4ac51f17",
   "metadata": {},
   "outputs": [
    {
     "name": "stdout",
     "output_type": "stream",
     "text": [
      "Solution part 1: 535351\n"
     ]
    }
   ],
   "source": [
    "print(\"Solution part 1: {}\".format(S))"
   ]
  },
  {
   "cell_type": "markdown",
   "id": "0d4f5946",
   "metadata": {},
   "source": [
    "---"
   ]
  },
  {
   "cell_type": "markdown",
   "id": "43ab2318",
   "metadata": {},
   "source": [
    "## Part 2"
   ]
  },
  {
   "cell_type": "code",
   "execution_count": 98,
   "id": "1bc7436f",
   "metadata": {},
   "outputs": [
    {
     "name": "stdout",
     "output_type": "stream",
     "text": [
      "527904\n",
      "889730\n",
      "145395\n",
      "318720\n",
      "28120\n",
      "37908\n",
      "511004\n",
      "1443\n",
      "110825\n",
      "126399\n",
      "141476\n",
      "34394\n",
      "302624\n",
      "110936\n",
      "10880\n",
      "71412\n",
      "161352\n",
      "618222\n",
      "695236\n",
      "209475\n",
      "17420\n",
      "17472\n",
      "132912\n",
      "2585\n",
      "8704\n",
      "138195\n",
      "805662\n",
      "518960\n",
      "289180\n",
      "186089\n",
      "32450\n",
      "682836\n",
      "956288\n",
      "117120\n",
      "436752\n",
      "351540\n",
      "506044\n",
      "105524\n",
      "576419\n",
      "12464\n",
      "21760\n",
      "151944\n",
      "700569\n",
      "465152\n",
      "59236\n",
      "503757\n",
      "332486\n",
      "32640\n",
      "98418\n",
      "423696\n",
      "265320\n",
      "483990\n",
      "358138\n",
      "33567\n",
      "82280\n",
      "115052\n",
      "17779\n",
      "8645\n",
      "756651\n",
      "270067\n",
      "513718\n",
      "129502\n",
      "426560\n",
      "127190\n",
      "239850\n",
      "39312\n",
      "214620\n",
      "159194\n",
      "644215\n",
      "161700\n",
      "24\n",
      "85446\n",
      "21423\n",
      "185364\n",
      "209840\n",
      "150185\n",
      "20094\n",
      "729750\n",
      "736470\n",
      "423474\n",
      "130803\n",
      "2785\n",
      "30160\n",
      "89394\n",
      "565853\n",
      "497347\n",
      "450800\n",
      "245346\n",
      "364941\n",
      "600562\n",
      "833492\n",
      "459834\n",
      "600996\n",
      "47685\n",
      "47850\n",
      "615060\n",
      "434304\n",
      "138368\n",
      "144540\n",
      "6678\n",
      "46487\n",
      "602928\n",
      "120280\n",
      "465075\n",
      "189050\n",
      "723344\n",
      "697068\n",
      "42400\n",
      "35520\n",
      "223440\n",
      "16874\n",
      "19488\n",
      "145046\n",
      "913\n",
      "711535\n",
      "108702\n",
      "479400\n",
      "128753\n",
      "243264\n",
      "474138\n",
      "464824\n",
      "293715\n",
      "287888\n",
      "238520\n",
      "29241\n",
      "333576\n",
      "30535\n",
      "380584\n",
      "408453\n",
      "291343\n",
      "51208\n",
      "470369\n",
      "435372\n",
      "38950\n",
      "448220\n",
      "835660\n",
      "108876\n",
      "510699\n",
      "434280\n",
      "19500\n",
      "6208\n",
      "27962\n",
      "58016\n",
      "59890\n",
      "84924\n",
      "436248\n",
      "278480\n",
      "217113\n",
      "86991\n",
      "234090\n",
      "128805\n",
      "166050\n",
      "255642\n",
      "259017\n",
      "290136\n",
      "61696\n",
      "554694\n",
      "32025\n",
      "8740\n",
      "897376\n",
      "972096\n",
      "332840\n",
      "7476\n",
      "46620\n",
      "31006\n",
      "20768\n",
      "174345\n",
      "5174\n",
      "125079\n",
      "294126\n",
      "393344\n",
      "100651\n",
      "11550\n",
      "556640\n",
      "59100\n",
      "744381\n",
      "613172\n",
      "562461\n",
      "66316\n",
      "38500\n",
      "325983\n",
      "108376\n",
      "219492\n",
      "349888\n",
      "48052\n",
      "432564\n",
      "327287\n",
      "401322\n",
      "158382\n",
      "27090\n",
      "65936\n",
      "361630\n",
      "407572\n",
      "485409\n",
      "624081\n",
      "43740\n",
      "41776\n",
      "214452\n",
      "270936\n",
      "3949\n",
      "742840\n",
      "44935\n",
      "186813\n",
      "158368\n",
      "113080\n",
      "131340\n",
      "189750\n",
      "155200\n",
      "436492\n",
      "83980\n",
      "356160\n",
      "652265\n",
      "192786\n",
      "269800\n",
      "7616\n",
      "228980\n",
      "127296\n",
      "230464\n",
      "230202\n",
      "55965\n",
      "460852\n",
      "74254\n",
      "326524\n",
      "476016\n",
      "10008\n",
      "308034\n",
      "577564\n",
      "89244\n",
      "97384\n",
      "17248\n",
      "259511\n",
      "532598\n",
      "66836\n",
      "632460\n",
      "184815\n",
      "372708\n",
      "17933\n",
      "348502\n",
      "412902\n",
      "250776\n",
      "44403\n",
      "298550\n",
      "350400\n",
      "377739\n",
      "286524\n",
      "19803\n",
      "354000\n",
      "27666\n",
      "365532\n",
      "361820\n",
      "510380\n",
      "85314\n",
      "860\n",
      "408175\n",
      "21978\n",
      "317400\n",
      "221500\n",
      "173453\n",
      "309709\n",
      "126008\n",
      "333472\n",
      "126768\n",
      "99294\n",
      "63585\n",
      "82296\n",
      "171108\n",
      "63096\n",
      "33292\n",
      "144359\n",
      "42688\n",
      "496570\n",
      "37882\n",
      "113355\n",
      "250776\n",
      "586092\n",
      "137040\n",
      "294190\n",
      "857251\n",
      "225144\n",
      "163500\n",
      "107100\n",
      "342\n",
      "244093\n",
      "10452\n",
      "19760\n",
      "490176\n",
      "12928\n",
      "517104\n",
      "552615\n",
      "121264\n",
      "177408\n",
      "100716\n",
      "86528\n",
      "456475\n",
      "499366\n",
      "87768\n",
      "23472\n",
      "38493\n",
      "49815\n",
      "783215\n",
      "489288\n",
      "161409\n",
      "708739\n",
      "3760\n",
      "103939\n",
      "569245\n",
      "319278\n",
      "67858\n",
      "767382\n",
      "59090\n",
      "423493\n",
      "259688\n",
      "25400\n",
      "384555\n",
      "183708\n",
      "403130\n",
      "8991\n",
      "139202\n",
      "285831\n",
      "32956\n",
      "520128\n",
      "120003\n",
      "452049\n",
      "38709\n",
      "171120\n",
      "919056\n",
      "614289\n",
      "610586\n",
      "827648\n",
      "59325\n",
      "126111\n",
      "12960\n",
      "204064\n",
      "45448\n",
      "238965\n"
     ]
    }
   ],
   "source": [
    "G_tot = 0\n",
    "\n",
    "s = \"*\" # Gear\n",
    "# Convert character to ID\n",
    "si = dic_idx[s]\n",
    "A, B = np.where(puzzle == si)\n",
    "\n",
    "for x, y in zip(A, B):\n",
    "    ccc = search_nearby(x, y)\n",
    "    lst = []\n",
    "    for x, y in ccc:\n",
    "        x, yi, val = convert_to_number(x, y)\n",
    "        lst.append((x, yi, val))\n",
    "    \n",
    "    lst = list(set(lst))\n",
    "    if len(lst) == 2:\n",
    "        gear = lst[0][-1] * lst[1][-1]\n",
    "        G_tot += gear\n",
    "        print(gear)\n",
    "\n",
    "    "
   ]
  },
  {
   "cell_type": "code",
   "execution_count": 99,
   "id": "e9a2cd78",
   "metadata": {},
   "outputs": [
    {
     "name": "stdout",
     "output_type": "stream",
     "text": [
      "Solution part 2: 87287096\n"
     ]
    }
   ],
   "source": [
    "print(\"Solution part 2: {}\".format(G_tot))"
   ]
  },
  {
   "cell_type": "code",
   "execution_count": null,
   "id": "af5a790c",
   "metadata": {},
   "outputs": [],
   "source": []
  }
 ],
 "metadata": {
  "kernelspec": {
   "display_name": "Python 3 (ipykernel)",
   "language": "python",
   "name": "python3"
  },
  "language_info": {
   "codemirror_mode": {
    "name": "ipython",
    "version": 3
   },
   "file_extension": ".py",
   "mimetype": "text/x-python",
   "name": "python",
   "nbconvert_exporter": "python",
   "pygments_lexer": "ipython3",
   "version": "3.10.12"
  },
  "toc": {
   "base_numbering": 1,
   "nav_menu": {},
   "number_sections": true,
   "sideBar": true,
   "skip_h1_title": false,
   "title_cell": "Table of Contents",
   "title_sidebar": "Contents",
   "toc_cell": false,
   "toc_position": {},
   "toc_section_display": true,
   "toc_window_display": false
  },
  "varInspector": {
   "cols": {
    "lenName": 16,
    "lenType": 16,
    "lenVar": 40
   },
   "kernels_config": {
    "python": {
     "delete_cmd_postfix": "",
     "delete_cmd_prefix": "del ",
     "library": "var_list.py",
     "varRefreshCmd": "print(var_dic_list())"
    },
    "r": {
     "delete_cmd_postfix": ") ",
     "delete_cmd_prefix": "rm(",
     "library": "var_list.r",
     "varRefreshCmd": "cat(var_dic_list()) "
    }
   },
   "types_to_exclude": [
    "module",
    "function",
    "builtin_function_or_method",
    "instance",
    "_Feature"
   ],
   "window_display": false
  }
 },
 "nbformat": 4,
 "nbformat_minor": 5
}
