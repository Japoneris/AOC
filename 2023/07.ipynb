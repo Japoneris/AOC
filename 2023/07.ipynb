{
 "cells": [
  {
   "cell_type": "code",
   "execution_count": 1,
   "id": "64897889",
   "metadata": {},
   "outputs": [],
   "source": [
    "with open(\"input/07\", \"r\") as fp:\n",
    "    txt = fp.read()[:-1]"
   ]
  },
  {
   "cell_type": "code",
   "execution_count": 2,
   "id": "bf6d8cda",
   "metadata": {},
   "outputs": [],
   "source": [
    "txt_test = \"\"\"32T3K 765\n",
    "T55J5 684\n",
    "KK677 28\n",
    "KTJJT 220\n",
    "QQQJA 483\"\"\""
   ]
  },
  {
   "cell_type": "code",
   "execution_count": 22,
   "id": "1ac02aa2",
   "metadata": {},
   "outputs": [],
   "source": [
    "card_order = \"AKQJT98765432\"[::-1]\n",
    "l = len(card_order)"
   ]
  },
  {
   "cell_type": "code",
   "execution_count": 23,
   "id": "b0d171dd",
   "metadata": {},
   "outputs": [],
   "source": [
    "def score_hand(hand):\n",
    "    tot = 0\n",
    "    for c in hand:\n",
    "        tot = tot * l + card_order.index(c)\n",
    "    \n",
    "    return tot"
   ]
  },
  {
   "cell_type": "code",
   "execution_count": 40,
   "id": "4b034717",
   "metadata": {},
   "outputs": [],
   "source": [
    "def classify_hand(hand):\n",
    "    dic = dict([(c, 0) for c in set(hand)])\n",
    "    for c in hand:\n",
    "        dic[c] += 1\n",
    "\n",
    "    if len(dic) == 2:\n",
    "        a, b = list(dic.values())\n",
    "        if a * b == 4:\n",
    "            # Four kind\n",
    "            return \"20\"\n",
    "        \n",
    "        else:\n",
    "            # Full house\n",
    "            return \"21\"\n",
    "        \n",
    "    if len(dic) == 3:\n",
    "        a, b, c = list(dic.values())\n",
    "        \n",
    "        if a*b*c == 3:\n",
    "            # Three kind\n",
    "            return \"30\"\n",
    "        \n",
    "        else:\n",
    "            # Two pairs # 2 * 2\n",
    "            return \"31\"\n",
    "            \n",
    "        \n",
    "    else:\n",
    "        return str(len(dic)) + \"0\""
   ]
  },
  {
   "cell_type": "code",
   "execution_count": 47,
   "id": "52c6b2ca",
   "metadata": {},
   "outputs": [],
   "source": [
    "lst = []\n",
    "dic_results = {\"10\": [], \"20\": [], \"21\": [], \"30\": [], \"31\": [], \"40\": [], \"50\": []}\n",
    "\n",
    "for line in txt.split(\"\\n\"):\n",
    "    hand, bid = line.split()\n",
    "    bid = int(bid)\n",
    "    kind = classify_hand(hand)\n",
    "    #print(kind, bid, \"\\t\", hand)\n",
    "    #lst.append((kind, bid))\n",
    "    dic_results[kind].append([bid, hand])\n",
    "    \n",
    "#lst = sorted(lst)\n"
   ]
  },
  {
   "cell_type": "code",
   "execution_count": 44,
   "id": "7c991890",
   "metadata": {},
   "outputs": [
    {
     "data": {
      "text/plain": [
       "{'10': [],\n",
       " '20': [],\n",
       " '21': [],\n",
       " '30': [[684, 'T55J5'], [483, 'QQQJA']],\n",
       " '31': [[28, 'KK677'], [220, 'KTJJT']],\n",
       " '40': [[765, '32T3K']],\n",
       " '50': []}"
      ]
     },
     "execution_count": 44,
     "metadata": {},
     "output_type": "execute_result"
    }
   ],
   "source": [
    "dic_results"
   ]
  },
  {
   "cell_type": "code",
   "execution_count": 45,
   "id": "b13ee154",
   "metadata": {},
   "outputs": [],
   "source": [
    "def order_list(lst):\n",
    "    l_out = []\n",
    "    for a, b in lst:\n",
    "        l_out.append((score_hand(b), a))\n",
    "    \n",
    "    return sorted(l_out)"
   ]
  },
  {
   "cell_type": "code",
   "execution_count": 48,
   "id": "d7b7073f",
   "metadata": {},
   "outputs": [
    {
     "name": "stdout",
     "output_type": "stream",
     "text": [
      "241344943\n"
     ]
    }
   ],
   "source": [
    "rank = 1\n",
    "scores = 0\n",
    "for vals in list(dic_results.values())[::-1]:\n",
    "    lst = order_list(vals)\n",
    "    for _, v in lst:\n",
    "        scores += v * rank\n",
    "        rank += 1\n",
    "        \n",
    "print(scores)"
   ]
  },
  {
   "cell_type": "markdown",
   "id": "a8096ff7",
   "metadata": {},
   "source": [
    "# Part 2:\n",
    "\n",
    "Joker are wild card"
   ]
  },
  {
   "cell_type": "code",
   "execution_count": 61,
   "id": "8ea2599a",
   "metadata": {},
   "outputs": [],
   "source": [
    "card_order_j = \"AKQT98765432J\"[::-1]\n",
    "l = len(card_order_j)\n",
    "\n",
    "def score_hand_j(hand):\n",
    "    tot = 0\n",
    "    for c in hand:\n",
    "        tot = tot * l + card_order_j.index(c)\n",
    "    \n",
    "    return tot\n",
    "\n",
    "def order_list_j(lst):\n",
    "    l_out = []\n",
    "    for a, b in lst:\n",
    "        l_out.append((score_hand_j(b), a))\n",
    "    \n",
    "    return sorted(l_out)"
   ]
  },
  {
   "cell_type": "code",
   "execution_count": 56,
   "id": "68da83a7",
   "metadata": {},
   "outputs": [],
   "source": [
    "def classify_hand_j(hand):\n",
    "    \n",
    "    dic = dict([(c, 0) for c in set(hand)])\n",
    "    for c in hand:\n",
    "        dic[c] += 1\n",
    "        \n",
    "    j = 0\n",
    "    if \"J\" in dic:\n",
    "        j = dic[\"J\"]\n",
    "        del(dic[\"J\"])\n",
    "\n",
    "    if len(dic) == 0:\n",
    "        return \"10\"\n",
    "        \n",
    "    if len(dic) == 2:\n",
    "        a, b = sorted(dic.values(),reverse=True)\n",
    "        a += j\n",
    "        \n",
    "        if a * b == 4:\n",
    "            # Four kind\n",
    "            return \"20\"\n",
    "        \n",
    "        else:\n",
    "            # Full house\n",
    "            return \"21\"\n",
    "        \n",
    "    if len(dic) == 3:\n",
    "        a, b, c = sorted(dic.values(), reverse=True)\n",
    "        a += j\n",
    "        if a*b*c == 3:\n",
    "            # Three kind\n",
    "            return \"30\"\n",
    "        \n",
    "        else:\n",
    "            # Two pairs # 2 * 2\n",
    "            return \"31\"\n",
    "            \n",
    "        \n",
    "    else:\n",
    "        return str(len(dic)) + \"0\""
   ]
  },
  {
   "cell_type": "code",
   "execution_count": 63,
   "id": "8e0e0ca5",
   "metadata": {},
   "outputs": [],
   "source": [
    "lst = []\n",
    "dic_results = {\"10\": [], \"20\": [], \"21\": [], \"30\": [], \"31\": [], \"40\": [], \"50\": []}\n",
    "\n",
    "for line in txt.split(\"\\n\"):\n",
    "    hand, bid = line.split()\n",
    "    bid = int(bid)\n",
    "    kind = classify_hand_j(hand)\n",
    "    #print(kind, bid, \"\\t\", hand)\n",
    "    #lst.append((kind, bid))\n",
    "    dic_results[kind].append([bid, hand])\n",
    "    \n",
    "#lst = sorted(lst)\n"
   ]
  },
  {
   "cell_type": "code",
   "execution_count": 64,
   "id": "a682c172",
   "metadata": {},
   "outputs": [
    {
     "name": "stdout",
     "output_type": "stream",
     "text": [
      "243101568\n"
     ]
    }
   ],
   "source": [
    "rank = 1\n",
    "scores = 0\n",
    "for vals in list(dic_results.values())[::-1]:\n",
    "    lst = order_list_j(vals)\n",
    "    for _, v in lst:\n",
    "        scores += v * rank\n",
    "        rank += 1\n",
    "        \n",
    "print(scores)"
   ]
  },
  {
   "cell_type": "code",
   "execution_count": null,
   "id": "c7d95eb3",
   "metadata": {},
   "outputs": [],
   "source": [
    "243305080 # Too high"
   ]
  }
 ],
 "metadata": {
  "kernelspec": {
   "display_name": "Python 3 (ipykernel)",
   "language": "python",
   "name": "python3"
  },
  "language_info": {
   "codemirror_mode": {
    "name": "ipython",
    "version": 3
   },
   "file_extension": ".py",
   "mimetype": "text/x-python",
   "name": "python",
   "nbconvert_exporter": "python",
   "pygments_lexer": "ipython3",
   "version": "3.10.12"
  },
  "toc": {
   "base_numbering": 1,
   "nav_menu": {},
   "number_sections": true,
   "sideBar": true,
   "skip_h1_title": false,
   "title_cell": "Table of Contents",
   "title_sidebar": "Contents",
   "toc_cell": false,
   "toc_position": {},
   "toc_section_display": true,
   "toc_window_display": false
  },
  "varInspector": {
   "cols": {
    "lenName": 16,
    "lenType": 16,
    "lenVar": 40
   },
   "kernels_config": {
    "python": {
     "delete_cmd_postfix": "",
     "delete_cmd_prefix": "del ",
     "library": "var_list.py",
     "varRefreshCmd": "print(var_dic_list())"
    },
    "r": {
     "delete_cmd_postfix": ") ",
     "delete_cmd_prefix": "rm(",
     "library": "var_list.r",
     "varRefreshCmd": "cat(var_dic_list()) "
    }
   },
   "types_to_exclude": [
    "module",
    "function",
    "builtin_function_or_method",
    "instance",
    "_Feature"
   ],
   "window_display": false
  }
 },
 "nbformat": 4,
 "nbformat_minor": 5
}
