{
 "cells": [
  {
   "cell_type": "markdown",
   "id": "c363bbe0",
   "metadata": {},
   "source": [
    "# Load inputs"
   ]
  },
  {
   "cell_type": "code",
   "execution_count": 2,
   "id": "ffa4b95d",
   "metadata": {},
   "outputs": [],
   "source": [
    "txt = \"\"\n",
    "with open(\"input/08\", \"r\") as fp:\n",
    "    txt = fp.read()[:-1]"
   ]
  },
  {
   "cell_type": "code",
   "execution_count": 1,
   "id": "3508302a",
   "metadata": {},
   "outputs": [],
   "source": [
    "test_txt = \"\"\"RL\n",
    "\n",
    "AAA = (BBB, CCC)\n",
    "BBB = (DDD, EEE)\n",
    "CCC = (ZZZ, GGG)\n",
    "DDD = (DDD, DDD)\n",
    "EEE = (EEE, EEE)\n",
    "GGG = (GGG, GGG)\n",
    "ZZZ = (ZZZ, ZZZ)\"\"\""
   ]
  },
  {
   "cell_type": "code",
   "execution_count": 17,
   "id": "3a7c5491",
   "metadata": {},
   "outputs": [],
   "source": [
    "test2_txt = \"\"\"LLR\n",
    "\n",
    "AAA = (BBB, BBB)\n",
    "BBB = (AAA, ZZZ)\n",
    "ZZZ = (ZZZ, ZZZ)\"\"\""
   ]
  },
  {
   "cell_type": "code",
   "execution_count": 29,
   "id": "12782418",
   "metadata": {},
   "outputs": [],
   "source": [
    "test3_txt = \"\"\"LR\n",
    "\n",
    "11A = (11B, XXX)\n",
    "11B = (XXX, 11Z)\n",
    "11Z = (11B, XXX)\n",
    "22A = (22B, XXX)\n",
    "22B = (22C, 22C)\n",
    "22C = (22Z, 22Z)\n",
    "22Z = (22B, 22B)\n",
    "XXX = (XXX, XXX)\"\"\""
   ]
  },
  {
   "cell_type": "code",
   "execution_count": 91,
   "id": "a73185e2",
   "metadata": {},
   "outputs": [],
   "source": [
    "my_txt = test3_txt\n",
    "my_txt = txt\n"
   ]
  },
  {
   "cell_type": "markdown",
   "id": "4775f743",
   "metadata": {},
   "source": [
    "## Process"
   ]
  },
  {
   "cell_type": "code",
   "execution_count": 92,
   "id": "0e1327ff",
   "metadata": {},
   "outputs": [],
   "source": [
    "A, _, B = my_txt.split(\"\\n\", 2)\n",
    "\n",
    "la = len(A)\n",
    "B = B.split(\"\\n\")\n",
    "\n",
    "dic_B = {}\n",
    "for line in B:\n",
    "    a, b = line.split(\" = \")\n",
    "    dic_B[a] = b[1:-1].split(\", \")\n",
    "    "
   ]
  },
  {
   "cell_type": "markdown",
   "id": "f7b64a6e",
   "metadata": {
    "heading_collapsed": true
   },
   "source": [
    "# Part 1"
   ]
  },
  {
   "cell_type": "code",
   "execution_count": 25,
   "id": "eae4785c",
   "metadata": {
    "hidden": true
   },
   "outputs": [
    {
     "name": "stdout",
     "output_type": "stream",
     "text": [
      "End in 16043 steps\n"
     ]
    }
   ],
   "source": [
    "cnt = 0\n",
    "pos = \"AAA\"\n",
    "while True:\n",
    "    i = 0 if A[cnt % la] == \"L\" else 1\n",
    "    pos = dic_B[pos][i]\n",
    "    cnt += 1\n",
    "    \n",
    "    if pos == \"ZZZ\":\n",
    "        break\n",
    "        \n",
    "        \n",
    "print(\"End in {} steps\".format(cnt))"
   ]
  },
  {
   "cell_type": "markdown",
   "id": "2955d4f1",
   "metadata": {},
   "source": [
    "# Part 2"
   ]
  },
  {
   "cell_type": "markdown",
   "id": "34ba713a",
   "metadata": {
    "heading_collapsed": true
   },
   "source": [
    "## Brute force => Does not work !"
   ]
  },
  {
   "cell_type": "code",
   "execution_count": 41,
   "id": "b4925b1f",
   "metadata": {
    "hidden": true
   },
   "outputs": [
    {
     "name": "stdout",
     "output_type": "stream",
     "text": [
      "['FDA', 'BPA', 'BVA', 'NDA', 'AAA', 'QCA']\n"
     ]
    },
    {
     "ename": "KeyboardInterrupt",
     "evalue": "",
     "output_type": "error",
     "traceback": [
      "\u001b[0;31m---------------------------------------------------------------------------\u001b[0m",
      "\u001b[0;31mKeyboardInterrupt\u001b[0m                         Traceback (most recent call last)",
      "Cell \u001b[0;32mIn[41], line 9\u001b[0m\n\u001b[1;32m      7\u001b[0m start \u001b[38;5;241m=\u001b[39m \u001b[38;5;28mlist\u001b[39m(\u001b[38;5;28mmap\u001b[39m(\u001b[38;5;28;01mlambda\u001b[39;00m x: dic_B[x][i], start))\n\u001b[1;32m      8\u001b[0m cnt \u001b[38;5;241m+\u001b[39m\u001b[38;5;241m=\u001b[39m \u001b[38;5;241m1\u001b[39m\n\u001b[0;32m----> 9\u001b[0m xx \u001b[38;5;241m=\u001b[39m \u001b[38;5;28mlist\u001b[39m(\u001b[38;5;28;43mfilter\u001b[39;49m\u001b[43m(\u001b[49m\u001b[38;5;28;43;01mlambda\u001b[39;49;00m\u001b[43m \u001b[49m\u001b[43mx\u001b[49m\u001b[43m:\u001b[49m\u001b[43m \u001b[49m\u001b[43mx\u001b[49m\u001b[43m[\u001b[49m\u001b[38;5;241;43m-\u001b[39;49m\u001b[38;5;241;43m1\u001b[39;49m\u001b[43m]\u001b[49m\u001b[43m \u001b[49m\u001b[38;5;241;43m!=\u001b[39;49m\u001b[43m \u001b[49m\u001b[38;5;124;43m\"\u001b[39;49m\u001b[38;5;124;43mZ\u001b[39;49m\u001b[38;5;124;43m\"\u001b[39;49m\u001b[43m,\u001b[49m\u001b[43m \u001b[49m\u001b[43mstart\u001b[49m\u001b[43m)\u001b[49m)\n\u001b[1;32m     11\u001b[0m \u001b[38;5;28;01mif\u001b[39;00m \u001b[38;5;28mlen\u001b[39m(xx) \u001b[38;5;241m==\u001b[39m \u001b[38;5;241m0\u001b[39m:\n\u001b[1;32m     12\u001b[0m     \u001b[38;5;28;01mbreak\u001b[39;00m\n",
      "\u001b[0;31mKeyboardInterrupt\u001b[0m: "
     ]
    }
   ],
   "source": [
    "cnt = 0\n",
    "start = list(filter(lambda x: x[-1] == \"A\", dic_B))\n",
    "print(start)\n",
    "\n",
    "while True:\n",
    "    i = 0 if A[cnt % la] == \"L\" else 1\n",
    "    start = list(map(lambda x: dic_B[x][i], start))\n",
    "    cnt += 1\n",
    "    xx = list(filter(lambda x: x[-1] != \"Z\", start))\n",
    "    \n",
    "    if len(xx) == 0:\n",
    "        break\n",
    "        \n",
    "        \n",
    "print(\"End in {} steps\".format(cnt))"
   ]
  },
  {
   "cell_type": "markdown",
   "id": "61d6b99e",
   "metadata": {},
   "source": [
    "## Smart way to solve"
   ]
  },
  {
   "cell_type": "code",
   "execution_count": 95,
   "id": "96f4a612",
   "metadata": {},
   "outputs": [],
   "source": [
    "def get_freq(pos):\n",
    "    lst_seen = []\n",
    "    S = []\n",
    "    cnt = 0\n",
    "    while len(lst_seen) < 3:\n",
    "        i = 0 if A[cnt % la] == \"L\" else 1\n",
    "        pos = dic_B[pos][i]\n",
    "        cnt += 1\n",
    "\n",
    "        if pos[-1] == \"Z\":\n",
    "            lst_seen.append([pos, cnt])\n",
    "            \n",
    "    return lst_seen\n",
    "\n",
    "def get_next_value(aa, bb):\n",
    "    \n",
    "    x0a, x1a = aa\n",
    "    x0b, x1b = bb\n",
    "    if x1b > x1a:\n",
    "        x0b, x1b, x0a, x1a = x0a, x1a, x0b, x1b\n",
    "    \n",
    "    k = 0\n",
    "    lst_out = []\n",
    "    while len(lst_out) < 2:\n",
    "        v0 = x0a + x1a * k\n",
    "        k1 = (v0 - x0b) / x1b\n",
    "        k += 1\n",
    "        \n",
    "        if k1 == int(k1):\n",
    "            lst_out.append(v0)\n",
    "            \n",
    "    \n",
    "    return lst_out[0], lst_out[1] - lst_out[0]\n"
   ]
  },
  {
   "cell_type": "markdown",
   "id": "e8b2bb42",
   "metadata": {},
   "source": [
    "##### Identify start position"
   ]
  },
  {
   "cell_type": "code",
   "execution_count": 94,
   "id": "561cef02",
   "metadata": {},
   "outputs": [
    {
     "name": "stdout",
     "output_type": "stream",
     "text": [
      "['FDA', 'BPA', 'BVA', 'NDA', 'AAA', 'QCA']\n"
     ]
    }
   ],
   "source": [
    "cnt = 0\n",
    "start = list(filter(lambda x: x[-1] == \"A\", dic_B))\n",
    "print(start)"
   ]
  },
  {
   "cell_type": "markdown",
   "id": "ff9417b7",
   "metadata": {},
   "source": [
    "##### For each position, determine its frequency, how frequently does it finish ?"
   ]
  },
  {
   "cell_type": "code",
   "execution_count": 96,
   "id": "2d5fe29a",
   "metadata": {},
   "outputs": [],
   "source": [
    "lst_results = []\n",
    "for pos in start:\n",
    "    lst_results.append(get_freq(pos))\n",
    "        "
   ]
  },
  {
   "cell_type": "markdown",
   "id": "4c885387",
   "metadata": {},
   "source": [
    "##### Just convert the results\n"
   ]
  },
  {
   "cell_type": "code",
   "execution_count": 97,
   "id": "1fdba672",
   "metadata": {},
   "outputs": [
    {
     "name": "stdout",
     "output_type": "stream",
     "text": [
      "19199 + k 19199\n",
      "11309 + k 11309\n",
      "17621 + k 17621\n",
      "20777 + k 20777\n",
      "16043 + k 16043\n",
      "15517 + k 15517\n"
     ]
    }
   ],
   "source": [
    "lst_xx = []\n",
    "for res in lst_results:\n",
    "    x0 = res[0][1]\n",
    "    x1 = res[1][1] - res[0][1]\n",
    "    lst_xx.append((x0, x1))\n",
    "    \n",
    "    print(\"{} + k {}\".format(x0, x1))"
   ]
  },
  {
   "cell_type": "markdown",
   "id": "4682372d",
   "metadata": {},
   "source": [
    "##### Identify the overall frequency"
   ]
  },
  {
   "cell_type": "code",
   "execution_count": 99,
   "id": "8aa435c3",
   "metadata": {},
   "outputs": [],
   "source": [
    "x0, x1 = lst_xx[0]\n",
    "for xxx in lst_xx[1:]:\n",
    "    x0, x1 = get_next_value((x0, x1), xxx)\n",
    "\n",
    "print(\"Solution part 2: {}\".format(x0))"
   ]
  },
  {
   "cell_type": "code",
   "execution_count": 100,
   "id": "bb0c2808",
   "metadata": {},
   "outputs": [
    {
     "data": {
      "text/plain": [
       "15726453850399"
      ]
     },
     "execution_count": 100,
     "metadata": {},
     "output_type": "execute_result"
    }
   ],
   "source": [
    "x0"
   ]
  }
 ],
 "metadata": {
  "kernelspec": {
   "display_name": "Python 3 (ipykernel)",
   "language": "python",
   "name": "python3"
  },
  "language_info": {
   "codemirror_mode": {
    "name": "ipython",
    "version": 3
   },
   "file_extension": ".py",
   "mimetype": "text/x-python",
   "name": "python",
   "nbconvert_exporter": "python",
   "pygments_lexer": "ipython3",
   "version": "3.10.12"
  },
  "toc": {
   "base_numbering": 1,
   "nav_menu": {},
   "number_sections": true,
   "sideBar": true,
   "skip_h1_title": false,
   "title_cell": "Table of Contents",
   "title_sidebar": "Contents",
   "toc_cell": false,
   "toc_position": {},
   "toc_section_display": true,
   "toc_window_display": false
  },
  "varInspector": {
   "cols": {
    "lenName": 16,
    "lenType": 16,
    "lenVar": 40
   },
   "kernels_config": {
    "python": {
     "delete_cmd_postfix": "",
     "delete_cmd_prefix": "del ",
     "library": "var_list.py",
     "varRefreshCmd": "print(var_dic_list())"
    },
    "r": {
     "delete_cmd_postfix": ") ",
     "delete_cmd_prefix": "rm(",
     "library": "var_list.r",
     "varRefreshCmd": "cat(var_dic_list()) "
    }
   },
   "types_to_exclude": [
    "module",
    "function",
    "builtin_function_or_method",
    "instance",
    "_Feature"
   ],
   "window_display": false
  }
 },
 "nbformat": 4,
 "nbformat_minor": 5
}
