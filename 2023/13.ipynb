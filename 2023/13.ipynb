{
 "cells": [
  {
   "cell_type": "code",
   "execution_count": 5,
   "id": "fb1d1d93",
   "metadata": {},
   "outputs": [],
   "source": [
    "import numpy as np"
   ]
  },
  {
   "cell_type": "code",
   "execution_count": 87,
   "id": "f3f812cd",
   "metadata": {},
   "outputs": [],
   "source": [
    "with open(\"input/13\", \"r\") as fp:\n",
    "    txt = fp.read()[:-1]"
   ]
  },
  {
   "cell_type": "code",
   "execution_count": 1,
   "id": "71ea2650",
   "metadata": {},
   "outputs": [],
   "source": [
    "txt_test = \"\"\"#.##..##.\n",
    "..#.##.#.\n",
    "##......#\n",
    "##......#\n",
    "..#.##.#.\n",
    "..##..##.\n",
    "#.#.##.#.\n",
    "\n",
    "#...##..#\n",
    "#....#..#\n",
    "..##..###\n",
    "#####.##.\n",
    "#####.##.\n",
    "..##..###\n",
    "#....#..#\"\"\""
   ]
  },
  {
   "cell_type": "code",
   "execution_count": 6,
   "id": "c78dc955",
   "metadata": {},
   "outputs": [],
   "source": [
    "def process_one_input(P):\n",
    "    dic = {\".\": 0, \"#\": 1}\n",
    "    lines = P.split(\"\\n\")\n",
    "    \n",
    "    return np.array(\n",
    "        list(map(lambda row:\n",
    "            list(map(lambda x: dic[x], row)), lines))\n",
    "    )\n",
    "    \n"
   ]
  },
  {
   "cell_type": "code",
   "execution_count": 7,
   "id": "5846e09e",
   "metadata": {},
   "outputs": [],
   "source": [
    "def process_puzzle(ttt):\n",
    "    parts = ttt.split(\"\\n\\n\")\n",
    "    return list(map(process_one_input, parts))"
   ]
  },
  {
   "cell_type": "code",
   "execution_count": 103,
   "id": "86fac560",
   "metadata": {},
   "outputs": [],
   "source": [
    "def get_symmetry(puzzle):\n",
    "    \n",
    "    v = 0\n",
    "    for i in range(1, len(puzzle)):\n",
    "        A = puzzle[:i][::-1]\n",
    "        B = puzzle[i:]\n",
    "        la, lb = len(A), len(B)\n",
    "        m = min(la, lb)\n",
    "        A, B = A[:m], B[:m]\n",
    "        if (A != B).sum() == 0:\n",
    "            v = i\n",
    "    \n",
    "    return v\n"
   ]
  },
  {
   "cell_type": "code",
   "execution_count": 104,
   "id": "15ee1828",
   "metadata": {},
   "outputs": [],
   "source": [
    "def get_reflection(puzzle):\n",
    "    # Try horizontal\n",
    "    r = get_symmetry(puzzle)\n",
    "    c = get_symmetry(puzzle.T)\n",
    "    \n",
    "    return r * 100 +  c\n",
    "\n"
   ]
  },
  {
   "cell_type": "code",
   "execution_count": 107,
   "id": "9a4d09ff",
   "metadata": {},
   "outputs": [],
   "source": [
    "my_txt = txt\n",
    "\n",
    "puzzles = process_puzzle(my_txt)"
   ]
  },
  {
   "cell_type": "code",
   "execution_count": 108,
   "id": "cb1adcd8",
   "metadata": {},
   "outputs": [
    {
     "name": "stdout",
     "output_type": "stream",
     "text": [
      "11\n",
      "1000\n",
      "1\n",
      "200\n",
      "1400\n",
      "1200\n",
      "100\n",
      "5\n",
      "16\n",
      "100\n",
      "700\n",
      "1000\n",
      "3\n",
      "2\n",
      "100\n",
      "1600\n",
      "12\n",
      "12\n",
      "1\n",
      "3\n",
      "12\n",
      "200\n",
      "3\n",
      "7\n",
      "800\n",
      "15\n",
      "300\n",
      "1100\n",
      "9\n",
      "800\n",
      "1100\n",
      "900\n",
      "14\n",
      "100\n",
      "500\n",
      "8\n",
      "100\n",
      "16\n",
      "100\n",
      "1000\n",
      "15\n",
      "3\n",
      "100\n",
      "300\n",
      "12\n",
      "1\n",
      "7\n",
      "1600\n",
      "1\n",
      "9\n",
      "2\n",
      "1\n",
      "3\n",
      "300\n",
      "8\n",
      "800\n",
      "3\n",
      "100\n",
      "14\n",
      "400\n",
      "200\n",
      "2\n",
      "200\n",
      "1\n",
      "7\n",
      "100\n",
      "9\n",
      "5\n",
      "200\n",
      "1\n",
      "3\n",
      "900\n",
      "3\n",
      "300\n",
      "1400\n",
      "800\n",
      "1100\n",
      "600\n",
      "400\n",
      "5\n",
      "1\n",
      "1\n",
      "1\n",
      "300\n",
      "1\n",
      "100\n",
      "1200\n",
      "3\n",
      "9\n",
      "700\n",
      "600\n",
      "500\n",
      "13\n",
      "6\n",
      "100\n",
      "700\n",
      "11\n",
      "8\n",
      "400\n",
      "11\n"
     ]
    }
   ],
   "source": [
    "tot = 0\n",
    "for pzl in puzzles:\n",
    "    v = get_reflection(pzl)\n",
    "    tot += v \n",
    "    print(v)"
   ]
  },
  {
   "cell_type": "code",
   "execution_count": 110,
   "id": "645d9aa8",
   "metadata": {},
   "outputs": [
    {
     "name": "stdout",
     "output_type": "stream",
     "text": [
      "Part 1: 29130\n"
     ]
    }
   ],
   "source": [
    "print(\"Part 1: {}\".format(tot))"
   ]
  },
  {
   "cell_type": "code",
   "execution_count": null,
   "id": "fe8ac833",
   "metadata": {},
   "outputs": [],
   "source": [
    "# Too low 17055\n",
    "# Too low 18675\n",
    "# Too high 34081"
   ]
  },
  {
   "cell_type": "markdown",
   "id": "976ad72d",
   "metadata": {},
   "source": [
    "# Part 2"
   ]
  },
  {
   "cell_type": "code",
   "execution_count": 115,
   "id": "a5851937",
   "metadata": {},
   "outputs": [],
   "source": [
    "def get_symmetry2(puzzle):\n",
    "    \n",
    "    v = 0\n",
    "    for i in range(1, len(puzzle)):\n",
    "        A = puzzle[:i][::-1]\n",
    "        B = puzzle[i:]\n",
    "        la, lb = len(A), len(B)\n",
    "        m = min(la, lb)\n",
    "        A, B = A[:m], B[:m]\n",
    "        if (A != B).sum() == 1:\n",
    "            v = i\n",
    "    \n",
    "    return v\n"
   ]
  },
  {
   "cell_type": "code",
   "execution_count": 116,
   "id": "16649c24",
   "metadata": {},
   "outputs": [],
   "source": [
    "def get_reflection2(puzzle):\n",
    "    # Try horizontal\n",
    "    r = get_symmetry2(puzzle)\n",
    "    c = get_symmetry2(puzzle.T)\n",
    "    \n",
    "    return r * 100 +  c\n",
    "\n"
   ]
  },
  {
   "cell_type": "code",
   "execution_count": 120,
   "id": "d78c9997",
   "metadata": {},
   "outputs": [],
   "source": [
    "my_txt = txt_test\n",
    "\n",
    "puzzles = process_puzzle(my_txt)"
   ]
  },
  {
   "cell_type": "code",
   "execution_count": 121,
   "id": "eaf4aaaf",
   "metadata": {},
   "outputs": [
    {
     "name": "stdout",
     "output_type": "stream",
     "text": [
      "300\n",
      "100\n"
     ]
    }
   ],
   "source": [
    "tot = 0\n",
    "for pzl in puzzles:\n",
    "    v = get_reflection2(pzl)\n",
    "    tot += v \n",
    "    print(v)"
   ]
  },
  {
   "cell_type": "code",
   "execution_count": 119,
   "id": "b93e0b7b",
   "metadata": {},
   "outputs": [
    {
     "name": "stdout",
     "output_type": "stream",
     "text": [
      "33438\n"
     ]
    }
   ],
   "source": [
    "print(tot)"
   ]
  },
  {
   "cell_type": "code",
   "execution_count": null,
   "id": "fffa2f32",
   "metadata": {},
   "outputs": [],
   "source": []
  },
  {
   "cell_type": "code",
   "execution_count": null,
   "id": "98afee51",
   "metadata": {},
   "outputs": [],
   "source": []
  },
  {
   "cell_type": "code",
   "execution_count": null,
   "id": "68b5eb57",
   "metadata": {},
   "outputs": [],
   "source": []
  }
 ],
 "metadata": {
  "kernelspec": {
   "display_name": "Python 3 (ipykernel)",
   "language": "python",
   "name": "python3"
  },
  "language_info": {
   "codemirror_mode": {
    "name": "ipython",
    "version": 3
   },
   "file_extension": ".py",
   "mimetype": "text/x-python",
   "name": "python",
   "nbconvert_exporter": "python",
   "pygments_lexer": "ipython3",
   "version": "3.10.12"
  },
  "toc": {
   "base_numbering": 1,
   "nav_menu": {},
   "number_sections": true,
   "sideBar": true,
   "skip_h1_title": false,
   "title_cell": "Table of Contents",
   "title_sidebar": "Contents",
   "toc_cell": false,
   "toc_position": {},
   "toc_section_display": true,
   "toc_window_display": false
  },
  "varInspector": {
   "cols": {
    "lenName": 16,
    "lenType": 16,
    "lenVar": 40
   },
   "kernels_config": {
    "python": {
     "delete_cmd_postfix": "",
     "delete_cmd_prefix": "del ",
     "library": "var_list.py",
     "varRefreshCmd": "print(var_dic_list())"
    },
    "r": {
     "delete_cmd_postfix": ") ",
     "delete_cmd_prefix": "rm(",
     "library": "var_list.r",
     "varRefreshCmd": "cat(var_dic_list()) "
    }
   },
   "types_to_exclude": [
    "module",
    "function",
    "builtin_function_or_method",
    "instance",
    "_Feature"
   ],
   "window_display": false
  }
 },
 "nbformat": 4,
 "nbformat_minor": 5
}
