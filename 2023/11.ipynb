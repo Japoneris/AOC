{
 "cells": [
  {
   "cell_type": "markdown",
   "id": "dcb15ee1",
   "metadata": {},
   "source": [
    "# Setup"
   ]
  },
  {
   "cell_type": "code",
   "execution_count": 2,
   "id": "87d26eab",
   "metadata": {},
   "outputs": [],
   "source": [
    "import numpy as np"
   ]
  },
  {
   "cell_type": "code",
   "execution_count": 1,
   "id": "4f298b6c",
   "metadata": {},
   "outputs": [],
   "source": [
    "\n",
    "with open(\"input/11\", 'r') as fp:\n",
    "    txt = fp.read()[:-1]"
   ]
  },
  {
   "cell_type": "code",
   "execution_count": 8,
   "id": "1e7dea80",
   "metadata": {},
   "outputs": [],
   "source": [
    "test = \"\"\"...#......\n",
    ".......#..\n",
    "#.........\n",
    "..........\n",
    "......#...\n",
    ".#........\n",
    ".........#\n",
    "..........\n",
    ".......#..\n",
    "#...#.....\"\"\""
   ]
  },
  {
   "cell_type": "code",
   "execution_count": 83,
   "id": "8b67093b",
   "metadata": {},
   "outputs": [],
   "source": [
    "\n",
    "my_text = txt\n"
   ]
  },
  {
   "cell_type": "code",
   "execution_count": 74,
   "id": "e33ab5ab",
   "metadata": {},
   "outputs": [],
   "source": [
    "my_text = test\n"
   ]
  },
  {
   "cell_type": "code",
   "execution_count": 10,
   "id": "89c777d9",
   "metadata": {},
   "outputs": [],
   "source": [
    "def process_input(xxx):\n",
    "    lines = xxx.split('\\n')\n",
    "    \n",
    "    n = len(lines)\n",
    "    n1 = len(lines[0])\n",
    "    \n",
    "    M = np.zeros((n, n1))\n",
    "    for idx, line in enumerate(lines):\n",
    "        for jdx, v in enumerate(line):\n",
    "            if v == \"#\":\n",
    "                M[idx, jdx] = 1\n",
    "    \n",
    "    return M"
   ]
  },
  {
   "cell_type": "markdown",
   "id": "85e28e35",
   "metadata": {
    "heading_collapsed": true
   },
   "source": [
    "# Part 1"
   ]
  },
  {
   "cell_type": "code",
   "execution_count": 66,
   "id": "2e72724c",
   "metadata": {
    "hidden": true
   },
   "outputs": [],
   "source": [
    "M = process_input(my_text)\n",
    "# Weight of the columns\n",
    "L = 1 + (M.sum(axis=1) == 0).astype(int)\n",
    "C = 1 + (M.sum(axis=0) == 0).astype(int)\n",
    "\n",
    "def score_pairs(pos0, pos1):\n",
    "    x0, y0 = pos0\n",
    "    x1, y1 = pos1\n",
    "    \n",
    "    xm, xM = min(x0, x1), max(x0, x1)\n",
    "    ym, yM = min(y0, y1), max(y0, y1)\n",
    "    \n",
    "    dd = 100000000\n",
    "    for a0, a1 in [(1, 0), (0, 1)]:\n",
    "        for b0, b1 in [(0, 1), (1, 0)]:\n",
    "\n",
    "            # Test 1\n",
    "            dx = L[xm+a0:xM+b0].sum()\n",
    "            dy = C[ym+a1:yM+b1].sum()\n",
    "            dd = min(dd, dx+dy)\n",
    "    \n",
    "    \n",
    "    \n",
    "    \n",
    "    return dd"
   ]
  },
  {
   "cell_type": "code",
   "execution_count": 71,
   "id": "4eaf88c0",
   "metadata": {
    "hidden": true
   },
   "outputs": [
    {
     "name": "stdout",
     "output_type": "stream",
     "text": [
      "451\n",
      "101475.0\n"
     ]
    }
   ],
   "source": [
    "Pos =  np.array(np.where(M == 1)).T\n",
    "\n",
    "l0 = len(Pos)\n",
    "print(l0)\n",
    "print(l0 * (l0 - 1)/2)"
   ]
  },
  {
   "cell_type": "code",
   "execution_count": 72,
   "id": "c0b06426",
   "metadata": {
    "hidden": true
   },
   "outputs": [],
   "source": [
    "lst_scores = []\n",
    "for idx, pos in enumerate(Pos):\n",
    "    #v = sorted(map(lambda x: score_pairs(pos, x), Pos))[1]\n",
    "    lll = sorted(map(lambda x: score_pairs(pos, x), Pos))\n",
    "    lst_scores.extend(lll[1:])\n",
    "    "
   ]
  },
  {
   "cell_type": "code",
   "execution_count": 73,
   "id": "905fb16a",
   "metadata": {
    "hidden": true
   },
   "outputs": [
    {
     "name": "stdout",
     "output_type": "stream",
     "text": [
      "Part 1: 10154062.0\n"
     ]
    }
   ],
   "source": [
    "print(\"Part 1: {}\".format(sum(lst_scores) /2))"
   ]
  },
  {
   "cell_type": "markdown",
   "id": "e09b737e",
   "metadata": {},
   "source": [
    "# Part 2"
   ]
  },
  {
   "cell_type": "code",
   "execution_count": 84,
   "id": "efe83f99",
   "metadata": {},
   "outputs": [],
   "source": [
    "M = process_input(my_text)\n",
    "# Weight of the columns\n",
    "a = 10\n",
    "a = 1000000\n",
    "L = 1 + (a - 1) * (M.sum(axis=1) == 0).astype(int)\n",
    "C = 1 + (a - 1) *(M.sum(axis=0) == 0).astype(int)\n",
    "\n",
    "def score_pairs(pos0, pos1):\n",
    "    x0, y0 = pos0\n",
    "    x1, y1 = pos1\n",
    "    \n",
    "    xm, xM = min(x0, x1), max(x0, x1)\n",
    "    ym, yM = min(y0, y1), max(y0, y1)\n",
    "    \n",
    "    dd = 1000000000000\n",
    "    for a0, a1 in [(1, 0), (0, 1)]:\n",
    "        for b0, b1 in [(0, 1), (1, 0)]:\n",
    "\n",
    "            # Test 1\n",
    "            dx = L[xm+a0:xM+b0].sum()\n",
    "            dy = C[ym+a1:yM+b1].sum()\n",
    "            dd = min(dd, dx+dy)\n",
    "    \n",
    "    \n",
    "    \n",
    "    \n",
    "    return dd"
   ]
  },
  {
   "cell_type": "code",
   "execution_count": 85,
   "id": "66996ef3",
   "metadata": {},
   "outputs": [
    {
     "name": "stdout",
     "output_type": "stream",
     "text": [
      "451\n",
      "101475.0\n"
     ]
    }
   ],
   "source": [
    "Pos =  np.array(np.where(M == 1)).T\n",
    "\n",
    "l0 = len(Pos)\n",
    "print(l0)\n",
    "print(l0 * (l0 - 1)/2)"
   ]
  },
  {
   "cell_type": "code",
   "execution_count": 86,
   "id": "33b12d3c",
   "metadata": {},
   "outputs": [],
   "source": [
    "lst_scores = []\n",
    "for idx, pos in enumerate(Pos):\n",
    "    #v = sorted(map(lambda x: score_pairs(pos, x), Pos))[1]\n",
    "    lll = sorted(map(lambda x: score_pairs(pos, x), Pos))\n",
    "    lst_scores.extend(lll[1:])\n",
    "    "
   ]
  },
  {
   "cell_type": "code",
   "execution_count": 87,
   "id": "4feff539",
   "metadata": {},
   "outputs": [
    {
     "name": "stdout",
     "output_type": "stream",
     "text": [
      "Part 1: 553083047914.0\n"
     ]
    }
   ],
   "source": [
    "print(\"Part 2: {}\".format(sum(lst_scores) /2))"
   ]
  },
  {
   "cell_type": "code",
   "execution_count": null,
   "id": "238b9845",
   "metadata": {},
   "outputs": [],
   "source": []
  },
  {
   "cell_type": "code",
   "execution_count": null,
   "id": "0fdf18dd",
   "metadata": {},
   "outputs": [],
   "source": []
  }
 ],
 "metadata": {
  "kernelspec": {
   "display_name": "Python 3 (ipykernel)",
   "language": "python",
   "name": "python3"
  },
  "language_info": {
   "codemirror_mode": {
    "name": "ipython",
    "version": 3
   },
   "file_extension": ".py",
   "mimetype": "text/x-python",
   "name": "python",
   "nbconvert_exporter": "python",
   "pygments_lexer": "ipython3",
   "version": "3.10.12"
  },
  "toc": {
   "base_numbering": 1,
   "nav_menu": {},
   "number_sections": true,
   "sideBar": true,
   "skip_h1_title": false,
   "title_cell": "Table of Contents",
   "title_sidebar": "Contents",
   "toc_cell": false,
   "toc_position": {},
   "toc_section_display": true,
   "toc_window_display": false
  },
  "varInspector": {
   "cols": {
    "lenName": 16,
    "lenType": 16,
    "lenVar": 40
   },
   "kernels_config": {
    "python": {
     "delete_cmd_postfix": "",
     "delete_cmd_prefix": "del ",
     "library": "var_list.py",
     "varRefreshCmd": "print(var_dic_list())"
    },
    "r": {
     "delete_cmd_postfix": ") ",
     "delete_cmd_prefix": "rm(",
     "library": "var_list.r",
     "varRefreshCmd": "cat(var_dic_list()) "
    }
   },
   "types_to_exclude": [
    "module",
    "function",
    "builtin_function_or_method",
    "instance",
    "_Feature"
   ],
   "window_display": false
  }
 },
 "nbformat": 4,
 "nbformat_minor": 5
}
