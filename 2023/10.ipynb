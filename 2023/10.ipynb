{
 "cells": [
  {
   "cell_type": "markdown",
   "id": "1640fd2c",
   "metadata": {},
   "source": [
    "# Setup"
   ]
  },
  {
   "cell_type": "code",
   "execution_count": 28,
   "id": "f288e3c4",
   "metadata": {},
   "outputs": [],
   "source": [
    "import numpy as np\n",
    "import matplotlib.pylab as plt"
   ]
  },
  {
   "cell_type": "code",
   "execution_count": 1,
   "id": "a244db06",
   "metadata": {},
   "outputs": [],
   "source": [
    "with open(\"input/10\", \"r\") as fp:\n",
    "    txt = fp.read()[:-1]"
   ]
  },
  {
   "cell_type": "code",
   "execution_count": 4,
   "id": "3e72b27d",
   "metadata": {},
   "outputs": [],
   "source": [
    "my_text = txt"
   ]
  },
  {
   "cell_type": "markdown",
   "id": "2b9b88d2",
   "metadata": {},
   "source": [
    "\n",
    "    | is a vertical pipe connecting north and south.\n",
    "    - is a horizontal pipe connecting east and west.\n",
    "    L is a 90-degree bend connecting north and east.\n",
    "    J is a 90-degree bend connecting north and west.\n",
    "    7 is a 90-degree bend connecting south and west.\n",
    "    F is a 90-degree bend connecting south and east.\n",
    "    . is ground; there is no pipe in this tile.\n",
    "    S is the starting position of the animal; there is a pipe on this tile, but your sketch doesn't show what shape the pipe has.\n"
   ]
  },
  {
   "cell_type": "markdown",
   "id": "0e24518a",
   "metadata": {},
   "source": [
    "##### Function"
   ]
  },
  {
   "cell_type": "code",
   "execution_count": 5,
   "id": "e7e5d301",
   "metadata": {},
   "outputs": [],
   "source": [
    "def process_input(xxx):\n",
    "    lines = xxx.split('\\n')\n",
    "    return lines"
   ]
  },
  {
   "cell_type": "code",
   "execution_count": 9,
   "id": "e4df6163",
   "metadata": {},
   "outputs": [],
   "source": [
    "def find_S(lines):\n",
    "    for idx, line in enumerate(lines):\n",
    "        if \"S\" in line:\n",
    "            return idx, line.index(\"S\")\n",
    "            \n",
    "    return None\n",
    "            "
   ]
  },
  {
   "cell_type": "markdown",
   "id": "501c8af7",
   "metadata": {
    "heading_collapsed": true
   },
   "source": [
    "##### Does not work"
   ]
  },
  {
   "cell_type": "code",
   "execution_count": 25,
   "id": "a36d8da2",
   "metadata": {
    "hidden": true
   },
   "outputs": [],
   "source": [
    "def explore_dist(M, lines, pos):\n",
    "    i, j = pos\n",
    "    v0 = M[i, j] + 1\n",
    "    \n",
    "    S_valid = \"SLJF7-|\"\n",
    "    \n",
    "    c = lines[i][j]\n",
    "    lst_explore = []\n",
    "    if c == \"S\":\n",
    "        # Explore all 4 directions\n",
    "        lst_explore = [(i, j+1), (i, j-1), (i+1, j), (i-1, j)]\n",
    "        \n",
    "    elif c == \"|\":\n",
    "        lst_explore = [(i-1, j), (i+1, j)]\n",
    "\n",
    "    elif c == \"-\":\n",
    "        lst_explore = [(i, j-1), (i, j+1)]\n",
    "\n",
    "    elif c == \"L\":\n",
    "        lst_explore = [(i-1, j), (i, j+1)]\n",
    "\n",
    "    elif c == \"J\":\n",
    "        lst_explore = [(i-1, j), (i, j-1)]\n",
    "\n",
    "    elif c == \"7\":\n",
    "        lst_explore = [(i+1, j), (i, j-1)]\n",
    "\n",
    "    elif c == \"F\":\n",
    "        lst_explore = [(i+1, j), (i, j+1)]\n",
    "\n",
    "\n",
    "    lst_new = []\n",
    "    for i1, j1 in lst_explore:\n",
    "        if (i1 >= 0) & (i1 < len(M)) & (j1 >= 0) & (j1 < len(M[0])):\n",
    "            if lines[i1][j1] in S_valid:\n",
    "                if M[i1, j1] > v0:\n",
    "                    # Do not add new position if more distant\n",
    "                    M[i1, j1] = v0\n",
    "                    lst_new.append((i1, j1))\n",
    "                \n",
    "    return lst_new"
   ]
  },
  {
   "cell_type": "markdown",
   "id": "d20bdd92",
   "metadata": {},
   "source": [
    "#### Process input"
   ]
  },
  {
   "cell_type": "code",
   "execution_count": 7,
   "id": "38425a7d",
   "metadata": {},
   "outputs": [],
   "source": [
    "lines = process_input(my_text)\n",
    "\n",
    "d0 = len(lines)\n",
    "d1 = len(lines[0])"
   ]
  },
  {
   "cell_type": "markdown",
   "id": "ab2dc473",
   "metadata": {},
   "source": [
    "##### Find animal location"
   ]
  },
  {
   "cell_type": "code",
   "execution_count": 12,
   "id": "4dfb7182",
   "metadata": {},
   "outputs": [],
   "source": [
    "a, b = find_S(lines)\n"
   ]
  },
  {
   "cell_type": "markdown",
   "id": "c76aed00",
   "metadata": {},
   "source": [
    "## Part 1"
   ]
  },
  {
   "cell_type": "code",
   "execution_count": 42,
   "id": "1ad3d59d",
   "metadata": {},
   "outputs": [],
   "source": [
    "def explore_dist_v2(M, lines, pos):\n",
    "    i, j = pos\n",
    "    v0 = M[i, j] + 1\n",
    "    \n",
    "    # (i+di, j+dj)\n",
    "    dic_next = {\n",
    "        0: {1: \"-J7\", -1: \"-LF\"},\n",
    "        1: {0: \"|LJ\"},\n",
    "        -1: {0: \"|F7\"},\n",
    "               }\n",
    "    c = lines[i][j]\n",
    "    lst_explore = []\n",
    "    if c == \"S\":\n",
    "        S_valid = \"SLJF7-|\"\n",
    "        # Explore all 4 directions\n",
    "        lst_explore = [(0, 1), (0, -1), (1, 0), (-1, 0)]\n",
    "        \n",
    "\n",
    "    elif c == \"|\":\n",
    "        lst_explore = [(-1, 0), (1, 0)]\n",
    "\n",
    "    elif c == \"-\":\n",
    "        lst_explore = [(0, -1), (0, 1)]\n",
    "\n",
    "    elif c == \"L\":\n",
    "        lst_explore = [(-1, 0), (0, 1)]\n",
    "\n",
    "    elif c == \"J\":\n",
    "        lst_explore = [(-1, 0), (0, -1)]\n",
    "\n",
    "    elif c == \"7\":\n",
    "        lst_explore = [(1, 0), (0, -1)]\n",
    "\n",
    "    elif c == \"F\":\n",
    "        lst_explore = [(1, 0), (0, +1)]\n",
    "\n",
    "\n",
    "    lst_new = []\n",
    "    for di, dj in lst_explore:\n",
    "        i1, j1 = i+di, j+dj\n",
    "        s_valid = dic_next[di][dj]\n",
    "        \n",
    "        if (i1 >= 0) & (i1 < len(M)) & (j1 >= 0) & (j1 < len(M[0])):\n",
    "            if lines[i1][j1] in s_valid:\n",
    "                if M[i1, j1] > v0:\n",
    "                    # Do not add new position if more distant\n",
    "                    M[i1, j1] = v0\n",
    "                    lst_new.append((i1, j1))\n",
    "                \n",
    "    return lst_new"
   ]
  },
  {
   "cell_type": "code",
   "execution_count": 45,
   "id": "585b36c0",
   "metadata": {},
   "outputs": [],
   "source": [
    "M = 999999 * np.ones((d0, d1))\n",
    "M[a, b] = 0\n",
    "lst_pos = [(a, b)]\n",
    "\n",
    "while len(lst_pos) > 0:\n",
    "    pos = lst_pos.pop(0)\n",
    "    new_pos = explore_dist_v2(M, lines, pos)\n",
    "    lst_pos.extend(new_pos)"
   ]
  },
  {
   "cell_type": "code",
   "execution_count": 50,
   "id": "b8b92546",
   "metadata": {},
   "outputs": [],
   "source": [
    "vmax = max(M[M < M[0, 0]])"
   ]
  },
  {
   "cell_type": "code",
   "execution_count": 51,
   "id": "ad855776",
   "metadata": {},
   "outputs": [
    {
     "data": {
      "text/plain": [
       "<matplotlib.image.AxesImage at 0x7fb42f4b22c0>"
      ]
     },
     "execution_count": 51,
     "metadata": {},
     "output_type": "execute_result"
    },
    {
     "data": {
      "image/png": "[encoded data removed]",
      "text/plain": [
       "<Figure size 640x480 with 1 Axes>"
      ]
     },
     "metadata": {},
     "output_type": "display_data"
    }
   ],
   "source": [
    "plt.imshow(M, interpolation=\"none\", vmax=vmax)"
   ]
  },
  {
   "cell_type": "markdown",
   "id": "c4a0fa79",
   "metadata": {},
   "source": [
    "### Make four different explorations"
   ]
  },
  {
   "cell_type": "code",
   "execution_count": 60,
   "id": "4d611627",
   "metadata": {},
   "outputs": [],
   "source": [
    "M_lst = []\n",
    "\n",
    "M = 999999 * np.ones((d0, d1))\n",
    "M[a, b] = 0\n",
    "lst_zeros = explore_dist_v2(M, lines, (a, b))\n",
    "\n",
    "for pos in lst_zeros: \n",
    "    M = 999999 * np.ones((d0, d1))\n",
    "    M[a, b] = 0\n",
    "    M[pos[0], pos[1]] = 1\n",
    "    lst_pos = [pos]\n",
    "\n",
    "    while len(lst_pos) > 0:\n",
    "        pos = lst_pos.pop(0)\n",
    "        new_pos = explore_dist_v2(M, lines, pos)\n",
    "        lst_pos.extend(new_pos)\n",
    "        \n",
    "    M_lst.append(M)"
   ]
  },
  {
   "cell_type": "code",
   "execution_count": 67,
   "id": "9daa09af",
   "metadata": {},
   "outputs": [
    {
     "name": "stdout",
     "output_type": "stream",
     "text": [
      "Part 1: 6786.0\n",
      "Part 1: 6786.0\n"
     ]
    }
   ],
   "source": [
    "for Mi in M_lst:\n",
    "    tot = 0\n",
    "    for ai, bi in lst_zeros:\n",
    "        tot += Mi[ai, bi]\n",
    "        \n",
    "    print(\"Part 1: {}\".format(tot/2))\n"
   ]
  },
  {
   "cell_type": "code",
   "execution_count": 82,
   "id": "ca0ce8d6",
   "metadata": {},
   "outputs": [
    {
     "data": {
      "text/plain": [
       "(25, 77)"
      ]
     },
     "execution_count": 82,
     "metadata": {},
     "output_type": "execute_result"
    }
   ],
   "source": [
    "a, b"
   ]
  },
  {
   "cell_type": "code",
   "execution_count": 91,
   "id": "30f294be",
   "metadata": {},
   "outputs": [
    {
     "name": "stdout",
     "output_type": "stream",
     "text": [
      "OK\n",
      "OK\n"
     ]
    },
    {
     "data": {
      "image/png": "[encoded data removed]",
      "text/plain": [
       "<Figure size 500x500 with 1 Axes>"
      ]
     },
     "metadata": {},
     "output_type": "display_data"
    },
    {
     "data": {
      "image/png": "[encoded data removed]",
      "text/plain": [
       "<Figure size 500x500 with 1 Axes>"
      ]
     },
     "metadata": {},
     "output_type": "display_data"
    }
   ],
   "source": [
    "for Mi in M_lst:\n",
    "    print(\"OK\")\n",
    "    fig, ax = plt.subplots(figsize=(5, 5))\n",
    "    plt.imshow(Mi, vmax=vmax, vmin=vmax-2000, interpolation=\"none\")"
   ]
  },
  {
   "cell_type": "markdown",
   "id": "64a3cc90",
   "metadata": {},
   "source": [
    "# Part 2: Enclosed elements"
   ]
  },
  {
   "cell_type": "code",
   "execution_count": 76,
   "id": "627fbe8d",
   "metadata": {},
   "outputs": [
    {
     "name": "stdout",
     "output_type": "stream",
     "text": [
      "13572\n"
     ]
    }
   ],
   "source": [
    "vmax = 6786*2\n",
    "print(vmax)"
   ]
  },
  {
   "cell_type": "code",
   "execution_count": 74,
   "id": "d84f4889",
   "metadata": {},
   "outputs": [],
   "source": [
    "M_all = M_lst[0] + M_lst[1]"
   ]
  },
  {
   "cell_type": "code",
   "execution_count": 75,
   "id": "9bd4cb3f",
   "metadata": {},
   "outputs": [
    {
     "data": {
      "text/plain": [
       "13571"
      ]
     },
     "execution_count": 75,
     "metadata": {},
     "output_type": "execute_result"
    }
   ],
   "source": [
    "(M_all == vmax).sum()"
   ]
  },
  {
   "cell_type": "code",
   "execution_count": 73,
   "id": "d54bc0f8",
   "metadata": {},
   "outputs": [
    {
     "data": {
      "text/plain": [
       "<matplotlib.image.AxesImage at 0x7fb426f9f1c0>"
      ]
     },
     "execution_count": 73,
     "metadata": {},
     "output_type": "execute_result"
    },
    {
     "data": {
      "image/png": "[encoded data removed]",
      "text/plain": [
       "<Figure size 640x480 with 1 Axes>"
      ]
     },
     "metadata": {},
     "output_type": "display_data"
    }
   ],
   "source": [
    "plt.imshow(M_lst[0] + M_lst[1] == vmax, interpolation=\"none\")"
   ]
  },
  {
   "cell_type": "markdown",
   "id": "8f89b0e3",
   "metadata": {},
   "source": [
    "## Get snake path"
   ]
  },
  {
   "cell_type": "code",
   "execution_count": 115,
   "id": "893f0f27",
   "metadata": {},
   "outputs": [],
   "source": [
    "M_ref = M_lst[0]\n",
    "lst_in = [] # ordered list\n",
    "pos = (a, b)\n",
    "cnt = 0\n",
    "\n",
    "while cnt != vmax-1:\n",
    "    lst_in.append(pos)\n",
    "    \n",
    "    for di, dj in [(1, 0), (-1, 0), (0, 1), (0, -1)]:\n",
    "        i, j = pos[0] + di, pos[1] + dj\n",
    "        if (i < 0) | (i >= len(M_ref)) | (j < 0) | (j >= len(M_ref[0])):\n",
    "            continue\n",
    "        \n",
    "        if M_ref[i, j] == cnt+1:\n",
    "            pos = i, j\n",
    "            cnt += 1\n",
    "            break\n"
   ]
  },
  {
   "cell_type": "markdown",
   "id": "63f8f10a",
   "metadata": {},
   "source": [
    "## Explore with a snake\n",
    "\n",
    "Keep in memory its direction, so \"in\" and \"out\" can be identified"
   ]
  },
  {
   "cell_type": "code",
   "execution_count": 246,
   "id": "acb6bf92",
   "metadata": {},
   "outputs": [],
   "source": [
    "#M_cands = ((M_all != vmax) & (M_marked == 0)).astype(int) # True\n",
    "M_cands = ((M_all != vmax) ).astype(int)"
   ]
  },
  {
   "cell_type": "markdown",
   "id": "8c0572b7",
   "metadata": {},
   "source": [
    "##### Reverse the list if the snakes goes in the other direction"
   ]
  },
  {
   "cell_type": "code",
   "execution_count": 235,
   "id": "1f3d25bc",
   "metadata": {},
   "outputs": [],
   "source": [
    "lst_in = lst_in[::-1]"
   ]
  },
  {
   "cell_type": "markdown",
   "id": "2cae4744",
   "metadata": {},
   "source": [
    "##### Upgrade"
   ]
  },
  {
   "cell_type": "code",
   "execution_count": 236,
   "id": "a482f4d6",
   "metadata": {},
   "outputs": [],
   "source": [
    "i0, j0 = lst_in[0]\n",
    "lst_val_in = []\n",
    "\n",
    "ranges = [0, 1]\n",
    "\n",
    "for i1, j1 in lst_in[1:]:\n",
    "    \n",
    "    if i1 - i0 == 1:\n",
    "        #s_dir == \"D\"\n",
    "        for di in ranges:\n",
    "            if M_cands[i0+di, j0-1] == 1:\n",
    "                lst_val_in.append((i0+di, j0-1))\n",
    "            \n",
    "        \n",
    "        \n",
    "    elif i1 - i0 == -1:\n",
    "        #s_dir == \"U\"\n",
    "        for di in ranges:\n",
    "            if M_cands[i0-di, j0+1] == 1:\n",
    "                lst_val_in.append((i0-di, j0+1))\n",
    "        \n",
    "    elif j1 - j0 == 1:\n",
    "        #s_dir == \"R\"\n",
    "        for di in ranges:\n",
    "            if M_cands[i0+1, j0+di] == 1:\n",
    "                lst_val_in.append((i0+1, j0+di))\n",
    "        \n",
    "    elif j1 - j0 == -1:\n",
    "        #s_dir == \"L\"\n",
    "        for di in ranges:\n",
    "            if M_cands[i0-1, j0-di] == 1:\n",
    "                lst_val_in.append((i0-1, j0-di))\n",
    "        \n",
    "    # Update snake location\n",
    "    i0, j0 = i1, j1\n"
   ]
  },
  {
   "cell_type": "markdown",
   "id": "bee54770",
   "metadata": {},
   "source": [
    "##### Test"
   ]
  },
  {
   "cell_type": "code",
   "execution_count": 237,
   "id": "5b3375bc",
   "metadata": {},
   "outputs": [],
   "source": [
    "M_test = np.zeros(M_cands.shape)\n",
    "\n",
    "X = np.array(lst_val_in)\n",
    "\n",
    "M_test[X[:, 0], X[:, 1]] = 1"
   ]
  },
  {
   "cell_type": "code",
   "execution_count": 238,
   "id": "3a718914",
   "metadata": {},
   "outputs": [
    {
     "data": {
      "text/plain": [
       "<matplotlib.image.AxesImage at 0x7fb41efb9bd0>"
      ]
     },
     "execution_count": 238,
     "metadata": {},
     "output_type": "execute_result"
    },
    {
     "data": {
      "image/png": "[encoded data removed]",
      "text/plain": [
       "<Figure size 1000x1000 with 1 Axes>"
      ]
     },
     "metadata": {},
     "output_type": "display_data"
    }
   ],
   "source": [
    "fig, ax = plt.subplots(figsize=(10, 10))\n",
    "plt.imshow(M_cands/2 + M_test, interpolation=\"none\")"
   ]
  },
  {
   "cell_type": "markdown",
   "id": "b51931be",
   "metadata": {},
   "source": [
    "##### Propagate\n",
    "\n",
    "If the snake see one elements, maybe this is an enclosed block"
   ]
  },
  {
   "cell_type": "code",
   "execution_count": 240,
   "id": "355e5b1f",
   "metadata": {},
   "outputs": [],
   "source": [
    "M_test = np.zeros(M_cands.shape)\n",
    "\n",
    "lst_starts = X.tolist()\n",
    "while lst_starts != []:\n",
    "    i, j = lst_starts.pop(0)\n",
    "    if (M_cands[i, j] == 1) & (M_test[i, j] == 0):\n",
    "        M_test[i, j] = 1\n",
    "        lst_starts.extend([(i, j+1), (i, j-1), (i+1, j), (i-1, j)])"
   ]
  },
  {
   "cell_type": "code",
   "execution_count": 245,
   "id": "06d250d5",
   "metadata": {},
   "outputs": [
    {
     "data": {
      "text/plain": [
       "495.0"
      ]
     },
     "execution_count": 245,
     "metadata": {},
     "output_type": "execute_result"
    }
   ],
   "source": [
    "M_test.sum() -1 # Because we exceluded the starting point from the list"
   ]
  }
 ],
 "metadata": {
  "kernelspec": {
   "display_name": "Python 3 (ipykernel)",
   "language": "python",
   "name": "python3"
  },
  "language_info": {
   "codemirror_mode": {
    "name": "ipython",
    "version": 3
   },
   "file_extension": ".py",
   "mimetype": "text/x-python",
   "name": "python",
   "nbconvert_exporter": "python",
   "pygments_lexer": "ipython3",
   "version": "3.10.12"
  },
  "toc": {
   "base_numbering": 1,
   "nav_menu": {},
   "number_sections": true,
   "sideBar": true,
   "skip_h1_title": false,
   "title_cell": "Table of Contents",
   "title_sidebar": "Contents",
   "toc_cell": false,
   "toc_position": {},
   "toc_section_display": true,
   "toc_window_display": false
  },
  "varInspector": {
   "cols": {
    "lenName": 16,
    "lenType": 16,
    "lenVar": 40
   },
   "kernels_config": {
    "python": {
     "delete_cmd_postfix": "",
     "delete_cmd_prefix": "del ",
     "library": "var_list.py",
     "varRefreshCmd": "print(var_dic_list())"
    },
    "r": {
     "delete_cmd_postfix": ") ",
     "delete_cmd_prefix": "rm(",
     "library": "var_list.r",
     "varRefreshCmd": "cat(var_dic_list()) "
    }
   },
   "types_to_exclude": [
    "module",
    "function",
    "builtin_function_or_method",
    "instance",
    "_Feature"
   ],
   "window_display": false
  }
 },
 "nbformat": 4,
 "nbformat_minor": 5
}
