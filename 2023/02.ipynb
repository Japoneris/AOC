{
 "cells": [
  {
   "cell_type": "code",
   "execution_count": 3,
   "id": "7d796bf9",
   "metadata": {},
   "outputs": [],
   "source": [
    "with open(\"input/02\", \"r\") as fp:\n",
    "    txt = fp.read().split(\"\\n\")[:-1]"
   ]
  },
  {
   "cell_type": "code",
   "execution_count": 10,
   "id": "03593da4",
   "metadata": {},
   "outputs": [],
   "source": [
    "test = \"\"\"Game 1: 3 blue, 4 red; 1 red, 2 green, 6 blue; 2 green\n",
    "Game 2: 1 blue, 2 green; 3 green, 4 blue, 1 red; 1 green, 1 blue\n",
    "Game 3: 8 green, 6 blue, 20 red; 5 blue, 4 red, 13 green; 5 green, 1 red\n",
    "Game 4: 1 green, 3 red, 6 blue; 3 green, 6 red; 3 green, 15 blue, 14 red\n",
    "Game 5: 6 red, 1 blue, 3 green; 2 blue, 1 red, 2 green\"\"\".split(\"\\n\")"
   ]
  },
  {
   "cell_type": "code",
   "execution_count": 5,
   "id": "c97ab400",
   "metadata": {},
   "outputs": [],
   "source": [
    "\n",
    "def parse_subset(sub):\n",
    "    lst = sub.split(\",\")\n",
    "    lst = list(map(lambda x: x.split(), lst))\n",
    "    lst = list(map(lambda x: (int(x[0]), x[1]), lst))\n",
    "    return lst"
   ]
  },
  {
   "cell_type": "code",
   "execution_count": 7,
   "id": "aa5e5222",
   "metadata": {},
   "outputs": [],
   "source": [
    "def parse_game(line):\n",
    "    a, b = line.split(\":\")\n",
    "    game_ID = int(a[4:])\n",
    "    subsets = b.split(\";\")\n",
    "    return game_ID, list(map(parse_subset, subsets))\n",
    "    \n",
    "    "
   ]
  },
  {
   "cell_type": "markdown",
   "id": "5f4033f6",
   "metadata": {},
   "source": [
    "The Elf would first like to know which games would have been possible if the bag contained only \n",
    "\n",
    "- **12 red cubes**, \n",
    "- **13 green cubes**, \n",
    "- **14 blue cubes**\n"
   ]
  },
  {
   "cell_type": "code",
   "execution_count": 9,
   "id": "5cd77c98",
   "metadata": {},
   "outputs": [],
   "source": [
    "dic_limits = {\"red\": 12, \"green\": 13, \"blue\": 14}\n",
    "\n",
    "def is_valid(subsets):\n",
    "    for sub in subsets:\n",
    "        for a, b in sub:\n",
    "            if a > dic_limits[b]:\n",
    "                return False\n",
    "            \n",
    "            \n",
    "    return True\n",
    "            "
   ]
  },
  {
   "cell_type": "code",
   "execution_count": 14,
   "id": "4a3b1bd4",
   "metadata": {},
   "outputs": [],
   "source": [
    "cnt = 0\n",
    "\n",
    "for line in txt:\n",
    "    ID, subsets = parse_game(line)\n",
    "    if is_valid(subsets):\n",
    "        cnt += ID\n",
    "    "
   ]
  },
  {
   "cell_type": "code",
   "execution_count": 15,
   "id": "7aa3df00",
   "metadata": {},
   "outputs": [
    {
     "name": "stdout",
     "output_type": "stream",
     "text": [
      "Part 1 solution: 2283\n"
     ]
    }
   ],
   "source": [
    "print(\"Part 1 solution: {}\".format(cnt))"
   ]
  },
  {
   "cell_type": "markdown",
   "id": "0bc4f3bf",
   "metadata": {},
   "source": [
    "---"
   ]
  },
  {
   "cell_type": "code",
   "execution_count": 19,
   "id": "fa5f0a39",
   "metadata": {},
   "outputs": [],
   "source": [
    "def count_minimums(subsets):\n",
    "    dic = {\"red\": 0, \"blue\": 0, \"green\": 0}\n",
    "    for sub in subsets:\n",
    "        for a, b in sub:\n",
    "            dic[b] = max(a, dic[b])\n",
    "            \n",
    "    #return list(dic.values())\n",
    "    return dic[\"red\"] * dic[\"blue\"] * dic[\"green\"]"
   ]
  },
  {
   "cell_type": "code",
   "execution_count": 23,
   "id": "6327311a",
   "metadata": {},
   "outputs": [
    {
     "name": "stdout",
     "output_type": "stream",
     "text": [
      "1014\n",
      "416\n",
      "315\n",
      "1280\n",
      "1980\n",
      "180\n",
      "945\n",
      "266\n",
      "3264\n",
      "567\n",
      "36\n",
      "66\n",
      "90\n",
      "1785\n",
      "170\n",
      "1188\n",
      "44\n",
      "160\n",
      "630\n",
      "260\n",
      "28\n",
      "150\n",
      "162\n",
      "784\n",
      "720\n",
      "576\n",
      "352\n",
      "2142\n",
      "1900\n",
      "2040\n",
      "18\n",
      "320\n",
      "168\n",
      "102\n",
      "320\n",
      "330\n",
      "72\n",
      "2592\n",
      "20\n",
      "70\n",
      "2720\n",
      "240\n",
      "120\n",
      "200\n",
      "216\n",
      "1080\n",
      "12\n",
      "720\n",
      "2618\n",
      "480\n",
      "684\n",
      "532\n",
      "2\n",
      "130\n",
      "704\n",
      "440\n",
      "728\n",
      "176\n",
      "408\n",
      "1980\n",
      "2688\n",
      "132\n",
      "2992\n",
      "2028\n",
      "650\n",
      "1105\n",
      "120\n",
      "588\n",
      "432\n",
      "168\n",
      "468\n",
      "910\n",
      "2565\n",
      "594\n",
      "260\n",
      "252\n",
      "1666\n",
      "4320\n",
      "110\n",
      "385\n",
      "680\n",
      "24\n",
      "1881\n",
      "280\n",
      "180\n",
      "3876\n",
      "1344\n",
      "42\n",
      "80\n",
      "420\n",
      "264\n",
      "510\n",
      "720\n",
      "784\n",
      "360\n",
      "204\n",
      "595\n",
      "300\n",
      "1260\n",
      "720\n"
     ]
    }
   ],
   "source": [
    "cnt = 0\n",
    "\n",
    "for line in txt:\n",
    "    ID, subsets = parse_game(line)\n",
    "    tot = count_minimums(subsets)\n",
    "    cnt += tot\n",
    "    "
   ]
  },
  {
   "cell_type": "code",
   "execution_count": 24,
   "id": "8b2b383f",
   "metadata": {},
   "outputs": [
    {
     "name": "stdout",
     "output_type": "stream",
     "text": [
      "Part 2 solution: 78669\n"
     ]
    }
   ],
   "source": [
    "print(\"Part 2 solution: {}\".format(cnt))"
   ]
  }
 ],
 "metadata": {
  "kernelspec": {
   "display_name": "Python 3 (ipykernel)",
   "language": "python",
   "name": "python3"
  },
  "language_info": {
   "codemirror_mode": {
    "name": "ipython",
    "version": 3
   },
   "file_extension": ".py",
   "mimetype": "text/x-python",
   "name": "python",
   "nbconvert_exporter": "python",
   "pygments_lexer": "ipython3",
   "version": "3.10.12"
  },
  "toc": {
   "base_numbering": 1,
   "nav_menu": {},
   "number_sections": true,
   "sideBar": true,
   "skip_h1_title": false,
   "title_cell": "Table of Contents",
   "title_sidebar": "Contents",
   "toc_cell": false,
   "toc_position": {},
   "toc_section_display": true,
   "toc_window_display": false
  },
  "varInspector": {
   "cols": {
    "lenName": 16,
    "lenType": 16,
    "lenVar": 40
   },
   "kernels_config": {
    "python": {
     "delete_cmd_postfix": "",
     "delete_cmd_prefix": "del ",
     "library": "var_list.py",
     "varRefreshCmd": "print(var_dic_list())"
    },
    "r": {
     "delete_cmd_postfix": ") ",
     "delete_cmd_prefix": "rm(",
     "library": "var_list.r",
     "varRefreshCmd": "cat(var_dic_list()) "
    }
   },
   "types_to_exclude": [
    "module",
    "function",
    "builtin_function_or_method",
    "instance",
    "_Feature"
   ],
   "window_display": false
  }
 },
 "nbformat": 4,
 "nbformat_minor": 5
}
