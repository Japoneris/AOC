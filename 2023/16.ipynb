{
 "cells": [
  {
   "cell_type": "code",
   "execution_count": 71,
   "id": "f237004a",
   "metadata": {},
   "outputs": [],
   "source": [
    "import matplotlib.pylab as plt"
   ]
  },
  {
   "cell_type": "code",
   "execution_count": 26,
   "id": "66db5f65",
   "metadata": {},
   "outputs": [],
   "source": [
    "txt_test = \"\"\".|...\\....\n",
    "|.-.\\.....\n",
    ".....|-...\n",
    "........|.\n",
    "..........\n",
    ".........\\\\\n",
    "..../.\\\\\\\\..\n",
    ".-.-/..|..\n",
    ".|....-|.\\\\\n",
    "..//.|....\"\"\""
   ]
  },
  {
   "cell_type": "code",
   "execution_count": 108,
   "id": "64857001",
   "metadata": {},
   "outputs": [],
   "source": [
    "with open(\"input/16\", \"r\") as fp:\n",
    "    txt = fp.read()[:-1]"
   ]
  },
  {
   "cell_type": "code",
   "execution_count": 5,
   "id": "1ce5f523",
   "metadata": {},
   "outputs": [],
   "source": [
    "def process_puzzle(ttt):\n",
    "    lines = ttt.split(\"\\n\")\n",
    "    dic = {\".\": 0, \"\\\\\": 1, \"/\": 2, \"|\": -1, \"-\": -2}\n",
    "    \n",
    "    return np.array(list(map(lambda row: \n",
    "                    list(map(lambda x: dic[x], row))\n",
    "                    ,lines)))"
   ]
  },
  {
   "cell_type": "code",
   "execution_count": 141,
   "id": "eccfefd0",
   "metadata": {},
   "outputs": [],
   "source": [
    "def make_beams(mapping, vlim=40):\n",
    "    n0, n1 = mapping.shape\n",
    "    \n",
    "    Z = np.zeros((n0, n1))\n",
    "    D = np.zeros((n0, n1, 4))\n",
    "    \n",
    "    dic_move = {\"R\": (0, 1), \"L\": (0, -1), \"U\": (-1, 0), \"D\": (1, 0)}\n",
    "    \n",
    "    dic_letter = {\"R\": 0, \"L\": 1, \"U\": 2, \"D\": 3}\n",
    "    \n",
    "    dic_1 = {\"R\": \"D\", \"L\": \"U\", \"U\": \"L\", \"D\": \"R\"} # \\\n",
    "    dic_2 = {\"R\": \"U\", \"L\": \"D\", \"U\": \"R\", \"D\": \"L\"} # /\n",
    "    \n",
    "    \n",
    "    lst = [(1, 0, \"R\")]\n",
    "    \n",
    "    \n",
    "    \n",
    "    while len(lst) != 0:\n",
    "        i, j, d = lst.pop(0)\n",
    "        \n",
    "        Z[i, j] = 1\n",
    "        \n",
    "        \"\"\"\n",
    "        if Z[i, j] > vlim:\n",
    "            continue\n",
    "        \"\"\"\n",
    "        \n",
    "        # Stop condition\n",
    "        vi = dic_letter[d]\n",
    "        if D[i, j, vi] > 10:\n",
    "            continue\n",
    "            \n",
    "        else:\n",
    "            D[i, j, vi] += 1\n",
    "             \n",
    "        \n",
    "        \n",
    "        # Update position\n",
    "        a, b = dic_move[d]\n",
    "        i, j = i+a, j+b\n",
    "            \n",
    "        if (i < 0) | (i == n0) | (j < 0) | (j == n1):\n",
    "            # Out of bound\n",
    "            continue\n",
    "            \n",
    "        v = mapping[i, j]\n",
    "        if v == 0: # .\n",
    "            lst.append((i, j, d))\n",
    "            \n",
    "        elif v == 1: #\\\\\n",
    "            lst.append((i, j, dic_1[d]))\n",
    "        \n",
    "        elif v == 2: # /\n",
    "            lst.append((i, j, dic_2[d]))\n",
    "        \n",
    "        elif ((v == -1) & (d in \"UD\")) | ((v == -2) & (d in \"RL\")):\n",
    "            # No change # -1=|, -2: -\n",
    "            lst.append((i, j, d))\n",
    "        \n",
    "        elif (v == -2) & (d in \"UD\"): # -\n",
    "            # Split\n",
    "            lst.append((i, j, 'R'))\n",
    "            lst.append((i, j, 'L'))\n",
    "            \n",
    "        elif (v == -1) & (d in \"RL\"): # |\n",
    "            # Split\n",
    "            lst.append((i, j, 'U'))\n",
    "            lst.append((i, j, 'D'))\n",
    "    \n",
    "        \n",
    "    return Z\n",
    "        \n"
   ]
  },
  {
   "cell_type": "code",
   "execution_count": 148,
   "id": "3e93319f",
   "metadata": {},
   "outputs": [
    {
     "name": "stdout",
     "output_type": "stream",
     "text": [
      "(110, 110)\n"
     ]
    }
   ],
   "source": [
    "my_map = process_puzzle(txt)\n",
    "\n",
    "# Add borders\n",
    "n0, n1 = my_map.shape\n",
    "M1 = np.zeros((n0+2, n1+2))\n",
    "M1[1:n0+1, 1:n1+1] = my_map\n",
    "\n",
    "print(my_map.shape)\n",
    "Z = make_beams(M1, 2)\n",
    "\n",
    "tot = (Z[1:n0+1,1:n1+1] > 0).sum()\n",
    "\n",
    "print(\"Part 1: {}\".format(tot))"
   ]
  },
  {
   "cell_type": "code",
   "execution_count": null,
   "id": "e81f2bfb",
   "metadata": {},
   "outputs": [],
   "source": [
    "# 7759: Too low\n",
    "# 7928 too low"
   ]
  },
  {
   "cell_type": "markdown",
   "id": "7306816f",
   "metadata": {},
   "source": [
    "# Part 2"
   ]
  },
  {
   "cell_type": "code",
   "execution_count": 158,
   "id": "344de1f7",
   "metadata": {},
   "outputs": [],
   "source": [
    "def make_beams_v2(mapping, start=(1, 0, \"R\"), vlim=2):\n",
    "    n0, n1 = mapping.shape\n",
    "    \n",
    "    Z = np.zeros((n0, n1))\n",
    "    D = np.zeros((n0, n1, 4))\n",
    "    \n",
    "    dic_move = {\"R\": (0, 1), \"L\": (0, -1), \"U\": (-1, 0), \"D\": (1, 0)}\n",
    "    \n",
    "    dic_letter = {\"R\": 0, \"L\": 1, \"U\": 2, \"D\": 3}\n",
    "    \n",
    "    dic_1 = {\"R\": \"D\", \"L\": \"U\", \"U\": \"L\", \"D\": \"R\"} # \\\n",
    "    dic_2 = {\"R\": \"U\", \"L\": \"D\", \"U\": \"R\", \"D\": \"L\"} # /\n",
    "    \n",
    "    \n",
    "    lst = [start]\n",
    "    \n",
    "    \n",
    "    \n",
    "    while len(lst) != 0:\n",
    "        i, j, d = lst.pop(0)\n",
    "        \n",
    "        Z[i, j] = 1\n",
    "\n",
    "        # Stop condition\n",
    "        vi = dic_letter[d]\n",
    "        if D[i, j, vi] > vlim:\n",
    "            continue\n",
    "            \n",
    "        else:\n",
    "            D[i, j, vi] += 1\n",
    "             \n",
    "        \n",
    "        \n",
    "        # Update position\n",
    "        a, b = dic_move[d]\n",
    "        i, j = i+a, j+b\n",
    "            \n",
    "        if (i < 0) | (i == n0) | (j < 0) | (j == n1):\n",
    "            # Out of bound\n",
    "            continue\n",
    "            \n",
    "        v = mapping[i, j]\n",
    "        if v == 0: # .\n",
    "            lst.append((i, j, d))\n",
    "            \n",
    "        elif v == 1: #\\\\\n",
    "            lst.append((i, j, dic_1[d]))\n",
    "        \n",
    "        elif v == 2: # /\n",
    "            lst.append((i, j, dic_2[d]))\n",
    "        \n",
    "        elif ((v == -1) & (d in \"UD\")) | ((v == -2) & (d in \"RL\")):\n",
    "            # No change # -1=|, -2: -\n",
    "            lst.append((i, j, d))\n",
    "        \n",
    "        elif (v == -2) & (d in \"UD\"): # -\n",
    "            # Split\n",
    "            lst.append((i, j, 'R'))\n",
    "            lst.append((i, j, 'L'))\n",
    "            \n",
    "        elif (v == -1) & (d in \"RL\"): # |\n",
    "            # Split\n",
    "            lst.append((i, j, 'U'))\n",
    "            lst.append((i, j, 'D'))\n",
    "    \n",
    "        \n",
    "    return Z\n",
    "        \n"
   ]
  },
  {
   "cell_type": "code",
   "execution_count": 168,
   "id": "fee55f5b",
   "metadata": {},
   "outputs": [
    {
     "name": "stdout",
     "output_type": "stream",
     "text": [
      "(10, 10)\n",
      "0\n",
      "1\n",
      "2\n",
      "3\n",
      "4\n",
      "5\n",
      "6\n",
      "7\n",
      "8\n",
      "9\n",
      "\n",
      "Part 2: 51\n"
     ]
    }
   ],
   "source": [
    "my_map = process_puzzle(txt_test)\n",
    "\n",
    "# Add borders\n",
    "n0, n1 = my_map.shape\n",
    "M1 = np.zeros((n0+2, n1+2))\n",
    "M1[1:n0+1, 1:n1+1] = my_map\n",
    "\n",
    "L = 2\n",
    "print(my_map.shape)\n",
    "best = 0\n",
    "for i in range(n0):\n",
    "    Z = make_beams_v2(M1, start=(i+1, 0, \"R\"), vlim=L)\n",
    "    tot = (Z[1:n0+1,1:n1+1] > 0).sum()\n",
    "    best = max(tot, best)\n",
    "    \n",
    "    Z = make_beams_v2(M1, start=(i+1, n1+1, \"L\"), vlim=L)\n",
    "    tot = (Z[1:n0+1,1:n1+1] > 0).sum()\n",
    "    best = max(tot, best)\n",
    "    \n",
    "\n",
    "for i in range(n1):\n",
    "    Z = make_beams_v2(M1, start=(0, i+1, \"D\"), vlim=L)\n",
    "    tot = (Z[1:n0+1,1:n1+1] > 0).sum()\n",
    "    best = max(tot, best)\n",
    "    \n",
    "    Z = make_beams_v2(M1, start=(n0+1, i+1, \"U\"), vlim=L)\n",
    "    tot = (Z[1:n0+1,1:n1+1] > 0).sum()\n",
    "    best = max(tot, best)\n",
    "    \n",
    "print(\"Part 2: {}\".format(best))"
   ]
  },
  {
   "cell_type": "code",
   "execution_count": 157,
   "id": "88608774",
   "metadata": {},
   "outputs": [
    {
     "data": {
      "text/plain": [
       "<matplotlib.image.AxesImage at 0x7ff9b8b16230>"
      ]
     },
     "execution_count": 157,
     "metadata": {},
     "output_type": "execute_result"
    },
    {
     "data": {
      "image/png": "[encoded data removed]",
      "text/plain": [
       "<Figure size 640x480 with 1 Axes>"
      ]
     },
     "metadata": {},
     "output_type": "display_data"
    }
   ],
   "source": [
    "plt.imshow(Z)"
   ]
  }
 ],
 "metadata": {
  "kernelspec": {
   "display_name": "Python 3 (ipykernel)",
   "language": "python",
   "name": "python3"
  },
  "language_info": {
   "codemirror_mode": {
    "name": "ipython",
    "version": 3
   },
   "file_extension": ".py",
   "mimetype": "text/x-python",
   "name": "python",
   "nbconvert_exporter": "python",
   "pygments_lexer": "ipython3",
   "version": "3.10.12"
  },
  "toc": {
   "base_numbering": 1,
   "nav_menu": {},
   "number_sections": true,
   "sideBar": true,
   "skip_h1_title": false,
   "title_cell": "Table of Contents",
   "title_sidebar": "Contents",
   "toc_cell": false,
   "toc_position": {},
   "toc_section_display": true,
   "toc_window_display": false
  },
  "varInspector": {
   "cols": {
    "lenName": 16,
    "lenType": 16,
    "lenVar": 40
   },
   "kernels_config": {
    "python": {
     "delete_cmd_postfix": "",
     "delete_cmd_prefix": "del ",
     "library": "var_list.py",
     "varRefreshCmd": "print(var_dic_list())"
    },
    "r": {
     "delete_cmd_postfix": ") ",
     "delete_cmd_prefix": "rm(",
     "library": "var_list.r",
     "varRefreshCmd": "cat(var_dic_list()) "
    }
   },
   "types_to_exclude": [
    "module",
    "function",
    "builtin_function_or_method",
    "instance",
    "_Feature"
   ],
   "window_display": false
  }
 },
 "nbformat": 4,
 "nbformat_minor": 5
}
