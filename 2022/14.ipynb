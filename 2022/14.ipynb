{
 "cells": [
  {
   "cell_type": "code",
   "execution_count": 7,
   "id": "recognized-effort",
   "metadata": {},
   "outputs": [],
   "source": [
    "import numpy as np\n",
    "import matplotlib.pylab as plt"
   ]
  },
  {
   "cell_type": "code",
   "execution_count": 1,
   "id": "every-pennsylvania",
   "metadata": {},
   "outputs": [],
   "source": [
    "with open(\"input/14\", \"r\") as fp:\n",
    "    data = fp.read()"
   ]
  },
  {
   "cell_type": "code",
   "execution_count": 137,
   "id": "intensive-awareness",
   "metadata": {},
   "outputs": [],
   "source": [
    "lines = data.split(\"\\n\")[:-1]"
   ]
  },
  {
   "cell_type": "code",
   "execution_count": 119,
   "id": "bibliographic-evans",
   "metadata": {},
   "outputs": [],
   "source": [
    "# Test\n",
    "lines = [\"498,4 -> 498,6 -> 496,6\", \"503,4 -> 502,4 -> 502,9 -> 494,9\"]"
   ]
  },
  {
   "cell_type": "code",
   "execution_count": 138,
   "id": "increased-prospect",
   "metadata": {},
   "outputs": [],
   "source": [
    "path = []\n",
    "for line in lines:\n",
    "    lst = []\n",
    "    for pos in line.split(\" -> \"):\n",
    "        x, y = pos.split(\",\")\n",
    "        x, y = int(x), int(y)\n",
    "        lst.append([x, y])\n",
    "        \n",
    "    path.append(lst)"
   ]
  },
  {
   "cell_type": "code",
   "execution_count": 139,
   "id": "hidden-cambodia",
   "metadata": {},
   "outputs": [
    {
     "name": "stdout",
     "output_type": "stream",
     "text": [
      "490 563\n",
      "14 162\n"
     ]
    }
   ],
   "source": [
    "X = list(map(lambda x: np.array(x).max(axis=0), path))\n",
    "xM, yM = np.array(X).max(axis=0)\n",
    "\n",
    "X = list(map(lambda x: np.array(x).min(axis=0), path))\n",
    "xm, ym = np.array(X).min(axis=0)\n",
    "\n",
    "print(xm, xM)\n",
    "print(ym, yM)"
   ]
  },
  {
   "cell_type": "markdown",
   "id": "guilty-memorabilia",
   "metadata": {
    "heading_collapsed": true
   },
   "source": [
    "## Part 1"
   ]
  },
  {
   "cell_type": "code",
   "execution_count": 123,
   "id": "respective-proxy",
   "metadata": {
    "hidden": true
   },
   "outputs": [],
   "source": [
    "M = np.zeros((1000, yM+3))\n",
    "for lst in path:\n",
    "    for (x0, y0), (x1, y1) in zip(lst[:-1], lst[1:]):\n",
    "        if x0 == x1:\n",
    "            yy = min(y0, y1)\n",
    "            YY = max(y0, y1)\n",
    "            M[x0, yy:YY+1] = 1\n",
    "        else:\n",
    "            yy = min(x0, x1)\n",
    "            YY = max(x0, x1)\n",
    "            M[yy:YY+1, y0] = 1\n"
   ]
  },
  {
   "cell_type": "code",
   "execution_count": 126,
   "id": "lesbian-hunter",
   "metadata": {
    "hidden": true
   },
   "outputs": [
    {
     "data": {
      "text/plain": [
       "(484.0, 513.0)"
      ]
     },
     "execution_count": 126,
     "metadata": {},
     "output_type": "execute_result"
    },
    {
     "data": {
      "image/png": "[encoded data removed]",
      "text/plain": [
       "<Figure size 360x720 with 1 Axes>"
      ]
     },
     "metadata": {
      "needs_background": "light"
     },
     "output_type": "display_data"
    }
   ],
   "source": [
    "fig, ax = plt.subplots(figsize=(5, 10))\n",
    "plt.imshow(M.T, interpolation=\"none\")\n",
    "ax.set_xlim(xm-10, xM+10)"
   ]
  },
  {
   "cell_type": "code",
   "execution_count": 127,
   "id": "sealed-shore",
   "metadata": {
    "hidden": true
   },
   "outputs": [
    {
     "name": "stdout",
     "output_type": "stream",
     "text": [
      "500 8\n",
      "499 8\n",
      "501 8\n",
      "500 7\n",
      "498 8\n",
      "499 7\n",
      "501 7\n",
      "500 6\n",
      "497 8\n",
      "498 7\n",
      "499 6\n",
      "501 6\n",
      "500 5\n",
      "499 5\n",
      "501 5\n",
      "500 4\n",
      "499 4\n",
      "501 4\n",
      "500 3\n",
      "499 3\n",
      "501 3\n",
      "500 2\n",
      "497 5\n",
      "495 8\n",
      "493 10\n",
      "492 10\n",
      "494 10\n",
      "493 9\n",
      "494 8\n",
      "496 8\n",
      "495 7\n",
      "491 10\n",
      "492 9\n",
      "493 8\n",
      "494 7\n",
      "496 7\n",
      "495 6\n",
      "496 5\n",
      "497 4\n",
      "498 3\n"
     ]
    }
   ],
   "source": [
    "for _ in range(40):\n",
    "    loc_x, loc_y = 500, 0\n",
    "    while True:\n",
    "\n",
    "        if M[loc_x, loc_y + 1] == 0:\n",
    "            loc_y += 1\n",
    "\n",
    "\n",
    "        elif  (M[loc_x-1, loc_y+1] == 0): #(M[loc_x-1, loc_y] == 0) &\n",
    "            loc_y += 1\n",
    "            loc_x -= 1\n",
    "        \n",
    "        elif (M[loc_x+1, loc_y+1] == 0): # (M[loc_x+1, loc_y] == 0) &\n",
    "            loc_y += 1\n",
    "            loc_x += 1\n",
    "\n",
    "        else:\n",
    "            M[loc_x, loc_y] = 0.5\n",
    "            print(loc_x, loc_y)\n",
    "            break"
   ]
  },
  {
   "cell_type": "code",
   "execution_count": 128,
   "id": "accessory-paste",
   "metadata": {
    "hidden": true
   },
   "outputs": [
    {
     "data": {
      "text/plain": [
       "(494.0, 503.0)"
      ]
     },
     "execution_count": 128,
     "metadata": {},
     "output_type": "execute_result"
    },
    {
     "data": {
      "image/png": "[encoded data removed]",
      "text/plain": [
       "<Figure size 360x720 with 1 Axes>"
      ]
     },
     "metadata": {
      "needs_background": "light"
     },
     "output_type": "display_data"
    }
   ],
   "source": [
    "fig, ax = plt.subplots(figsize=(5, 10))\n",
    "plt.imshow(M.T, interpolation=\"none\")\n",
    "ax.set_xlim(xm, xM)"
   ]
  },
  {
   "cell_type": "code",
   "execution_count": 115,
   "id": "shaped-approval",
   "metadata": {
    "hidden": true
   },
   "outputs": [
    {
     "data": {
      "text/plain": [
       "665"
      ]
     },
     "execution_count": 115,
     "metadata": {},
     "output_type": "execute_result"
    }
   ],
   "source": [
    "np.sum(M == 0.5)"
   ]
  },
  {
   "cell_type": "code",
   "execution_count": 90,
   "id": "approved-anthony",
   "metadata": {
    "hidden": true
   },
   "outputs": [
    {
     "data": {
      "text/plain": [
       "24"
      ]
     },
     "execution_count": 90,
     "metadata": {},
     "output_type": "execute_result"
    }
   ],
   "source": [
    "np.sum(M == 0.5)"
   ]
  },
  {
   "cell_type": "markdown",
   "id": "placed-magic",
   "metadata": {},
   "source": [
    "## Part 2\n"
   ]
  },
  {
   "cell_type": "code",
   "execution_count": 140,
   "id": "physical-arena",
   "metadata": {},
   "outputs": [],
   "source": [
    "M = np.zeros((1000, yM+3))\n",
    "for lst in path:\n",
    "    for (x0, y0), (x1, y1) in zip(lst[:-1], lst[1:]):\n",
    "        if x0 == x1:\n",
    "            yy = min(y0, y1)\n",
    "            YY = max(y0, y1)\n",
    "            M[x0, yy:YY+1] = 1\n",
    "        else:\n",
    "            yy = min(x0, x1)\n",
    "            YY = max(x0, x1)\n",
    "            M[yy:YY+1, y0] = 1\n",
    "\n",
    "M[:, yM+2] = 1"
   ]
  },
  {
   "cell_type": "code",
   "execution_count": 187,
   "id": "frank-litigation",
   "metadata": {},
   "outputs": [
    {
     "data": {
      "text/plain": [
       "(290.0, 663.0)"
      ]
     },
     "execution_count": 187,
     "metadata": {},
     "output_type": "execute_result"
    },
    {
     "data": {
      "image/png": "[encoded data removed]",
      "text/plain": [
       "<Figure size 360x720 with 1 Axes>"
      ]
     },
     "metadata": {
      "needs_background": "light"
     },
     "output_type": "display_data"
    }
   ],
   "source": [
    "fig, ax = plt.subplots(figsize=(5, 10))\n",
    "plt.imshow(M.T, interpolation=\"none\")\n",
    "ax.set_xlim(xm-200, xM+100)"
   ]
  },
  {
   "cell_type": "code",
   "execution_count": 186,
   "id": "gorgeous-longitude",
   "metadata": {},
   "outputs": [
    {
     "name": "stdout",
     "output_type": "stream",
     "text": [
      "STOOOP\n"
     ]
    }
   ],
   "source": [
    "for _ in range(1000):\n",
    "    loc_x, loc_y = 500, 0\n",
    "    if M[loc_x, loc_y] != 0:\n",
    "        print('STOOOP')\n",
    "        break\n",
    "    while True:\n",
    "\n",
    "        if M[loc_x, loc_y + 1] == 0:\n",
    "            loc_y += 1\n",
    "\n",
    "\n",
    "        elif  (M[loc_x-1, loc_y+1] == 0): #(M[loc_x-1, loc_y] == 0) &\n",
    "            loc_y += 1\n",
    "            loc_x -= 1\n",
    "        \n",
    "        elif (M[loc_x+1, loc_y+1] == 0): # (M[loc_x+1, loc_y] == 0) &\n",
    "            loc_y += 1\n",
    "            loc_x += 1\n",
    "\n",
    "        else:\n",
    "            M[loc_x, loc_y] = 0.5\n",
    "            print(loc_x, loc_y)\n",
    "            break"
   ]
  },
  {
   "cell_type": "code",
   "execution_count": 188,
   "id": "female-istanbul",
   "metadata": {},
   "outputs": [
    {
     "data": {
      "text/plain": [
       "25434"
      ]
     },
     "execution_count": 188,
     "metadata": {},
     "output_type": "execute_result"
    }
   ],
   "source": [
    "np.sum(M == 0.5)"
   ]
  },
  {
   "cell_type": "code",
   "execution_count": 136,
   "id": "allied-welding",
   "metadata": {},
   "outputs": [
    {
     "data": {
      "text/plain": [
       "93"
      ]
     },
     "execution_count": 136,
     "metadata": {},
     "output_type": "execute_result"
    }
   ],
   "source": [
    "np.sum(M == 0.5)"
   ]
  }
 ],
 "metadata": {
  "kernelspec": {
   "display_name": "Python 3",
   "language": "python",
   "name": "python3"
  },
  "language_info": {
   "codemirror_mode": {
    "name": "ipython",
    "version": 3
   },
   "file_extension": ".py",
   "mimetype": "text/x-python",
   "name": "python",
   "nbconvert_exporter": "python",
   "pygments_lexer": "ipython3",
   "version": "3.6.9"
  },
  "toc": {
   "base_numbering": 1,
   "nav_menu": {},
   "number_sections": true,
   "sideBar": true,
   "skip_h1_title": false,
   "title_cell": "Table of Contents",
   "title_sidebar": "Contents",
   "toc_cell": false,
   "toc_position": {},
   "toc_section_display": true,
   "toc_window_display": false
  },
  "varInspector": {
   "cols": {
    "lenName": 16,
    "lenType": 16,
    "lenVar": 40
   },
   "kernels_config": {
    "python": {
     "delete_cmd_postfix": "",
     "delete_cmd_prefix": "del ",
     "library": "var_list.py",
     "varRefreshCmd": "print(var_dic_list())"
    },
    "r": {
     "delete_cmd_postfix": ") ",
     "delete_cmd_prefix": "rm(",
     "library": "var_list.r",
     "varRefreshCmd": "cat(var_dic_list()) "
    }
   },
   "types_to_exclude": [
    "module",
    "function",
    "builtin_function_or_method",
    "instance",
    "_Feature"
   ],
   "window_display": false
  }
 },
 "nbformat": 4,
 "nbformat_minor": 5
}
