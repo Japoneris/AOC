{
 "cells": [
  {
   "cell_type": "code",
   "execution_count": 32,
   "id": "earned-chambers",
   "metadata": {},
   "outputs": [],
   "source": [
    "import numpy as np\n",
    "import matplotlib.pylab as plt"
   ]
  },
  {
   "cell_type": "code",
   "execution_count": 1,
   "id": "empirical-brooks",
   "metadata": {},
   "outputs": [],
   "source": [
    "with open(\"input/12\", \"r\") as fp:\n",
    "    data = fp.read()[:-1].split(\"\\n\")"
   ]
  },
  {
   "cell_type": "code",
   "execution_count": 8,
   "id": "invalid-fishing",
   "metadata": {},
   "outputs": [
    {
     "name": "stdout",
     "output_type": "stream",
     "text": [
      "41 171\n"
     ]
    }
   ],
   "source": [
    "l0 = len(data)\n",
    "l1 = len(data[0])\n",
    "print(l0, l1)\n",
    "\n",
    "m = ord(\"a\")\n",
    "\n",
    "M = np.zeros((l0, l1))\n",
    "for idx, row in enumerate(data):\n",
    "    for jdx, v in enumerate(row):\n",
    "        M[idx, jdx] = ord(v) - m"
   ]
  },
  {
   "cell_type": "markdown",
   "id": "educational-version",
   "metadata": {},
   "source": [
    "Also included on the heightmap are marks for your current position (S) and the location that should get the best signal (E). \n",
    "\n",
    "- Your current position (S) has elevation `a`, \n",
    "- the location that should get the best signal (E) has elevation `z`."
   ]
  },
  {
   "cell_type": "code",
   "execution_count": 21,
   "id": "arctic-syndrome",
   "metadata": {},
   "outputs": [],
   "source": [
    "x0, y0 = np.where(M == ord(\"S\") - m)\n",
    "x0 = x0[0]\n",
    "y0 = y0[0]\n",
    "\n",
    "\n",
    "x1, y1 = np.where(M == ord(\"E\") - m)\n",
    "x1 = x1[0]\n",
    "y1 = y1[0]\n",
    "\n",
    "\n",
    "M[x1, y1] = 25\n",
    "M[x0, y0] = 0"
   ]
  },
  {
   "cell_type": "code",
   "execution_count": 34,
   "id": "piano-republic",
   "metadata": {},
   "outputs": [
    {
     "name": "stdout",
     "output_type": "stream",
     "text": [
      "20 0\n",
      "20 146\n"
     ]
    },
    {
     "data": {
      "text/plain": [
       "<matplotlib.image.AxesImage at 0x7f7c46ee9710>"
      ]
     },
     "execution_count": 34,
     "metadata": {},
     "output_type": "execute_result"
    },
    {
     "data": {
      "image/png": "[encoded data removed]",
      "text/plain": [
       "<Figure size 432x288 with 1 Axes>"
      ]
     },
     "metadata": {
      "needs_background": "light"
     },
     "output_type": "display_data"
    }
   ],
   "source": [
    "print(x0, y0)\n",
    "print(x1, y1)\n",
    "\n",
    "plt.imshow(M)"
   ]
  },
  {
   "cell_type": "markdown",
   "id": "collect-apache",
   "metadata": {},
   "source": [
    "## Part 1"
   ]
  },
  {
   "cell_type": "code",
   "execution_count": 52,
   "id": "animated-theorem",
   "metadata": {},
   "outputs": [
    {
     "name": "stdout",
     "output_type": "stream",
     "text": [
      "100\t20 items to check\n",
      "200\t23 items to check\n",
      "300\t21 items to check\n",
      "400\t18 items to check\n",
      "500\t23 items to check\n",
      "600\t27 items to check\n",
      "700\t34 items to check\n",
      "800\t36 items to check\n",
      "900\t32 items to check\n",
      "1000\t22 items to check\n",
      "1100\t19 items to check\n",
      "1200\t31 items to check\n",
      "1300\t37 items to check\n",
      "1400\t46 items to check\n",
      "1500\t38 items to check\n",
      "1600\t40 items to check\n",
      "1700\t37 items to check\n",
      "1800\t31 items to check\n",
      "1900\t27 items to check\n",
      "2000\t22 items to check\n",
      "2100\t15 items to check\n",
      "2200\t25 items to check\n",
      "2300\t28 items to check\n",
      "2400\t28 items to check\n",
      "2500\t27 items to check\n",
      "2600\t38 items to check\n",
      "2700\t37 items to check\n",
      "2800\t37 items to check\n",
      "2900\t30 items to check\n",
      "3000\t28 items to check\n",
      "3100\t28 items to check\n",
      "3200\t28 items to check\n",
      "3300\t34 items to check\n",
      "3400\t37 items to check\n",
      "3500\t38 items to check\n",
      "3600\t33 items to check\n",
      "3700\t35 items to check\n",
      "3800\t29 items to check\n",
      "3900\t31 items to check\n",
      "4000\t31 items to check\n",
      "4100\t26 items to check\n",
      "4200\t26 items to check\n",
      "4300\t24 items to check\n",
      "4400\t33 items to check\n",
      "4500\t31 items to check\n",
      "4600\t42 items to check\n",
      "4700\t36 items to check\n",
      "4800\t25 items to check\n",
      "4900\t30 items to check\n",
      "5000\t25 items to check\n",
      "5100\t22 items to check\n",
      "5200\t25 items to check\n",
      "5300\t29 items to check\n",
      "5400\t26 items to check\n",
      "5500\t16 items to check\n",
      "5600\t15 items to check\n",
      "5700\t12 items to check\n",
      "5800\t15 items to check\n",
      "5900\t11 items to check\n",
      "6000\t12 items to check\n",
      "6100\t16 items to check\n",
      "6200\t17 items to check\n",
      "6300\t9 items to check\n",
      "6400\t4 items to check\n",
      "6500\t3 items to check\n",
      "6600\t3 items to check\n",
      "6700\t4 items to check\n",
      "6800\t3 items to check\n",
      "6900\t5 items to check\n"
     ]
    }
   ],
   "source": [
    "lst = [[x0, y0, 0]]\n",
    "\n",
    "M_mem = np.ones((l0, l1)) * 1000000\n",
    "\n",
    "def check(x):\n",
    "    return abs(x <= 1)\n",
    "\n",
    "cnt = 0\n",
    "while len(lst) > 0:\n",
    "    cnt += 1\n",
    "    if cnt % 100 == 0:\n",
    "        print(\"{}\\t{} items to check\".format(cnt, len(lst)))\n",
    "        \n",
    "        \n",
    "    xx, yy, sc = lst.pop(0)\n",
    "    elv = M[xx, yy]\n",
    "    if M_mem[xx, yy] < sc:\n",
    "        # Better path than the current found before\n",
    "        continue\n",
    "    \n",
    "    sc1 = sc+1\n",
    "    \n",
    "    if xx > 0:\n",
    "        if check(M[xx-1, yy] - elv) & (M_mem[xx-1, yy] > sc1):\n",
    "            lst.append([xx-1, yy, sc1])\n",
    "            M_mem[xx-1, yy] = sc1\n",
    "            \n",
    "    if yy > 0:\n",
    "        if check(M[xx, yy-1] - elv) & (M_mem[xx, yy-1] > sc1):\n",
    "            lst.append([xx, yy-1, sc1])\n",
    "            M_mem[xx, yy-1] = sc1\n",
    "        \n",
    "    if xx < l0-1:\n",
    "        if check(M[xx+1, yy] - elv) & (M_mem[xx+1, yy] > sc1):\n",
    "            lst.append([xx+1, yy, sc1])\n",
    "            M_mem[xx+1, yy] = sc1\n",
    "            \n",
    "    if yy < l1-1:\n",
    "        if check(M[xx, yy+1] - elv) & (M_mem[xx, yy+1] > sc1):\n",
    "            lst.append([xx, yy+1, sc1])\n",
    "            M_mem[xx, yy+1] = sc1\n",
    "            \n",
    "        \n",
    "        \n",
    "        \n",
    "        \n",
    "        "
   ]
  },
  {
   "cell_type": "code",
   "execution_count": 54,
   "id": "rocky-moore",
   "metadata": {},
   "outputs": [
    {
     "data": {
      "text/plain": [
       "<matplotlib.image.AxesImage at 0x7f7c46581f28>"
      ]
     },
     "execution_count": 54,
     "metadata": {},
     "output_type": "execute_result"
    },
    {
     "data": {
      "image/png": "[encoded data removed]",
      "text/plain": [
       "<Figure size 432x288 with 1 Axes>"
      ]
     },
     "metadata": {
      "needs_background": "light"
     },
     "output_type": "display_data"
    }
   ],
   "source": [
    "plt.imshow(M_mem)"
   ]
  },
  {
   "cell_type": "code",
   "execution_count": 56,
   "id": "natural-excellence",
   "metadata": {},
   "outputs": [
    {
     "name": "stdout",
     "output_type": "stream",
     "text": [
      "520.0\n"
     ]
    }
   ],
   "source": [
    "print(M_mem[x1, y1])"
   ]
  },
  {
   "cell_type": "markdown",
   "id": "express-joyce",
   "metadata": {},
   "source": [
    "---"
   ]
  },
  {
   "cell_type": "markdown",
   "id": "complex-civilian",
   "metadata": {},
   "source": [
    "## Part 2"
   ]
  },
  {
   "cell_type": "code",
   "execution_count": 57,
   "id": "round-guest",
   "metadata": {},
   "outputs": [],
   "source": [
    "def check(x):\n",
    "    return abs(x <= 1)\n",
    "\n",
    "def the_function(x0, y0):\n",
    "    lst = [[x0, y0, 0]]\n",
    "\n",
    "    M_mem = np.ones((l0, l1)) * 1000000\n",
    "\n",
    "    while len(lst) > 0:\n",
    "        xx, yy, sc = lst.pop(0)\n",
    "        elv = M[xx, yy]\n",
    "        if M_mem[xx, yy] < sc:\n",
    "            # Better path than the current found before\n",
    "            continue\n",
    "\n",
    "        sc1 = sc+1\n",
    "\n",
    "        if xx > 0:\n",
    "            if check(M[xx-1, yy] - elv) & (M_mem[xx-1, yy] > sc1):\n",
    "                lst.append([xx-1, yy, sc1])\n",
    "                M_mem[xx-1, yy] = sc1\n",
    "\n",
    "        if yy > 0:\n",
    "            if check(M[xx, yy-1] - elv) & (M_mem[xx, yy-1] > sc1):\n",
    "                lst.append([xx, yy-1, sc1])\n",
    "                M_mem[xx, yy-1] = sc1\n",
    "\n",
    "        if xx < l0-1:\n",
    "            if check(M[xx+1, yy] - elv) & (M_mem[xx+1, yy] > sc1):\n",
    "                lst.append([xx+1, yy, sc1])\n",
    "                M_mem[xx+1, yy] = sc1\n",
    "\n",
    "        if yy < l1-1:\n",
    "            if check(M[xx, yy+1] - elv) & (M_mem[xx, yy+1] > sc1):\n",
    "                lst.append([xx, yy+1, sc1])\n",
    "                M_mem[xx, yy+1] = sc1\n",
    "\n",
    "    return M_mem[x1, y1]"
   ]
  },
  {
   "cell_type": "code",
   "execution_count": null,
   "id": "given-johnson",
   "metadata": {},
   "outputs": [],
   "source": [
    "nmin = 100000\n",
    "\n",
    "for xb, yb in np.array(np.where(M == 0)).T:\n",
    "    v = the_function(xb, yb)\n",
    "    nmin = min(nmin, v)\n",
    "    \n",
    "print(int(nmin))"
   ]
  },
  {
   "cell_type": "code",
   "execution_count": null,
   "id": "chronic-weight",
   "metadata": {},
   "outputs": [],
   "source": []
  }
 ],
 "metadata": {
  "kernelspec": {
   "display_name": "Python 3",
   "language": "python",
   "name": "python3"
  },
  "language_info": {
   "codemirror_mode": {
    "name": "ipython",
    "version": 3
   },
   "file_extension": ".py",
   "mimetype": "text/x-python",
   "name": "python",
   "nbconvert_exporter": "python",
   "pygments_lexer": "ipython3",
   "version": "3.6.9"
  },
  "toc": {
   "base_numbering": 1,
   "nav_menu": {},
   "number_sections": true,
   "sideBar": true,
   "skip_h1_title": false,
   "title_cell": "Table of Contents",
   "title_sidebar": "Contents",
   "toc_cell": false,
   "toc_position": {},
   "toc_section_display": true,
   "toc_window_display": false
  },
  "varInspector": {
   "cols": {
    "lenName": 16,
    "lenType": 16,
    "lenVar": 40
   },
   "kernels_config": {
    "python": {
     "delete_cmd_postfix": "",
     "delete_cmd_prefix": "del ",
     "library": "var_list.py",
     "varRefreshCmd": "print(var_dic_list())"
    },
    "r": {
     "delete_cmd_postfix": ") ",
     "delete_cmd_prefix": "rm(",
     "library": "var_list.r",
     "varRefreshCmd": "cat(var_dic_list()) "
    }
   },
   "types_to_exclude": [
    "module",
    "function",
    "builtin_function_or_method",
    "instance",
    "_Feature"
   ],
   "window_display": false
  }
 },
 "nbformat": 4,
 "nbformat_minor": 5
}
