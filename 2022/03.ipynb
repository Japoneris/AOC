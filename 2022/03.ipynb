{
 "cells": [
  {
   "cell_type": "code",
   "execution_count": 6,
   "id": "tutorial-frequency",
   "metadata": {},
   "outputs": [],
   "source": [
    "with open(\"input/03\", \"r\") as fp:\n",
    "    data = fp.readlines()\n",
    "\n",
    "data1 = list(map(lambda x: (x[:len(x)//2], x[len(x)//2:-1]), data))"
   ]
  },
  {
   "cell_type": "markdown",
   "id": "technical-laptop",
   "metadata": {},
   "source": [
    "\n",
    "    Lowercase item types a through z have priorities 1 through 26.\n",
    "    Uppercase item types A through Z have priorities 27 through 52.\n"
   ]
  },
  {
   "cell_type": "code",
   "execution_count": 21,
   "id": "fancy-mounting",
   "metadata": {},
   "outputs": [
    {
     "name": "stdout",
     "output_type": "stream",
     "text": [
      "8240\n"
     ]
    }
   ],
   "source": [
    "cnt = 0\n",
    "for x, y in data1:\n",
    "    j = list(set(x) & set(y))[0]\n",
    "    if ord(j) >= 97:\n",
    "        cnt += ord(j) - 97 + 1\n",
    "    else:\n",
    "        cnt += ord(j) - 65 + 27\n",
    "    \n",
    "    \n",
    "# 4028 too low\n",
    "print(cnt)"
   ]
  },
  {
   "cell_type": "code",
   "execution_count": 24,
   "id": "enabling-rebate",
   "metadata": {},
   "outputs": [
    {
     "name": "stdout",
     "output_type": "stream",
     "text": [
      "lines: 300\n",
      "groups: 100\n"
     ]
    }
   ],
   "source": [
    "data2 = list(map(lambda x: x[:-1], data))\n",
    "\n",
    "l0 = len(data2)\n",
    "ng = l0 // 3\n",
    "print(\"lines:\", l0)\n",
    "print(\"groups:\", ng)\n",
    "\n"
   ]
  },
  {
   "cell_type": "code",
   "execution_count": 26,
   "id": "adjustable-organizer",
   "metadata": {},
   "outputs": [
    {
     "name": "stdout",
     "output_type": "stream",
     "text": [
      "2587\n"
     ]
    }
   ],
   "source": [
    "cnt = 0 \n",
    "for i in range(ng):\n",
    "    S0 = set(data2[i*3])\n",
    "    S1 = set(data2[i*3+1])\n",
    "    S2 = set(data2[i*3+2])\n",
    "    \n",
    "    j = list(S0 & S1 & S2)[0]\n",
    "    \n",
    "    if ord(j) >= 97:\n",
    "        cnt += ord(j) - 97 + 1\n",
    "    else:\n",
    "        cnt += ord(j) - 65 + 27\n",
    "    \n",
    "    \n",
    "print(cnt)"
   ]
  },
  {
   "cell_type": "code",
   "execution_count": null,
   "id": "statutory-danger",
   "metadata": {},
   "outputs": [],
   "source": []
  }
 ],
 "metadata": {
  "kernelspec": {
   "display_name": "Python 3",
   "language": "python",
   "name": "python3"
  },
  "language_info": {
   "codemirror_mode": {
    "name": "ipython",
    "version": 3
   },
   "file_extension": ".py",
   "mimetype": "text/x-python",
   "name": "python",
   "nbconvert_exporter": "python",
   "pygments_lexer": "ipython3",
   "version": "3.6.9"
  },
  "toc": {
   "base_numbering": 1,
   "nav_menu": {},
   "number_sections": true,
   "sideBar": true,
   "skip_h1_title": false,
   "title_cell": "Table of Contents",
   "title_sidebar": "Contents",
   "toc_cell": false,
   "toc_position": {},
   "toc_section_display": true,
   "toc_window_display": false
  },
  "varInspector": {
   "cols": {
    "lenName": 16,
    "lenType": 16,
    "lenVar": 40
   },
   "kernels_config": {
    "python": {
     "delete_cmd_postfix": "",
     "delete_cmd_prefix": "del ",
     "library": "var_list.py",
     "varRefreshCmd": "print(var_dic_list())"
    },
    "r": {
     "delete_cmd_postfix": ") ",
     "delete_cmd_prefix": "rm(",
     "library": "var_list.r",
     "varRefreshCmd": "cat(var_dic_list()) "
    }
   },
   "types_to_exclude": [
    "module",
    "function",
    "builtin_function_or_method",
    "instance",
    "_Feature"
   ],
   "window_display": false
  }
 },
 "nbformat": 4,
 "nbformat_minor": 5
}
