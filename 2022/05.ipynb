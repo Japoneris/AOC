{
 "cells": [
  {
   "cell_type": "code",
   "execution_count": 5,
   "id": "junior-surgeon",
   "metadata": {},
   "outputs": [],
   "source": [
    "with open(\"input/05\", \"r\") as fp:\n",
    "    data = fp.readlines()\n",
    "    "
   ]
  },
  {
   "cell_type": "markdown",
   "id": "right-customer",
   "metadata": {},
   "source": [
    "[V]     [B]                     [F]\n",
    "[N] [Q] [W]                 [R] [B]\n",
    "[F] [D] [S]     [B]         [L] [P]\n",
    "[S] [J] [C]     [F] [C]     [D] [G]\n",
    "[M] [M] [H] [L] [P] [N]     [P] [V]\n",
    "[P] [L] [D] [C] [T] [Q] [R] [S] [J]\n",
    "[H] [R] [Q] [S] [V] [R] [V] [Z] [S]\n",
    "[J] [S] [N] [R] [M] [T] [G] [C] [D]\n",
    " 1   2   3   4   5   6   7   8   9 "
   ]
  },
  {
   "cell_type": "code",
   "execution_count": 13,
   "id": "diverse-cutting",
   "metadata": {},
   "outputs": [],
   "source": [
    "# Too long, didn't code =D\n",
    "\n",
    "lst = [\n",
    "    \"VNFSMPHJ\",\n",
    "    \"QDJMLRS\",\n",
    "    \"BWSCHDQN\",\n",
    "    \"LCSR\",\n",
    "    \"BFPTVM\",\n",
    "    \"CNQRT\",\n",
    "    \"RVG\",\n",
    "    \"RLDPSZC\",\n",
    "    \"FBPGVJSD\"\n",
    "]\n",
    "\n"
   ]
  },
  {
   "cell_type": "code",
   "execution_count": 7,
   "id": "internal-mentor",
   "metadata": {},
   "outputs": [],
   "source": [
    "data1 = []\n",
    "for i in range(100):\n",
    "    if len(data[i]) == 1:\n",
    "        data1 = list(map(lambda x: x[:-1], data[i+1:]))\n",
    "        break"
   ]
  },
  {
   "cell_type": "code",
   "execution_count": 12,
   "id": "ancient-scroll",
   "metadata": {},
   "outputs": [],
   "source": [
    "def process(x):\n",
    "    _, a, _, b, _, c = x.split(\" \")\n",
    "    # move n from Y to Z\n",
    "    return int(a), int(b)-1, int(c)-1"
   ]
  },
  {
   "cell_type": "code",
   "execution_count": 14,
   "id": "linear-matrix",
   "metadata": {},
   "outputs": [],
   "source": [
    "lst1 = list(map(lambda w: [x for x in w], lst))\n",
    "\n",
    "for row in data1:\n",
    "    n, i, j = process(row)\n",
    "    for _ in range(n):\n",
    "        a = lst1[i].pop(0)\n",
    "        lst1[j] = [a] + lst1[j]\n",
    "        "
   ]
  },
  {
   "cell_type": "code",
   "execution_count": 17,
   "id": "textile-stake",
   "metadata": {},
   "outputs": [
    {
     "data": {
      "text/plain": [
       "'SBPQRSCDF'"
      ]
     },
     "execution_count": 17,
     "metadata": {},
     "output_type": "execute_result"
    }
   ],
   "source": [
    "print(\"\".join(list(map(lambda x: x[0], lst1))))"
   ]
  },
  {
   "cell_type": "markdown",
   "id": "imposed-onion",
   "metadata": {},
   "source": [
    "---"
   ]
  },
  {
   "cell_type": "code",
   "execution_count": 18,
   "id": "processed-array",
   "metadata": {},
   "outputs": [],
   "source": [
    "lst1 = list(map(lambda w: [x for x in w], lst))\n",
    "\n",
    "for row in data1:\n",
    "    n, i, j = process(row)\n",
    "    abc = lst1[i][:n]\n",
    "    lst1[i] = lst1[i][n:]\n",
    "    lst1[j] = abc + lst1[j]\n",
    "        "
   ]
  },
  {
   "cell_type": "code",
   "execution_count": 19,
   "id": "thorough-director",
   "metadata": {},
   "outputs": [
    {
     "name": "stdout",
     "output_type": "stream",
     "text": [
      "RGLVRCQSB\n"
     ]
    }
   ],
   "source": [
    "print(\"\".join(list(map(lambda x: x[0], lst1))))"
   ]
  }
 ],
 "metadata": {
  "kernelspec": {
   "display_name": "Python 3",
   "language": "python",
   "name": "python3"
  },
  "language_info": {
   "codemirror_mode": {
    "name": "ipython",
    "version": 3
   },
   "file_extension": ".py",
   "mimetype": "text/x-python",
   "name": "python",
   "nbconvert_exporter": "python",
   "pygments_lexer": "ipython3",
   "version": "3.6.9"
  },
  "toc": {
   "base_numbering": 1,
   "nav_menu": {},
   "number_sections": true,
   "sideBar": true,
   "skip_h1_title": false,
   "title_cell": "Table of Contents",
   "title_sidebar": "Contents",
   "toc_cell": false,
   "toc_position": {},
   "toc_section_display": true,
   "toc_window_display": false
  },
  "varInspector": {
   "cols": {
    "lenName": 16,
    "lenType": 16,
    "lenVar": 40
   },
   "kernels_config": {
    "python": {
     "delete_cmd_postfix": "",
     "delete_cmd_prefix": "del ",
     "library": "var_list.py",
     "varRefreshCmd": "print(var_dic_list())"
    },
    "r": {
     "delete_cmd_postfix": ") ",
     "delete_cmd_prefix": "rm(",
     "library": "var_list.r",
     "varRefreshCmd": "cat(var_dic_list()) "
    }
   },
   "types_to_exclude": [
    "module",
    "function",
    "builtin_function_or_method",
    "instance",
    "_Feature"
   ],
   "window_display": false
  }
 },
 "nbformat": 4,
 "nbformat_minor": 5
}
