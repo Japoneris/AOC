{
 "cells": [
  {
   "cell_type": "code",
   "execution_count": 1,
   "id": "skilled-interval",
   "metadata": {},
   "outputs": [],
   "source": [
    "with open(\"input/11\", \"r\") as fp:\n",
    "    data = fp.read()[:-1].split('\\n')"
   ]
  },
  {
   "cell_type": "code",
   "execution_count": 2,
   "id": "silver-fight",
   "metadata": {},
   "outputs": [
    {
     "data": {
      "text/plain": [
       "['Monkey 0:',\n",
       " '  Starting items: 63, 84, 80, 83, 84, 53, 88, 72',\n",
       " '  Operation: new = old * 11',\n",
       " '  Test: divisible by 13',\n",
       " '    If true: throw to monkey 4',\n",
       " '    If false: throw to monkey 7',\n",
       " '',\n",
       " 'Monkey 1:',\n",
       " '  Starting items: 67, 56, 92, 88, 84',\n",
       " '  Operation: new = old + 4',\n",
       " '  Test: divisible by 11',\n",
       " '    If true: throw to monkey 5',\n",
       " '    If false: throw to monkey 3',\n",
       " '',\n",
       " 'Monkey 2:',\n",
       " '  Starting items: 52',\n",
       " '  Operation: new = old * old',\n",
       " '  Test: divisible by 2',\n",
       " '    If true: throw to monkey 3',\n",
       " '    If false: throw to monkey 1',\n",
       " '',\n",
       " 'Monkey 3:',\n",
       " '  Starting items: 59, 53, 60, 92, 69, 72',\n",
       " '  Operation: new = old + 2',\n",
       " '  Test: divisible by 5',\n",
       " '    If true: throw to monkey 5',\n",
       " '    If false: throw to monkey 6',\n",
       " '',\n",
       " 'Monkey 4:',\n",
       " '  Starting items: 61, 52, 55, 61',\n",
       " '  Operation: new = old + 3',\n",
       " '  Test: divisible by 7',\n",
       " '    If true: throw to monkey 7',\n",
       " '    If false: throw to monkey 2',\n",
       " '',\n",
       " 'Monkey 5:',\n",
       " '  Starting items: 79, 53',\n",
       " '  Operation: new = old + 1',\n",
       " '  Test: divisible by 3',\n",
       " '    If true: throw to monkey 0',\n",
       " '    If false: throw to monkey 6',\n",
       " '',\n",
       " 'Monkey 6:',\n",
       " '  Starting items: 59, 86, 67, 95, 92, 77, 91',\n",
       " '  Operation: new = old + 5',\n",
       " '  Test: divisible by 19',\n",
       " '    If true: throw to monkey 4',\n",
       " '    If false: throw to monkey 0',\n",
       " '',\n",
       " 'Monkey 7:',\n",
       " '  Starting items: 58, 83, 89',\n",
       " '  Operation: new = old * 19',\n",
       " '  Test: divisible by 17',\n",
       " '    If true: throw to monkey 2',\n",
       " '    If false: throw to monkey 1']"
      ]
     },
     "execution_count": 2,
     "metadata": {},
     "output_type": "execute_result"
    }
   ],
   "source": [
    "data"
   ]
  },
  {
   "cell_type": "code",
   "execution_count": 8,
   "id": "lasting-charter",
   "metadata": {},
   "outputs": [
    {
     "data": {
      "text/plain": [
       "18.689999999999998"
      ]
     },
     "execution_count": 8,
     "metadata": {},
     "output_type": "execute_result"
    }
   ],
   "source": [
    "2.67 * 7"
   ]
  }
 ],
 "metadata": {
  "kernelspec": {
   "display_name": "Python 3",
   "language": "python",
   "name": "python3"
  },
  "language_info": {
   "codemirror_mode": {
    "name": "ipython",
    "version": 3
   },
   "file_extension": ".py",
   "mimetype": "text/x-python",
   "name": "python",
   "nbconvert_exporter": "python",
   "pygments_lexer": "ipython3",
   "version": "3.6.9"
  },
  "toc": {
   "base_numbering": 1,
   "nav_menu": {},
   "number_sections": true,
   "sideBar": true,
   "skip_h1_title": false,
   "title_cell": "Table of Contents",
   "title_sidebar": "Contents",
   "toc_cell": false,
   "toc_position": {},
   "toc_section_display": true,
   "toc_window_display": false
  },
  "varInspector": {
   "cols": {
    "lenName": 16,
    "lenType": 16,
    "lenVar": 40
   },
   "kernels_config": {
    "python": {
     "delete_cmd_postfix": "",
     "delete_cmd_prefix": "del ",
     "library": "var_list.py",
     "varRefreshCmd": "print(var_dic_list())"
    },
    "r": {
     "delete_cmd_postfix": ") ",
     "delete_cmd_prefix": "rm(",
     "library": "var_list.r",
     "varRefreshCmd": "cat(var_dic_list()) "
    }
   },
   "types_to_exclude": [
    "module",
    "function",
    "builtin_function_or_method",
    "instance",
    "_Feature"
   ],
   "window_display": false
  }
 },
 "nbformat": 4,
 "nbformat_minor": 5
}
