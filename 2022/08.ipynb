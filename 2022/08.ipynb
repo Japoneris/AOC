{
 "cells": [
  {
   "cell_type": "code",
   "execution_count": 3,
   "id": "valued-member",
   "metadata": {},
   "outputs": [],
   "source": [
    "with open(\"input/08\", \"r\") as fp:\n",
    "    data = fp.read()[:-1].split()"
   ]
  },
  {
   "cell_type": "code",
   "execution_count": 5,
   "id": "descending-vermont",
   "metadata": {},
   "outputs": [],
   "source": [
    "import numpy as np"
   ]
  },
  {
   "cell_type": "code",
   "execution_count": 6,
   "id": "endless-vintage",
   "metadata": {},
   "outputs": [],
   "source": [
    "l0 = len(data)\n",
    "l1 = len(data[0])\n",
    "M = np.zeros((l0, l1))\n",
    "for i, row in enumerate(data):\n",
    "    for j, v in enumerate(row):\n",
    "        M[i, j] = v"
   ]
  },
  {
   "cell_type": "code",
   "execution_count": 11,
   "id": "alternative-booking",
   "metadata": {},
   "outputs": [],
   "source": [
    "M_vis = np.zeros((l0, l1))\n",
    "\n",
    "# Row by row\n",
    "for i, row in enumerate(M):\n",
    "    # Left to right\n",
    "    c0 = 0\n",
    "    for j, v in enumerate(row):\n",
    "        if v >= c0:\n",
    "            M_vis[i, j] = 1\n",
    "            c0 = v+1\n",
    "    \n",
    "    # Right to left\n",
    "    c0 = 0\n",
    "    for j, v in enumerate(row[::-1]):\n",
    "        if v >= c0:\n",
    "            M_vis[i, l1-j-1] = 1\n",
    "            c0 = v+1\n",
    "            \n",
    "for j, row in enumerate(M.T):\n",
    "    # Top Down\n",
    "    c0 = 0\n",
    "    for i, v in enumerate(row):\n",
    "        if v >= c0:\n",
    "            M_vis[i, j] = 1\n",
    "            c0 = v+1\n",
    "    \n",
    "    # Bottom Up\n",
    "    c0 = 0\n",
    "    for i, v in enumerate(row[::-1]):\n",
    "        if v >= c0:\n",
    "            M_vis[l0-i-1, j] = 1\n",
    "            c0 = v+1\n",
    "\n",
    "    \n",
    "    "
   ]
  },
  {
   "cell_type": "code",
   "execution_count": 13,
   "id": "applicable-maria",
   "metadata": {},
   "outputs": [
    {
     "name": "stdout",
     "output_type": "stream",
     "text": [
      "1700\n"
     ]
    }
   ],
   "source": [
    "print(int(M_vis.sum()))"
   ]
  },
  {
   "cell_type": "markdown",
   "id": "polyphonic-excess",
   "metadata": {},
   "source": [
    "---"
   ]
  },
  {
   "cell_type": "code",
   "execution_count": 21,
   "id": "lesbian-profession",
   "metadata": {},
   "outputs": [],
   "source": [
    "best = 1\n",
    "for i, row in enumerate(M):\n",
    "    for j, v in enumerate(row):\n",
    "        # Compute above \n",
    "        n_up   = i\n",
    "        n_down = i\n",
    "        n_right = j\n",
    "        n_left  = j\n",
    "        \n",
    "        while n_up > 0:\n",
    "            n_up -= 1\n",
    "            if M[n_up, j] >= v:\n",
    "                break\n",
    "        \n",
    "        while n_down < l0 - 1:\n",
    "            n_down += 1\n",
    "            if M[n_down, j] >= v:\n",
    "                break\n",
    "                \n",
    "        \n",
    "        while n_left > 0:\n",
    "            n_left -= 1\n",
    "            if M[i, n_left] >= v:\n",
    "                break\n",
    "        \n",
    "        while n_right < l1 - 1:\n",
    "            n_right += 1\n",
    "            if M[i, n_right] >= v:\n",
    "                break\n",
    "        \n",
    "        best = max(best, (j - n_left) * (n_right - j) * (n_up - i) * (i - n_down))"
   ]
  },
  {
   "cell_type": "code",
   "execution_count": 23,
   "id": "spectacular-business",
   "metadata": {},
   "outputs": [
    {
     "name": "stdout",
     "output_type": "stream",
     "text": [
      "470596\n"
     ]
    }
   ],
   "source": [
    "print(best)"
   ]
  },
  {
   "cell_type": "code",
   "execution_count": null,
   "id": "gentle-reproduction",
   "metadata": {},
   "outputs": [],
   "source": []
  }
 ],
 "metadata": {
  "kernelspec": {
   "display_name": "Python 3",
   "language": "python",
   "name": "python3"
  },
  "language_info": {
   "codemirror_mode": {
    "name": "ipython",
    "version": 3
   },
   "file_extension": ".py",
   "mimetype": "text/x-python",
   "name": "python",
   "nbconvert_exporter": "python",
   "pygments_lexer": "ipython3",
   "version": "3.6.9"
  },
  "toc": {
   "base_numbering": 1,
   "nav_menu": {},
   "number_sections": true,
   "sideBar": true,
   "skip_h1_title": false,
   "title_cell": "Table of Contents",
   "title_sidebar": "Contents",
   "toc_cell": false,
   "toc_position": {},
   "toc_section_display": true,
   "toc_window_display": false
  },
  "varInspector": {
   "cols": {
    "lenName": 16,
    "lenType": 16,
    "lenVar": 40
   },
   "kernels_config": {
    "python": {
     "delete_cmd_postfix": "",
     "delete_cmd_prefix": "del ",
     "library": "var_list.py",
     "varRefreshCmd": "print(var_dic_list())"
    },
    "r": {
     "delete_cmd_postfix": ") ",
     "delete_cmd_prefix": "rm(",
     "library": "var_list.r",
     "varRefreshCmd": "cat(var_dic_list()) "
    }
   },
   "types_to_exclude": [
    "module",
    "function",
    "builtin_function_or_method",
    "instance",
    "_Feature"
   ],
   "window_display": false
  }
 },
 "nbformat": 4,
 "nbformat_minor": 5
}
