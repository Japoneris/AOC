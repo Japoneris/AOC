{
 "cells": [
  {
   "cell_type": "markdown",
   "id": "least-article",
   "metadata": {},
   "source": [
    "- A for Rock, \n",
    "- B for Paper, \n",
    "- C for Scissors.\n",
    "\n",
    "The second column, you reason, must be what you should play in response: \n",
    "\n",
    "- X for Rock, \n",
    "- Y for Paper,\n",
    "- Z for Scissors\n",
    "\n",
    "\n",
    "(1 for Rock, 2 for Paper, and 3 for Scissors) plus the score for the \n",
    "\n",
    "**outcome** of the round \n",
    "(0 if you lost, 3 if the round was a draw, and 6 if you won)\n"
   ]
  },
  {
   "cell_type": "code",
   "execution_count": 2,
   "id": "wrapped-mother",
   "metadata": {},
   "outputs": [],
   "source": [
    "with open(\"input/02\", \"r\") as fp:\n",
    "    data = fp.readlines()\n",
    "\n",
    "data = list(map(lambda x: x.split(), data))"
   ]
  },
  {
   "cell_type": "code",
   "execution_count": 10,
   "id": "needed-climb",
   "metadata": {},
   "outputs": [],
   "source": [
    "# Rock < Paper < Scisor\n",
    "dico1 = {\"A\": 1, \"B\": 2, \"C\": 3}\n",
    "dico2 = {\"X\": 1, \"Y\": 2, \"Z\": 3}\n",
    "\n",
    "\n",
    "data1 = list(map(lambda x: (dico1[x[0]], dico2[x[1]]), data))"
   ]
  },
  {
   "cell_type": "code",
   "execution_count": 14,
   "id": "phantom-birmingham",
   "metadata": {},
   "outputs": [],
   "source": [
    "cnt0 = 0\n",
    "cnt1 = 0\n",
    "\n",
    "for a, b in data1:\n",
    "    if a == b:\n",
    "        cnt0 += 3\n",
    "        cnt1 += 3\n",
    "    \n",
    "    elif (a - b == 1) | (b - a == 2):\n",
    "        cnt0 += 6\n",
    "    \n",
    "    else:\n",
    "        cnt1 += 6\n",
    "        \n",
    "\n"
   ]
  },
  {
   "cell_type": "code",
   "execution_count": 17,
   "id": "dimensional-tunisia",
   "metadata": {},
   "outputs": [
    {
     "name": "stdout",
     "output_type": "stream",
     "text": [
      "Score 0: 12143\n",
      "Score 1: 13446\n"
     ]
    }
   ],
   "source": [
    "print('Score 0: {}'.format(sum(map(lambda x: x[0], data1)) + cnt0)) \n",
    "print('Score 1: {}'.format(sum(map(lambda x: x[1], data1)) + cnt1))\n"
   ]
  },
  {
   "cell_type": "markdown",
   "id": "united-trick",
   "metadata": {},
   "source": [
    "- X means you need to lose, \n",
    "- Y means you need to end the round in a draw, \n",
    "- Z means you need to win. Good luck!\""
   ]
  },
  {
   "cell_type": "code",
   "execution_count": 20,
   "id": "interesting-grain",
   "metadata": {},
   "outputs": [
    {
     "name": "stdout",
     "output_type": "stream",
     "text": [
      "Score: 13509\n"
     ]
    }
   ],
   "source": [
    "# Rock < Paper < Scisor\n",
    "dico1 = {\"A\": 1, \"B\": 2, \"C\": 3}\n",
    "\n",
    "\n",
    "data2 = list(map(lambda x: (dico1[x[0]], x[1]), data))\n",
    "\n",
    "cnt = 0\n",
    "\n",
    "for a, x in data2:\n",
    "    if x == \"X\":\n",
    "        # Loose\n",
    "        b = (((a-1) - 1) % 3) + 1\n",
    "        cnt += b + 0\n",
    "        \n",
    "    elif x == \"Y\":\n",
    "        # OK\n",
    "        cnt += a + 3\n",
    "        \n",
    "    else:\n",
    "        # Win\n",
    "        b = (((a+1) - 1) % 3) + 1\n",
    "        cnt += b + 6\n",
    "        \n",
    "print('Score: {}'.format(cnt))\n",
    "\n"
   ]
  }
 ],
 "metadata": {
  "kernelspec": {
   "display_name": "Python 3",
   "language": "python",
   "name": "python3"
  },
  "language_info": {
   "codemirror_mode": {
    "name": "ipython",
    "version": 3
   },
   "file_extension": ".py",
   "mimetype": "text/x-python",
   "name": "python",
   "nbconvert_exporter": "python",
   "pygments_lexer": "ipython3",
   "version": "3.6.9"
  },
  "toc": {
   "base_numbering": 1,
   "nav_menu": {},
   "number_sections": true,
   "sideBar": true,
   "skip_h1_title": false,
   "title_cell": "Table of Contents",
   "title_sidebar": "Contents",
   "toc_cell": false,
   "toc_position": {},
   "toc_section_display": true,
   "toc_window_display": false
  },
  "varInspector": {
   "cols": {
    "lenName": 16,
    "lenType": 16,
    "lenVar": 40
   },
   "kernels_config": {
    "python": {
     "delete_cmd_postfix": "",
     "delete_cmd_prefix": "del ",
     "library": "var_list.py",
     "varRefreshCmd": "print(var_dic_list())"
    },
    "r": {
     "delete_cmd_postfix": ") ",
     "delete_cmd_prefix": "rm(",
     "library": "var_list.r",
     "varRefreshCmd": "cat(var_dic_list()) "
    }
   },
   "types_to_exclude": [
    "module",
    "function",
    "builtin_function_or_method",
    "instance",
    "_Feature"
   ],
   "window_display": false
  }
 },
 "nbformat": 4,
 "nbformat_minor": 5
}
