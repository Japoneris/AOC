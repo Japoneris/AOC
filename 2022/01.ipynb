{
 "cells": [
  {
   "cell_type": "code",
   "execution_count": 1,
   "id": "electric-incident",
   "metadata": {},
   "outputs": [],
   "source": [
    "with open(\"input/01\", \"r\") as fp:\n",
    "    data = fp.readlines()"
   ]
  },
  {
   "cell_type": "code",
   "execution_count": 5,
   "id": "average-thumb",
   "metadata": {},
   "outputs": [],
   "source": [
    "lst = []\n",
    "mem = []\n",
    "for row in data:\n",
    "    r = row[:-1]\n",
    "    if len(r) == 0:\n",
    "        lst.append(mem)\n",
    "        mem = []\n",
    "    else:\n",
    "        mem.append(int(r))\n",
    "        \n",
    "lst.append(mem)\n",
    "mem = []"
   ]
  },
  {
   "cell_type": "code",
   "execution_count": 9,
   "id": "determined-chosen",
   "metadata": {},
   "outputs": [
    {
     "name": "stdout",
     "output_type": "stream",
     "text": [
      "Part 1:  65912\n"
     ]
    }
   ],
   "source": [
    "cnt = 0\n",
    "for chunk in lst:\n",
    "    cnt = max(cnt, sum(chunk))\n",
    "\n",
    "print(\"Part 1: \", cnt)"
   ]
  },
  {
   "cell_type": "code",
   "execution_count": 10,
   "id": "casual-seeker",
   "metadata": {},
   "outputs": [
    {
     "name": "stdout",
     "output_type": "stream",
     "text": [
      "Part 2:  195625\n"
     ]
    }
   ],
   "source": [
    "cnt = sum(sorted(map(sum, lst))[-3:])\n",
    "print(\"Part 2: \", cnt)"
   ]
  }
 ],
 "metadata": {
  "kernelspec": {
   "display_name": "Python 3",
   "language": "python",
   "name": "python3"
  },
  "language_info": {
   "codemirror_mode": {
    "name": "ipython",
    "version": 3
   },
   "file_extension": ".py",
   "mimetype": "text/x-python",
   "name": "python",
   "nbconvert_exporter": "python",
   "pygments_lexer": "ipython3",
   "version": "3.6.9"
  },
  "toc": {
   "base_numbering": 1,
   "nav_menu": {},
   "number_sections": true,
   "sideBar": true,
   "skip_h1_title": false,
   "title_cell": "Table of Contents",
   "title_sidebar": "Contents",
   "toc_cell": false,
   "toc_position": {},
   "toc_section_display": true,
   "toc_window_display": false
  },
  "varInspector": {
   "cols": {
    "lenName": 16,
    "lenType": 16,
    "lenVar": 40
   },
   "kernels_config": {
    "python": {
     "delete_cmd_postfix": "",
     "delete_cmd_prefix": "del ",
     "library": "var_list.py",
     "varRefreshCmd": "print(var_dic_list())"
    },
    "r": {
     "delete_cmd_postfix": ") ",
     "delete_cmd_prefix": "rm(",
     "library": "var_list.r",
     "varRefreshCmd": "cat(var_dic_list()) "
    }
   },
   "types_to_exclude": [
    "module",
    "function",
    "builtin_function_or_method",
    "instance",
    "_Feature"
   ],
   "window_display": false
  }
 },
 "nbformat": 4,
 "nbformat_minor": 5
}
