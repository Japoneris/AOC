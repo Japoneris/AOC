{
 "cells": [
  {
   "cell_type": "code",
   "execution_count": 2,
   "id": "careful-latex",
   "metadata": {},
   "outputs": [],
   "source": [
    "with open(\"input/04\", \"r\") as fp:\n",
    "    data = fp.readlines()\n",
    "    \n",
    "def p2(x):\n",
    "    a0, a1 = x.split(\"-\")\n",
    "    return (int(a0), int(a1))\n",
    "\n",
    "def process(x):\n",
    "    a, b = x[:-1].split(\",\")\n",
    "    return p2(a), p2(b)\n",
    "\n",
    "    \n",
    "data1 = list(map(process, data))"
   ]
  },
  {
   "cell_type": "markdown",
   "id": "forced-mills",
   "metadata": {},
   "source": [
    "##### Recovering"
   ]
  },
  {
   "cell_type": "code",
   "execution_count": 4,
   "id": "hazardous-container",
   "metadata": {},
   "outputs": [],
   "source": [
    "cnt = 0\n",
    "for (a0, a1), (b0, b1) in data1:\n",
    "    if ((a0 <= b0) & (a1 >= b1)) | ((a0 >= b0) & (a1 <= b1)):\n",
    "        cnt += 1\n",
    "    "
   ]
  },
  {
   "cell_type": "code",
   "execution_count": 5,
   "id": "velvet-imagination",
   "metadata": {},
   "outputs": [
    {
     "name": "stdout",
     "output_type": "stream",
     "text": [
      "456\n"
     ]
    }
   ],
   "source": [
    "print(cnt)"
   ]
  },
  {
   "cell_type": "markdown",
   "id": "christian-setting",
   "metadata": {},
   "source": [
    "Overlap"
   ]
  },
  {
   "cell_type": "code",
   "execution_count": 8,
   "id": "fiscal-russian",
   "metadata": {},
   "outputs": [],
   "source": [
    "cnt = 0\n",
    "for (a0, a1), (b0, b1) in data1:\n",
    "    x0 = max(a0, b0)\n",
    "    x1 = min(a1, b1)\n",
    "    if x0 <= x1:\n",
    "        cnt += 1 # Overlaping pairs\n",
    "        #cnt += x1 - x0 + 1 # Total overlap\n",
    "    "
   ]
  },
  {
   "cell_type": "markdown",
   "id": "ordinary-regression",
   "metadata": {},
   "source": [
    "21745 too high"
   ]
  },
  {
   "cell_type": "code",
   "execution_count": 9,
   "id": "intensive-lobby",
   "metadata": {},
   "outputs": [
    {
     "name": "stdout",
     "output_type": "stream",
     "text": [
      "808\n"
     ]
    }
   ],
   "source": [
    "print(cnt)"
   ]
  },
  {
   "cell_type": "code",
   "execution_count": null,
   "id": "deluxe-wisdom",
   "metadata": {},
   "outputs": [],
   "source": []
  }
 ],
 "metadata": {
  "kernelspec": {
   "display_name": "Python 3",
   "language": "python",
   "name": "python3"
  },
  "language_info": {
   "codemirror_mode": {
    "name": "ipython",
    "version": 3
   },
   "file_extension": ".py",
   "mimetype": "text/x-python",
   "name": "python",
   "nbconvert_exporter": "python",
   "pygments_lexer": "ipython3",
   "version": "3.6.9"
  },
  "toc": {
   "base_numbering": 1,
   "nav_menu": {},
   "number_sections": true,
   "sideBar": true,
   "skip_h1_title": false,
   "title_cell": "Table of Contents",
   "title_sidebar": "Contents",
   "toc_cell": false,
   "toc_position": {},
   "toc_section_display": true,
   "toc_window_display": false
  },
  "varInspector": {
   "cols": {
    "lenName": 16,
    "lenType": 16,
    "lenVar": 40
   },
   "kernels_config": {
    "python": {
     "delete_cmd_postfix": "",
     "delete_cmd_prefix": "del ",
     "library": "var_list.py",
     "varRefreshCmd": "print(var_dic_list())"
    },
    "r": {
     "delete_cmd_postfix": ") ",
     "delete_cmd_prefix": "rm(",
     "library": "var_list.r",
     "varRefreshCmd": "cat(var_dic_list()) "
    }
   },
   "types_to_exclude": [
    "module",
    "function",
    "builtin_function_or_method",
    "instance",
    "_Feature"
   ],
   "window_display": false
  }
 },
 "nbformat": 4,
 "nbformat_minor": 5
}
