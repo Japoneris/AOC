{
 "cells": [
  {
   "cell_type": "code",
   "execution_count": 5,
   "id": "friendly-university",
   "metadata": {},
   "outputs": [],
   "source": [
    "import json"
   ]
  },
  {
   "cell_type": "code",
   "execution_count": 125,
   "id": "spoken-military",
   "metadata": {},
   "outputs": [],
   "source": [
    "with open(\"input/13\", \"r\") as fp:\n",
    "    data = fp.read()[:-1].split(\"\\n\")"
   ]
  },
  {
   "cell_type": "code",
   "execution_count": 126,
   "id": "threatened-quest",
   "metadata": {},
   "outputs": [],
   "source": [
    "lst_packets = []\n",
    "tmp = []\n",
    "for idx, row in enumerate(data):\n",
    "    if (idx+1) % 3 == 0:\n",
    "        lst_packets.append(tmp)\n",
    "        tmp = []\n",
    "    else:\n",
    "        tmp.append(json.loads(row))\n",
    "\n",
    "if len(tmp) > 0:\n",
    "    lst_packets.append(tmp)\n",
    "    tmp = []\n"
   ]
  },
  {
   "cell_type": "code",
   "execution_count": 33,
   "id": "optimum-remainder",
   "metadata": {},
   "outputs": [],
   "source": [
    "def compare(x0, x1):\n",
    "    \"\"\"Three states:\n",
    "    \n",
    "    - 0: undefined\n",
    "    - 1: Ordered \n",
    "    - 2: Not correctly ordered\n",
    "    \n",
    "    \"\"\"\n",
    "    if isinstance(x0, list) & isinstance(x1, list) :\n",
    "        lmin = min(len(x0), len(x1))\n",
    "        flag = 0\n",
    "        for i in range(lmin):\n",
    "            r = compare(x0[i], x1[i])\n",
    "            if r == 0: # undetermined\n",
    "                continue\n",
    "            elif r == 1: # OK\n",
    "                flag = 1\n",
    "                break\n",
    "            else: # r==2: KO\n",
    "                flag = 2\n",
    "                break\n",
    "                \n",
    "        if flag == 0:\n",
    "            if len(x1) > lmin:\n",
    "                return 1\n",
    "            elif len(x0) > lmin:\n",
    "                return 2\n",
    "            else:\n",
    "                return 0\n",
    "        else:\n",
    "            return flag\n",
    "        \n",
    "    elif isinstance(x0, int) & isinstance(x1, int):\n",
    "        if x0 < x1:\n",
    "            return 1\n",
    "        elif x0 > x1:\n",
    "            return 2\n",
    "        else: \n",
    "            return 0\n",
    "    \n",
    "    else:\n",
    "        if isinstance(x0, int):\n",
    "            return compare([x0], x1)\n",
    "        \n",
    "        else: # x1 is the int\n",
    "            return compare(x0, [x1])"
   ]
  },
  {
   "cell_type": "markdown",
   "id": "dangerous-hypothetical",
   "metadata": {},
   "source": [
    "---"
   ]
  },
  {
   "cell_type": "code",
   "execution_count": 100,
   "id": "concerned-sleeve",
   "metadata": {},
   "outputs": [],
   "source": [
    "cnt = 0\n",
    "\n",
    "for idx, (a, b) in enumerate(lst_packets):\n",
    "    xx = compare(a, b)\n",
    "    if xx == 1:\n",
    "        cnt += (idx+1)\n",
    "    elif xx == 0:\n",
    "        print(idx, \"undetermined\")\n",
    "\n",
    "print(cnt)"
   ]
  },
  {
   "cell_type": "markdown",
   "id": "objective-company",
   "metadata": {},
   "source": [
    "## Part 2"
   ]
  },
  {
   "cell_type": "code",
   "execution_count": 127,
   "id": "charged-minimum",
   "metadata": {},
   "outputs": [],
   "source": [
    "lst_all = [[[2]], [[6]]]\n",
    "\n",
    "for a, b in lst_packets:\n",
    "    xx = compare(a, b)\n",
    "    if xx == 1:\n",
    "        lst_all.append(a)\n",
    "        lst_all.append(b)\n",
    "    else:\n",
    "        lst_all.append(b)\n",
    "        lst_all.append(a)\n",
    "    \n",
    "    "
   ]
  },
  {
   "cell_type": "code",
   "execution_count": 128,
   "id": "resistant-patient",
   "metadata": {},
   "outputs": [],
   "source": [
    "lst_score = []\n",
    "for idx, a in enumerate(lst_all):\n",
    "    \n",
    "    lst_score.append([idx, len(list(filter(lambda x: compare(a, x) == 2, lst_all)))])\n",
    "    "
   ]
  },
  {
   "cell_type": "code",
   "execution_count": 136,
   "id": "intelligent-hierarchy",
   "metadata": {},
   "outputs": [
    {
     "name": "stdout",
     "output_type": "stream",
     "text": [
      "21614\n"
     ]
    }
   ],
   "source": [
    "print((lst_score[0][1] + 1) * (lst_score[1][1]+1))"
   ]
  }
 ],
 "metadata": {
  "kernelspec": {
   "display_name": "Python 3",
   "language": "python",
   "name": "python3"
  },
  "language_info": {
   "codemirror_mode": {
    "name": "ipython",
    "version": 3
   },
   "file_extension": ".py",
   "mimetype": "text/x-python",
   "name": "python",
   "nbconvert_exporter": "python",
   "pygments_lexer": "ipython3",
   "version": "3.6.9"
  },
  "toc": {
   "base_numbering": 1,
   "nav_menu": {},
   "number_sections": true,
   "sideBar": true,
   "skip_h1_title": false,
   "title_cell": "Table of Contents",
   "title_sidebar": "Contents",
   "toc_cell": false,
   "toc_position": {},
   "toc_section_display": true,
   "toc_window_display": false
  },
  "varInspector": {
   "cols": {
    "lenName": 16,
    "lenType": 16,
    "lenVar": 40
   },
   "kernels_config": {
    "python": {
     "delete_cmd_postfix": "",
     "delete_cmd_prefix": "del ",
     "library": "var_list.py",
     "varRefreshCmd": "print(var_dic_list())"
    },
    "r": {
     "delete_cmd_postfix": ") ",
     "delete_cmd_prefix": "rm(",
     "library": "var_list.r",
     "varRefreshCmd": "cat(var_dic_list()) "
    }
   },
   "types_to_exclude": [
    "module",
    "function",
    "builtin_function_or_method",
    "instance",
    "_Feature"
   ],
   "window_display": false
  }
 },
 "nbformat": 4,
 "nbformat_minor": 5
}
