{
 "cells": [
  {
   "cell_type": "code",
   "execution_count": 15,
   "id": "wrong-event",
   "metadata": {},
   "outputs": [],
   "source": [
    "with open(\"input/09\", \"r\") as fp:\n",
    "    data = fp.read()[:-1].split('\\n')"
   ]
  },
  {
   "cell_type": "code",
   "execution_count": 34,
   "id": "bronze-dutch",
   "metadata": {},
   "outputs": [],
   "source": [
    "xh, yh = (0, 0)\n",
    "xt, yt = (0, 0)\n",
    "\n",
    "S = []\n",
    "\n",
    "dic_moves = {\"L\": (0, -1), \"R\": (0, +1), \"U\":(-1, 0), \"D\": (1, 0)}\n",
    "\n",
    "for row in data:\n",
    "    a, b = row.split()\n",
    "    b = int(b)\n",
    "    \n",
    "    for _ in range(b):\n",
    "        dr, dc = dic_moves[a]\n",
    "        xh += dr \n",
    "        yh += dc \n",
    "\n",
    "        dx = xh - xt\n",
    "        dy = yh - yt\n",
    "        \n",
    "        if (abs(dx) > 1) & (dy == 0):\n",
    "            xt += np.sign(dx)\n",
    "            \n",
    "        elif (abs(dy) > 1) & (dx == 0):\n",
    "            yt += np.sign(dy)\n",
    "            \n",
    "        elif (abs(dx) > 1) | (abs(dy) > 1):\n",
    "            xt += np.sign(dx)\n",
    "            yt += np.sign(dy)\n",
    "            \n",
    "        \n",
    "\n",
    "        S.append(\"{},{}\".format(xt, yt))"
   ]
  },
  {
   "cell_type": "code",
   "execution_count": 36,
   "id": "residential-austin",
   "metadata": {},
   "outputs": [
    {
     "data": {
      "text/plain": [
       "5960"
      ]
     },
     "execution_count": 36,
     "metadata": {},
     "output_type": "execute_result"
    }
   ],
   "source": [
    "# Number of moves for the head\n",
    "print(len(set(list(map(str,S)))))"
   ]
  },
  {
   "cell_type": "markdown",
   "id": "north-credits",
   "metadata": {},
   "source": [
    "---"
   ]
  },
  {
   "cell_type": "code",
   "execution_count": 16,
   "id": "stuck-scholarship",
   "metadata": {},
   "outputs": [],
   "source": [
    "lst_pos = [[0, 0] for _ in range(10)]\n",
    "\n",
    "\n",
    "\n",
    "S = []\n",
    "\n",
    "dic_moves = {\"L\": (0, -1), \"R\": (0, +1), \"U\":(-1, 0), \"D\": (1, 0)}\n",
    "\n",
    "for row in data:\n",
    "    a, b = row.split()\n",
    "    b = int(b)\n",
    "    \n",
    "    for _ in range(b):\n",
    "        dr, dc = dic_moves[a]\n",
    "        lst_pos[0][0] += dr\n",
    "        lst_pos[0][1] += dc\n",
    "        \n",
    "        # Loop on the snake\n",
    "        for i in range(9):\n",
    "            x0, y0 = lst_pos[i]\n",
    "            x1, y1 = lst_pos[i+1]\n",
    "\n",
    "            dx = x0 - x1\n",
    "            dy = y0 - y1\n",
    "\n",
    "            if (abs(dx) > 1) & (dy == 0):\n",
    "                lst_pos[i+1][0] += np.sign(dx)\n",
    "\n",
    "            elif (abs(dy) > 1) & (dx == 0):\n",
    "                lst_pos[i+1][1] += np.sign(dy)\n",
    "\n",
    "            elif (abs(dx) > 1) | (abs(dy) > 1):\n",
    "                lst_pos[i+1][0] += np.sign(dx)\n",
    "                lst_pos[i+1][1] += np.sign(dy)\n",
    "\n",
    "        \n",
    "        # Remember the location of the tail\n",
    "        S.append(\"{},{}\".format(lst_pos[-1][0], lst_pos[-1][1]))"
   ]
  },
  {
   "cell_type": "code",
   "execution_count": 17,
   "id": "turkish-nation",
   "metadata": {},
   "outputs": [
    {
     "name": "stdout",
     "output_type": "stream",
     "text": [
      "2327\n"
     ]
    }
   ],
   "source": [
    "# Number of moves for the tail\n",
    "print(len(set(list(map(str,S)))))"
   ]
  }
 ],
 "metadata": {
  "kernelspec": {
   "display_name": "Python 3",
   "language": "python",
   "name": "python3"
  },
  "language_info": {
   "codemirror_mode": {
    "name": "ipython",
    "version": 3
   },
   "file_extension": ".py",
   "mimetype": "text/x-python",
   "name": "python",
   "nbconvert_exporter": "python",
   "pygments_lexer": "ipython3",
   "version": "3.6.9"
  },
  "toc": {
   "base_numbering": 1,
   "nav_menu": {},
   "number_sections": true,
   "sideBar": true,
   "skip_h1_title": false,
   "title_cell": "Table of Contents",
   "title_sidebar": "Contents",
   "toc_cell": false,
   "toc_position": {},
   "toc_section_display": true,
   "toc_window_display": false
  },
  "varInspector": {
   "cols": {
    "lenName": 16,
    "lenType": 16,
    "lenVar": 40
   },
   "kernels_config": {
    "python": {
     "delete_cmd_postfix": "",
     "delete_cmd_prefix": "del ",
     "library": "var_list.py",
     "varRefreshCmd": "print(var_dic_list())"
    },
    "r": {
     "delete_cmd_postfix": ") ",
     "delete_cmd_prefix": "rm(",
     "library": "var_list.r",
     "varRefreshCmd": "cat(var_dic_list()) "
    }
   },
   "types_to_exclude": [
    "module",
    "function",
    "builtin_function_or_method",
    "instance",
    "_Feature"
   ],
   "window_display": false
  }
 },
 "nbformat": 4,
 "nbformat_minor": 5
}
