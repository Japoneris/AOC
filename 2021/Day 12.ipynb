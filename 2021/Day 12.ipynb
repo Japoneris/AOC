{
 "cells": [
  {
   "cell_type": "code",
   "execution_count": 120,
   "id": "structural-redhead",
   "metadata": {},
   "outputs": [],
   "source": [
    "data = None\n",
    "with open(\"input_12.txt\", \"r\") as fp:\n",
    "    data = fp.readlines()\n",
    "\n",
    "data = list(map(lambda x: x.rstrip().split('-'), data))"
   ]
  },
  {
   "cell_type": "markdown",
   "id": "surrounded-harris",
   "metadata": {},
   "source": [
    "---"
   ]
  },
  {
   "cell_type": "code",
   "execution_count": 121,
   "id": "outdoor-ireland",
   "metadata": {},
   "outputs": [],
   "source": [
    "lst = []\n",
    "for a, b in data:\n",
    "    lst.extend([a, b])\n",
    "\n",
    "caves = set(lst)"
   ]
  },
  {
   "cell_type": "code",
   "execution_count": 122,
   "id": "expensive-integrity",
   "metadata": {},
   "outputs": [],
   "source": [
    "dic_transition = dict([(c, []) for c in caves])\n",
    "for a, b in data:\n",
    "    dic_transition[a].append(b)\n",
    "    dic_transition[b].append(a)\n"
   ]
  },
  {
   "cell_type": "markdown",
   "id": "civilian-highlight",
   "metadata": {
    "heading_collapsed": true
   },
   "source": [
    "# Part 1"
   ]
  },
  {
   "cell_type": "code",
   "execution_count": 98,
   "id": "shared-nashville",
   "metadata": {
    "hidden": true
   },
   "outputs": [],
   "source": [
    "def count_path(pos, visited=None):\n",
    "    \n",
    "    if pos == \"end\":\n",
    "        return 1\n",
    "    \n",
    "    if visited is None:\n",
    "        visited = {\"start\"}\n",
    "        \n",
    "    cnt = 0\n",
    "    for b in dic_transition[pos]:\n",
    "            \n",
    "        if b not in visited:\n",
    "            if b.islower():\n",
    "                cnt += count_path(b, visited | {b})\n",
    "            else:\n",
    "                cnt += count_path(b, visited)\n",
    "    \n",
    "    return cnt\n",
    "        \n",
    "    \n",
    "    "
   ]
  },
  {
   "cell_type": "code",
   "execution_count": 99,
   "id": "listed-bridal",
   "metadata": {
    "hidden": true
   },
   "outputs": [
    {
     "data": {
      "text/plain": [
       "19"
      ]
     },
     "execution_count": 99,
     "metadata": {},
     "output_type": "execute_result"
    }
   ],
   "source": [
    "count_path(\"start\", {\"start\"})"
   ]
  },
  {
   "cell_type": "markdown",
   "id": "occupied-japan",
   "metadata": {},
   "source": [
    "# Part 2\n",
    "\n",
    "- One Small cave can be visited twice.\n",
    "- Other small cave can be visited once."
   ]
  },
  {
   "cell_type": "code",
   "execution_count": 123,
   "id": "vital-rwanda",
   "metadata": {},
   "outputs": [],
   "source": [
    "def count_path3(pos, visited=None, flag=False):\n",
    "    \n",
    "    if pos == \"end\":\n",
    "        return 1\n",
    "    \n",
    "    if visited is None:\n",
    "        visited = {\"start\"}\n",
    "        \n",
    "    cnt = 0\n",
    "    for b in dic_transition[pos]:\n",
    "        if b == \"start\":\n",
    "            continue\n",
    "        elif b.islower():\n",
    "            if flag & (b in visited):\n",
    "                continue\n",
    "            elif b in visited:\n",
    "                # b turn the flag on\n",
    "                cnt += count_path3(b, visited | {b}, True)\n",
    "            else: # b not in visited, and flag unknown\n",
    "                cnt += count_path3(b, visited | {b}, flag)\n",
    "        else:\n",
    "            cnt += count_path3(b, visited, flag)\n",
    "            \n",
    "    return cnt\n",
    "        \n",
    "    \n",
    "    "
   ]
  },
  {
   "cell_type": "code",
   "execution_count": 124,
   "id": "compliant-height",
   "metadata": {},
   "outputs": [
    {
     "data": {
      "text/plain": [
       "104834"
      ]
     },
     "execution_count": 124,
     "metadata": {},
     "output_type": "execute_result"
    }
   ],
   "source": [
    "count_path3(\"start\")"
   ]
  }
 ],
 "metadata": {
  "kernelspec": {
   "display_name": "Python 3",
   "language": "python",
   "name": "python3"
  },
  "language_info": {
   "codemirror_mode": {
    "name": "ipython",
    "version": 3
   },
   "file_extension": ".py",
   "mimetype": "text/x-python",
   "name": "python",
   "nbconvert_exporter": "python",
   "pygments_lexer": "ipython3",
   "version": "3.6.9"
  },
  "toc": {
   "base_numbering": 1,
   "nav_menu": {},
   "number_sections": true,
   "sideBar": true,
   "skip_h1_title": false,
   "title_cell": "Table of Contents",
   "title_sidebar": "Contents",
   "toc_cell": false,
   "toc_position": {},
   "toc_section_display": true,
   "toc_window_display": false
  },
  "varInspector": {
   "cols": {
    "lenName": 16,
    "lenType": 16,
    "lenVar": 40
   },
   "kernels_config": {
    "python": {
     "delete_cmd_postfix": "",
     "delete_cmd_prefix": "del ",
     "library": "var_list.py",
     "varRefreshCmd": "print(var_dic_list())"
    },
    "r": {
     "delete_cmd_postfix": ") ",
     "delete_cmd_prefix": "rm(",
     "library": "var_list.r",
     "varRefreshCmd": "cat(var_dic_list()) "
    }
   },
   "types_to_exclude": [
    "module",
    "function",
    "builtin_function_or_method",
    "instance",
    "_Feature"
   ],
   "window_display": false
  }
 },
 "nbformat": 4,
 "nbformat_minor": 5
}
