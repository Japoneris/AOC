{
 "cells": [
  {
   "cell_type": "code",
   "execution_count": 33,
   "id": "sonic-leisure",
   "metadata": {},
   "outputs": [],
   "source": [
    "data = None\n",
    "with open(\"input_14.txt\", \"r\") as fp:\n",
    "    data = fp.readlines()\n",
    "\n",
    "pattern = data[0].rstrip()\n",
    "\n",
    "rules = list(map(lambda x: x.rstrip().split(\" -> \"), data[2:]))\n",
    "\n",
    "dic_rules = dict(rules)"
   ]
  },
  {
   "cell_type": "markdown",
   "id": "legal-anxiety",
   "metadata": {},
   "source": [
    "---"
   ]
  },
  {
   "cell_type": "markdown",
   "id": "effective-semester",
   "metadata": {},
   "source": [
    "# Part 1"
   ]
  },
  {
   "cell_type": "code",
   "execution_count": 24,
   "id": "introductory-professor",
   "metadata": {},
   "outputs": [],
   "source": [
    "def update_pattern(pattern, dic_rules):\n",
    "    pattern1 = \"\"\n",
    "    for i, c in enumerate(pattern[1:]):\n",
    "        c0 = pattern[i]\n",
    "        pattern1 += c0\n",
    "        pattern1 += dic_rules[c0 + c]\n",
    "\n",
    "    pattern1 += pattern[-1]\n",
    "    return pattern1\n"
   ]
  },
  {
   "cell_type": "code",
   "execution_count": 38,
   "id": "primary-continent",
   "metadata": {},
   "outputs": [],
   "source": [
    "pattern1 = pattern\n",
    "for _ in range(10):\n",
    "    pattern1 = update_pattern(pattern1, dic_rules)"
   ]
  },
  {
   "cell_type": "code",
   "execution_count": 39,
   "id": "banned-china",
   "metadata": {},
   "outputs": [],
   "source": [
    "letters = set(pattern1)\n",
    "m0 = 100000000000\n",
    "m1 = 0\n",
    "for c in letters:\n",
    "    m = pattern1.count(c)\n",
    "    m0 = min(m, m0)\n",
    "    m1 = max(m, m1)    "
   ]
  },
  {
   "cell_type": "code",
   "execution_count": 40,
   "id": "unlikely-virtue",
   "metadata": {},
   "outputs": [
    {
     "name": "stdout",
     "output_type": "stream",
     "text": [
      "Min: 613\n",
      "Max: 4857\n",
      "Delta: 4244\n"
     ]
    }
   ],
   "source": [
    "print(\"Min: {}\".format(m0))\n",
    "print(\"Max: {}\".format(m1))\n",
    "print(\"Delta: {}\".format(m1 - m0))\n"
   ]
  },
  {
   "cell_type": "markdown",
   "id": "empty-blind",
   "metadata": {},
   "source": [
    "---"
   ]
  },
  {
   "cell_type": "markdown",
   "id": "human-yahoo",
   "metadata": {},
   "source": [
    "# Part2"
   ]
  },
  {
   "cell_type": "code",
   "execution_count": 57,
   "id": "faced-electricity",
   "metadata": {},
   "outputs": [],
   "source": [
    "l = len(rules)\n",
    "arr = [pattern.count(x) for x, y in rules]\n",
    "dico = dict([(rx, idx) for idx, (rx, _) in enumerate(rules)])\n",
    "\n",
    "for _ in range(40):\n",
    "    arr1 = [0 for _ in range(l)]\n",
    "    for xi, xj in rules:\n",
    "        a = xi[0] + xj\n",
    "        b = xj + xi[1]\n",
    "\n",
    "        arr1[dico[a]] += arr[dico[xi]]\n",
    "        arr1[dico[b]] += arr[dico[xi]]\n",
    "    arr = arr1"
   ]
  },
  {
   "cell_type": "code",
   "execution_count": 58,
   "id": "metropolitan-houston",
   "metadata": {},
   "outputs": [
    {
     "name": "stdout",
     "output_type": "stream",
     "text": [
      "HV 0\n",
      "KS 0\n",
      "NH 22033803297\n",
      "OP 315522931462\n",
      "OV 768774473143\n",
      "HN 26233358953\n",
      "FF 0\n",
      "CP 286658766306\n",
      "NV 0\n",
      "VB 0\n",
      "KC 161791217672\n",
      "CS 26913134740\n",
      "VC 89975202755\n",
      "HF 0\n",
      "NK 0\n",
      "CF 255009641092\n",
      "HH 0\n",
      "FP 344398459373\n",
      "OH 8854333452\n",
      "NN 52289592657\n",
      "VK 44990605489\n",
      "FB 0\n",
      "VP 469860536755\n",
      "FC 311090006451\n",
      "SV 263583752118\n",
      "NO 25052265402\n",
      "VN 313237328370\n",
      "CH 39684712845\n",
      "FN 100203596296\n",
      "FV 131789355933\n",
      "CN 52506953727\n",
      "PS 165580141\n",
      "VF 44988151358\n",
      "BN 0\n",
      "FK 370413997954\n",
      "BB 619045995106\n",
      "VO 939718636484\n",
      "KN 4403676770\n",
      "ON 13104241864\n",
      "BO 4475681134\n",
      "VS 341893725810\n",
      "PK 48808379232\n",
      "SK 97615845254\n",
      "KF 1027250424842\n",
      "CK 276386058631\n",
      "PB 13451353892\n",
      "PF 0\n",
      "KB 0\n",
      "CC 133552986905\n",
      "OK 557182310204\n",
      "CV 384390822673\n",
      "PO 957394078590\n",
      "SH 0\n",
      "NP 245935505700\n",
      "CO 510005008322\n",
      "SS 102334155\n",
      "FO 740817587211\n",
      "NS 50110505380\n",
      "PN 0\n",
      "PV 696125783154\n",
      "KP 188923387140\n",
      "BK 618616834434\n",
      "BP 0\n",
      "NB 107711153110\n",
      "OF 455470097924\n",
      "OC 781852063708\n",
      "HO 174641088804\n",
      "SC 1116558061\n",
      "HC 174699504226\n",
      "HS 13451353892\n",
      "KH 4421400313\n",
      "FS 100229631903\n",
      "PH 17727392973\n",
      "PC 179949997864\n",
      "BS 8958123339\n",
      "KO 627223924461\n",
      "SP 62322979110\n",
      "OB 880331445709\n",
      "SF 131789355933\n",
      "KV 0\n",
      "NC 92502734543\n",
      "SO 2235736935\n",
      "CB 53842669048\n",
      "VH 0\n",
      "FH 0\n",
      "SN 156616802931\n",
      "SB 26913134740\n",
      "PP 0\n",
      "BF 61474972493\n",
      "HB 323017487611\n",
      "OO 1537535740010\n",
      "HP 0\n",
      "KK 513622025166\n",
      "BV 0\n",
      "BH 619321150606\n",
      "HK 0\n",
      "BC 92420482104\n",
      "VV 370556898243\n",
      "OS 200472109877\n",
      "NF 122959991479\n"
     ]
    }
   ],
   "source": [
    "letters = set(list(map(lambda x: x[0],dico)))\n",
    "letter_count = dict([(c, 0) for c in letters])\n",
    "for cc, idx in dico.items():\n",
    "    letter_count[cc[0]] += arr[idx]\n",
    "    letter_count[cc[1]] += arr[idx]    "
   ]
  },
  {
   "cell_type": "code",
   "execution_count": 59,
   "id": "serial-friendly",
   "metadata": {},
   "outputs": [],
   "source": [
    "letter_count[pattern[0]] += 1\n",
    "letter_count[pattern[-1]] += 1"
   ]
  },
  {
   "cell_type": "code",
   "execution_count": 63,
   "id": "consecutive-paste",
   "metadata": {},
   "outputs": [],
   "source": [
    "m0 = 100000000000000\n",
    "m1 = 0\n",
    "\n",
    "for c in letter_count.values():\n",
    "    m = c/2\n",
    "    m0 = min(m0, m)\n",
    "    m1 = max(m1, m)\n"
   ]
  },
  {
   "cell_type": "code",
   "execution_count": 64,
   "id": "industrial-arctic",
   "metadata": {},
   "outputs": [
    {
     "name": "stdout",
     "output_type": "stream",
     "text": [
      "Min: 712042793487.0\n",
      "Max: 5519099747353.0\n",
      "Delta: 4807056953866.0\n"
     ]
    }
   ],
   "source": [
    "print(\"Min: {}\".format(m0))\n",
    "print(\"Max: {}\".format(m1))\n",
    "print(\"Delta: {}\".format(m1 - m0))\n"
   ]
  }
 ],
 "metadata": {
  "kernelspec": {
   "display_name": "Python 3",
   "language": "python",
   "name": "python3"
  },
  "language_info": {
   "codemirror_mode": {
    "name": "ipython",
    "version": 3
   },
   "file_extension": ".py",
   "mimetype": "text/x-python",
   "name": "python",
   "nbconvert_exporter": "python",
   "pygments_lexer": "ipython3",
   "version": "3.6.9"
  },
  "toc": {
   "base_numbering": 1,
   "nav_menu": {},
   "number_sections": true,
   "sideBar": true,
   "skip_h1_title": false,
   "title_cell": "Table of Contents",
   "title_sidebar": "Contents",
   "toc_cell": false,
   "toc_position": {},
   "toc_section_display": true,
   "toc_window_display": false
  },
  "varInspector": {
   "cols": {
    "lenName": 16,
    "lenType": 16,
    "lenVar": 40
   },
   "kernels_config": {
    "python": {
     "delete_cmd_postfix": "",
     "delete_cmd_prefix": "del ",
     "library": "var_list.py",
     "varRefreshCmd": "print(var_dic_list())"
    },
    "r": {
     "delete_cmd_postfix": ") ",
     "delete_cmd_prefix": "rm(",
     "library": "var_list.r",
     "varRefreshCmd": "cat(var_dic_list()) "
    }
   },
   "types_to_exclude": [
    "module",
    "function",
    "builtin_function_or_method",
    "instance",
    "_Feature"
   ],
   "window_display": false
  }
 },
 "nbformat": 4,
 "nbformat_minor": 5
}
